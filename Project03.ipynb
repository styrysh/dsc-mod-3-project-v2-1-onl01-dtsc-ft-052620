{
 "cells": [
  {
   "cell_type": "code",
   "execution_count": 1,
   "metadata": {},
   "outputs": [],
   "source": [
    "import numpy as np \n",
    "import pandas as pd \n",
    "import matplotlib.pyplot as plt\n",
    "from sklearn.model_selection import train_test_split\n",
    "from sklearn.tree import DecisionTreeClassifier \n",
    "from sklearn.metrics import accuracy_score\n",
    "from sklearn.preprocessing import OneHotEncoder\n",
    "from sklearn import tree"
   ]
  },
  {
   "cell_type": "code",
   "execution_count": 3,
   "metadata": {},
   "outputs": [
    {
     "data": {
      "text/html": [
       "<div>\n",
       "<style scoped>\n",
       "    .dataframe tbody tr th:only-of-type {\n",
       "        vertical-align: middle;\n",
       "    }\n",
       "\n",
       "    .dataframe tbody tr th {\n",
       "        vertical-align: top;\n",
       "    }\n",
       "\n",
       "    .dataframe thead th {\n",
       "        text-align: right;\n",
       "    }\n",
       "</style>\n",
       "<table border=\"1\" class=\"dataframe\">\n",
       "  <thead>\n",
       "    <tr style=\"text-align: right;\">\n",
       "      <th></th>\n",
       "      <th>CRASH_RECORD_ID</th>\n",
       "      <th>RD_NO</th>\n",
       "      <th>CRASH_DATE_EST_I</th>\n",
       "      <th>CRASH_DATE</th>\n",
       "      <th>POSTED_SPEED_LIMIT</th>\n",
       "      <th>TRAFFIC_CONTROL_DEVICE</th>\n",
       "      <th>DEVICE_CONDITION</th>\n",
       "      <th>WEATHER_CONDITION</th>\n",
       "      <th>LIGHTING_CONDITION</th>\n",
       "      <th>FIRST_CRASH_TYPE</th>\n",
       "      <th>...</th>\n",
       "      <th>INJURIES_NON_INCAPACITATING</th>\n",
       "      <th>INJURIES_REPORTED_NOT_EVIDENT</th>\n",
       "      <th>INJURIES_NO_INDICATION</th>\n",
       "      <th>INJURIES_UNKNOWN</th>\n",
       "      <th>CRASH_HOUR</th>\n",
       "      <th>CRASH_DAY_OF_WEEK</th>\n",
       "      <th>CRASH_MONTH</th>\n",
       "      <th>LATITUDE</th>\n",
       "      <th>LONGITUDE</th>\n",
       "      <th>LOCATION</th>\n",
       "    </tr>\n",
       "  </thead>\n",
       "  <tbody>\n",
       "    <tr>\n",
       "      <td>0</td>\n",
       "      <td>073682ef84ff827659552d4254ad1b98bfec24935cc9cc...</td>\n",
       "      <td>JB460108</td>\n",
       "      <td>NaN</td>\n",
       "      <td>10/02/2018 06:30:00 PM</td>\n",
       "      <td>10</td>\n",
       "      <td>NO CONTROLS</td>\n",
       "      <td>NO CONTROLS</td>\n",
       "      <td>CLEAR</td>\n",
       "      <td>DARKNESS</td>\n",
       "      <td>PARKED MOTOR VEHICLE</td>\n",
       "      <td>...</td>\n",
       "      <td>0.0</td>\n",
       "      <td>0.0</td>\n",
       "      <td>1.0</td>\n",
       "      <td>0.0</td>\n",
       "      <td>18</td>\n",
       "      <td>3</td>\n",
       "      <td>10</td>\n",
       "      <td>NaN</td>\n",
       "      <td>NaN</td>\n",
       "      <td>NaN</td>\n",
       "    </tr>\n",
       "    <tr>\n",
       "      <td>1</td>\n",
       "      <td>1560fb8a1e32b528fef8bfd677d2b3fc5ab37278b157fa...</td>\n",
       "      <td>JC325941</td>\n",
       "      <td>NaN</td>\n",
       "      <td>06/27/2019 04:00:00 PM</td>\n",
       "      <td>45</td>\n",
       "      <td>NO CONTROLS</td>\n",
       "      <td>NO CONTROLS</td>\n",
       "      <td>CLEAR</td>\n",
       "      <td>DAYLIGHT</td>\n",
       "      <td>SIDESWIPE SAME DIRECTION</td>\n",
       "      <td>...</td>\n",
       "      <td>0.0</td>\n",
       "      <td>0.0</td>\n",
       "      <td>2.0</td>\n",
       "      <td>0.0</td>\n",
       "      <td>16</td>\n",
       "      <td>5</td>\n",
       "      <td>6</td>\n",
       "      <td>NaN</td>\n",
       "      <td>NaN</td>\n",
       "      <td>NaN</td>\n",
       "    </tr>\n",
       "    <tr>\n",
       "      <td>2</td>\n",
       "      <td>009e9e67203442370272e1a13d6ee51a4155dac65e583d...</td>\n",
       "      <td>JA329216</td>\n",
       "      <td>NaN</td>\n",
       "      <td>06/30/2017 04:00:00 PM</td>\n",
       "      <td>35</td>\n",
       "      <td>STOP SIGN/FLASHER</td>\n",
       "      <td>FUNCTIONING PROPERLY</td>\n",
       "      <td>CLEAR</td>\n",
       "      <td>DAYLIGHT</td>\n",
       "      <td>TURNING</td>\n",
       "      <td>...</td>\n",
       "      <td>0.0</td>\n",
       "      <td>0.0</td>\n",
       "      <td>3.0</td>\n",
       "      <td>0.0</td>\n",
       "      <td>16</td>\n",
       "      <td>6</td>\n",
       "      <td>6</td>\n",
       "      <td>41.741804</td>\n",
       "      <td>-87.740954</td>\n",
       "      <td>POINT (-87.740953581987 41.741803598989)</td>\n",
       "    </tr>\n",
       "    <tr>\n",
       "      <td>3</td>\n",
       "      <td>00e47f189660cd8ba1e85fc63061bf1d8465184393f134...</td>\n",
       "      <td>JC194776</td>\n",
       "      <td>NaN</td>\n",
       "      <td>03/21/2019 10:50:00 PM</td>\n",
       "      <td>30</td>\n",
       "      <td>TRAFFIC SIGNAL</td>\n",
       "      <td>FUNCTIONING PROPERLY</td>\n",
       "      <td>CLEAR</td>\n",
       "      <td>DARKNESS, LIGHTED ROAD</td>\n",
       "      <td>TURNING</td>\n",
       "      <td>...</td>\n",
       "      <td>0.0</td>\n",
       "      <td>0.0</td>\n",
       "      <td>2.0</td>\n",
       "      <td>0.0</td>\n",
       "      <td>22</td>\n",
       "      <td>5</td>\n",
       "      <td>3</td>\n",
       "      <td>41.741804</td>\n",
       "      <td>-87.740954</td>\n",
       "      <td>POINT (-87.740953581987 41.741803598989)</td>\n",
       "    </tr>\n",
       "    <tr>\n",
       "      <td>4</td>\n",
       "      <td>0126747fc9ffc0edc9a38abb83d80034f897db0f739eef...</td>\n",
       "      <td>JB200478</td>\n",
       "      <td>NaN</td>\n",
       "      <td>03/26/2018 02:23:00 PM</td>\n",
       "      <td>35</td>\n",
       "      <td>NO CONTROLS</td>\n",
       "      <td>NO CONTROLS</td>\n",
       "      <td>CLEAR</td>\n",
       "      <td>DAYLIGHT</td>\n",
       "      <td>PARKED MOTOR VEHICLE</td>\n",
       "      <td>...</td>\n",
       "      <td>0.0</td>\n",
       "      <td>0.0</td>\n",
       "      <td>2.0</td>\n",
       "      <td>0.0</td>\n",
       "      <td>14</td>\n",
       "      <td>2</td>\n",
       "      <td>3</td>\n",
       "      <td>41.953647</td>\n",
       "      <td>-87.732082</td>\n",
       "      <td>POINT (-87.732081736006 41.953646899951)</td>\n",
       "    </tr>\n",
       "  </tbody>\n",
       "</table>\n",
       "<p>5 rows × 49 columns</p>\n",
       "</div>"
      ],
      "text/plain": [
       "                                     CRASH_RECORD_ID     RD_NO  \\\n",
       "0  073682ef84ff827659552d4254ad1b98bfec24935cc9cc...  JB460108   \n",
       "1  1560fb8a1e32b528fef8bfd677d2b3fc5ab37278b157fa...  JC325941   \n",
       "2  009e9e67203442370272e1a13d6ee51a4155dac65e583d...  JA329216   \n",
       "3  00e47f189660cd8ba1e85fc63061bf1d8465184393f134...  JC194776   \n",
       "4  0126747fc9ffc0edc9a38abb83d80034f897db0f739eef...  JB200478   \n",
       "\n",
       "  CRASH_DATE_EST_I              CRASH_DATE  POSTED_SPEED_LIMIT  \\\n",
       "0              NaN  10/02/2018 06:30:00 PM                  10   \n",
       "1              NaN  06/27/2019 04:00:00 PM                  45   \n",
       "2              NaN  06/30/2017 04:00:00 PM                  35   \n",
       "3              NaN  03/21/2019 10:50:00 PM                  30   \n",
       "4              NaN  03/26/2018 02:23:00 PM                  35   \n",
       "\n",
       "  TRAFFIC_CONTROL_DEVICE      DEVICE_CONDITION WEATHER_CONDITION  \\\n",
       "0            NO CONTROLS           NO CONTROLS             CLEAR   \n",
       "1            NO CONTROLS           NO CONTROLS             CLEAR   \n",
       "2      STOP SIGN/FLASHER  FUNCTIONING PROPERLY             CLEAR   \n",
       "3         TRAFFIC SIGNAL  FUNCTIONING PROPERLY             CLEAR   \n",
       "4            NO CONTROLS           NO CONTROLS             CLEAR   \n",
       "\n",
       "       LIGHTING_CONDITION          FIRST_CRASH_TYPE  ...  \\\n",
       "0                DARKNESS      PARKED MOTOR VEHICLE  ...   \n",
       "1                DAYLIGHT  SIDESWIPE SAME DIRECTION  ...   \n",
       "2                DAYLIGHT                   TURNING  ...   \n",
       "3  DARKNESS, LIGHTED ROAD                   TURNING  ...   \n",
       "4                DAYLIGHT      PARKED MOTOR VEHICLE  ...   \n",
       "\n",
       "  INJURIES_NON_INCAPACITATING  INJURIES_REPORTED_NOT_EVIDENT  \\\n",
       "0                         0.0                            0.0   \n",
       "1                         0.0                            0.0   \n",
       "2                         0.0                            0.0   \n",
       "3                         0.0                            0.0   \n",
       "4                         0.0                            0.0   \n",
       "\n",
       "  INJURIES_NO_INDICATION INJURIES_UNKNOWN CRASH_HOUR CRASH_DAY_OF_WEEK  \\\n",
       "0                    1.0              0.0         18                 3   \n",
       "1                    2.0              0.0         16                 5   \n",
       "2                    3.0              0.0         16                 6   \n",
       "3                    2.0              0.0         22                 5   \n",
       "4                    2.0              0.0         14                 2   \n",
       "\n",
       "  CRASH_MONTH   LATITUDE  LONGITUDE                                  LOCATION  \n",
       "0          10        NaN        NaN                                       NaN  \n",
       "1           6        NaN        NaN                                       NaN  \n",
       "2           6  41.741804 -87.740954  POINT (-87.740953581987 41.741803598989)  \n",
       "3           3  41.741804 -87.740954  POINT (-87.740953581987 41.741803598989)  \n",
       "4           3  41.953647 -87.732082  POINT (-87.732081736006 41.953646899951)  \n",
       "\n",
       "[5 rows x 49 columns]"
      ]
     },
     "execution_count": 3,
     "metadata": {},
     "output_type": "execute_result"
    }
   ],
   "source": [
    "import pandas as pd\n",
    "data = pd.read_csv('Traffic_Crashes_-_Crashes.csv')\n",
    "data.head()"
   ]
  },
  {
   "cell_type": "code",
   "execution_count": 4,
   "metadata": {},
   "outputs": [
    {
     "data": {
      "text/plain": [
       "401609"
      ]
     },
     "execution_count": 4,
     "metadata": {},
     "output_type": "execute_result"
    }
   ],
   "source": [
    "##Data cleaning\n",
    "data.describe()\n",
    "data['LATITUDE'].isna().sum()\n",
    "data['LONGITUDE'].isna().sum()\n",
    "data['CRASH_DATE_EST_I'].isna().sum()"
   ]
  },
  {
   "cell_type": "code",
   "execution_count": 5,
   "metadata": {},
   "outputs": [
    {
     "name": "stdout",
     "output_type": "stream",
     "text": [
      "<class 'pandas.core.frame.DataFrame'>\n",
      "RangeIndex: 433850 entries, 0 to 433849\n",
      "Data columns (total 49 columns):\n",
      "CRASH_RECORD_ID                  433850 non-null object\n",
      "RD_NO                            429878 non-null object\n",
      "CRASH_DATE_EST_I                 32241 non-null object\n",
      "CRASH_DATE                       433850 non-null object\n",
      "POSTED_SPEED_LIMIT               433850 non-null int64\n",
      "TRAFFIC_CONTROL_DEVICE           433850 non-null object\n",
      "DEVICE_CONDITION                 433850 non-null object\n",
      "WEATHER_CONDITION                433850 non-null object\n",
      "LIGHTING_CONDITION               433850 non-null object\n",
      "FIRST_CRASH_TYPE                 433850 non-null object\n",
      "TRAFFICWAY_TYPE                  433850 non-null object\n",
      "LANE_CNT                         198957 non-null float64\n",
      "ALIGNMENT                        433850 non-null object\n",
      "ROADWAY_SURFACE_COND             433850 non-null object\n",
      "ROAD_DEFECT                      433850 non-null object\n",
      "REPORT_TYPE                      423636 non-null object\n",
      "CRASH_TYPE                       433850 non-null object\n",
      "INTERSECTION_RELATED_I           97236 non-null object\n",
      "NOT_RIGHT_OF_WAY_I               20307 non-null object\n",
      "HIT_AND_RUN_I                    124144 non-null object\n",
      "DAMAGE                           433850 non-null object\n",
      "DATE_POLICE_NOTIFIED             433850 non-null object\n",
      "PRIM_CONTRIBUTORY_CAUSE          433850 non-null object\n",
      "SEC_CONTRIBUTORY_CAUSE           433850 non-null object\n",
      "STREET_NO                        433850 non-null int64\n",
      "STREET_DIRECTION                 433847 non-null object\n",
      "STREET_NAME                      433849 non-null object\n",
      "BEAT_OF_OCCURRENCE               433845 non-null float64\n",
      "PHOTOS_TAKEN_I                   5487 non-null object\n",
      "STATEMENTS_TAKEN_I               8784 non-null object\n",
      "DOORING_I                        1435 non-null object\n",
      "WORK_ZONE_I                      2904 non-null object\n",
      "WORK_ZONE_TYPE                   2304 non-null object\n",
      "WORKERS_PRESENT_I                689 non-null object\n",
      "NUM_UNITS                        433850 non-null int64\n",
      "MOST_SEVERE_INJURY               432988 non-null object\n",
      "INJURIES_TOTAL                   432998 non-null float64\n",
      "INJURIES_FATAL                   432998 non-null float64\n",
      "INJURIES_INCAPACITATING          432998 non-null float64\n",
      "INJURIES_NON_INCAPACITATING      432998 non-null float64\n",
      "INJURIES_REPORTED_NOT_EVIDENT    432998 non-null float64\n",
      "INJURIES_NO_INDICATION           432998 non-null float64\n",
      "INJURIES_UNKNOWN                 432998 non-null float64\n",
      "CRASH_HOUR                       433850 non-null int64\n",
      "CRASH_DAY_OF_WEEK                433850 non-null int64\n",
      "CRASH_MONTH                      433850 non-null int64\n",
      "LATITUDE                         431487 non-null float64\n",
      "LONGITUDE                        431487 non-null float64\n",
      "LOCATION                         431487 non-null object\n",
      "dtypes: float64(11), int64(6), object(32)\n",
      "memory usage: 162.2+ MB\n"
     ]
    }
   ],
   "source": [
    "data.info()"
   ]
  },
  {
   "cell_type": "code",
   "execution_count": 6,
   "metadata": {},
   "outputs": [
    {
     "data": {
      "text/html": [
       "<div>\n",
       "<style scoped>\n",
       "    .dataframe tbody tr th:only-of-type {\n",
       "        vertical-align: middle;\n",
       "    }\n",
       "\n",
       "    .dataframe tbody tr th {\n",
       "        vertical-align: top;\n",
       "    }\n",
       "\n",
       "    .dataframe thead th {\n",
       "        text-align: right;\n",
       "    }\n",
       "</style>\n",
       "<table border=\"1\" class=\"dataframe\">\n",
       "  <thead>\n",
       "    <tr style=\"text-align: right;\">\n",
       "      <th></th>\n",
       "      <th>CRASH_RECORD_ID</th>\n",
       "      <th>RD_NO</th>\n",
       "      <th>CRASH_DATE_EST_I</th>\n",
       "      <th>CRASH_DATE</th>\n",
       "      <th>POSTED_SPEED_LIMIT</th>\n",
       "      <th>TRAFFIC_CONTROL_DEVICE</th>\n",
       "      <th>DEVICE_CONDITION</th>\n",
       "      <th>WEATHER_CONDITION</th>\n",
       "      <th>LIGHTING_CONDITION</th>\n",
       "      <th>FIRST_CRASH_TYPE</th>\n",
       "      <th>...</th>\n",
       "      <th>INJURIES_NON_INCAPACITATING</th>\n",
       "      <th>INJURIES_REPORTED_NOT_EVIDENT</th>\n",
       "      <th>INJURIES_NO_INDICATION</th>\n",
       "      <th>INJURIES_UNKNOWN</th>\n",
       "      <th>CRASH_HOUR</th>\n",
       "      <th>CRASH_DAY_OF_WEEK</th>\n",
       "      <th>CRASH_MONTH</th>\n",
       "      <th>LATITUDE</th>\n",
       "      <th>LONGITUDE</th>\n",
       "      <th>LOCATION</th>\n",
       "    </tr>\n",
       "  </thead>\n",
       "  <tbody>\n",
       "    <tr>\n",
       "      <td>433845</td>\n",
       "      <td>e481dd27bc76e18b9a627f605d6d62c5750bca3311222a...</td>\n",
       "      <td>JD313387</td>\n",
       "      <td>NaN</td>\n",
       "      <td>07/28/2020 04:00:00 PM</td>\n",
       "      <td>30</td>\n",
       "      <td>NO CONTROLS</td>\n",
       "      <td>NO CONTROLS</td>\n",
       "      <td>CLEAR</td>\n",
       "      <td>DAYLIGHT</td>\n",
       "      <td>PARKED MOTOR VEHICLE</td>\n",
       "      <td>...</td>\n",
       "      <td>0.0</td>\n",
       "      <td>1.0</td>\n",
       "      <td>0.0</td>\n",
       "      <td>0.0</td>\n",
       "      <td>16</td>\n",
       "      <td>3</td>\n",
       "      <td>7</td>\n",
       "      <td>41.859162</td>\n",
       "      <td>-87.721164</td>\n",
       "      <td>POINT (-87.721164123424 41.859161813268)</td>\n",
       "    </tr>\n",
       "    <tr>\n",
       "      <td>433846</td>\n",
       "      <td>df74080be8ceeb327edd744a7f34507bc32c3f76a3f00c...</td>\n",
       "      <td>JD314102</td>\n",
       "      <td>NaN</td>\n",
       "      <td>07/29/2020 02:00:00 PM</td>\n",
       "      <td>30</td>\n",
       "      <td>NO CONTROLS</td>\n",
       "      <td>NO CONTROLS</td>\n",
       "      <td>CLEAR</td>\n",
       "      <td>DAYLIGHT</td>\n",
       "      <td>PARKED MOTOR VEHICLE</td>\n",
       "      <td>...</td>\n",
       "      <td>0.0</td>\n",
       "      <td>0.0</td>\n",
       "      <td>1.0</td>\n",
       "      <td>0.0</td>\n",
       "      <td>14</td>\n",
       "      <td>4</td>\n",
       "      <td>7</td>\n",
       "      <td>41.805737</td>\n",
       "      <td>-87.609784</td>\n",
       "      <td>POINT (-87.609784032292 41.805736682295)</td>\n",
       "    </tr>\n",
       "    <tr>\n",
       "      <td>433847</td>\n",
       "      <td>f2ad41aeabd38b5c073f887c66ba64118d1c8843395d5c...</td>\n",
       "      <td>JD313908</td>\n",
       "      <td>NaN</td>\n",
       "      <td>07/29/2020 10:50:00 AM</td>\n",
       "      <td>30</td>\n",
       "      <td>TRAFFIC SIGNAL</td>\n",
       "      <td>FUNCTIONING PROPERLY</td>\n",
       "      <td>CLEAR</td>\n",
       "      <td>DAYLIGHT</td>\n",
       "      <td>REAR END</td>\n",
       "      <td>...</td>\n",
       "      <td>0.0</td>\n",
       "      <td>1.0</td>\n",
       "      <td>2.0</td>\n",
       "      <td>0.0</td>\n",
       "      <td>10</td>\n",
       "      <td>4</td>\n",
       "      <td>7</td>\n",
       "      <td>41.924824</td>\n",
       "      <td>-87.707553</td>\n",
       "      <td>POINT (-87.707552955117 41.924824383756)</td>\n",
       "    </tr>\n",
       "    <tr>\n",
       "      <td>433848</td>\n",
       "      <td>fcc0426860ee85a4e6db60be5572d317452eb63506d0df...</td>\n",
       "      <td>JD314407</td>\n",
       "      <td>NaN</td>\n",
       "      <td>07/29/2020 06:30:00 PM</td>\n",
       "      <td>30</td>\n",
       "      <td>NO CONTROLS</td>\n",
       "      <td>NO CONTROLS</td>\n",
       "      <td>CLEAR</td>\n",
       "      <td>DAYLIGHT</td>\n",
       "      <td>PARKED MOTOR VEHICLE</td>\n",
       "      <td>...</td>\n",
       "      <td>0.0</td>\n",
       "      <td>0.0</td>\n",
       "      <td>1.0</td>\n",
       "      <td>0.0</td>\n",
       "      <td>18</td>\n",
       "      <td>4</td>\n",
       "      <td>7</td>\n",
       "      <td>41.909896</td>\n",
       "      <td>-87.652772</td>\n",
       "      <td>POINT (-87.65277243899 41.909895530398)</td>\n",
       "    </tr>\n",
       "    <tr>\n",
       "      <td>433849</td>\n",
       "      <td>f829a8bd9a1afc120ed6720cdb20a22b1a90b81278002b...</td>\n",
       "      <td>JD105771</td>\n",
       "      <td>NaN</td>\n",
       "      <td>01/06/2020 08:30:00 AM</td>\n",
       "      <td>15</td>\n",
       "      <td>NO CONTROLS</td>\n",
       "      <td>NO CONTROLS</td>\n",
       "      <td>CLEAR</td>\n",
       "      <td>DAYLIGHT</td>\n",
       "      <td>ANGLE</td>\n",
       "      <td>...</td>\n",
       "      <td>0.0</td>\n",
       "      <td>0.0</td>\n",
       "      <td>2.0</td>\n",
       "      <td>0.0</td>\n",
       "      <td>8</td>\n",
       "      <td>2</td>\n",
       "      <td>1</td>\n",
       "      <td>41.865595</td>\n",
       "      <td>-87.623964</td>\n",
       "      <td>POINT (-87.62396444716 41.865594951208)</td>\n",
       "    </tr>\n",
       "  </tbody>\n",
       "</table>\n",
       "<p>5 rows × 49 columns</p>\n",
       "</div>"
      ],
      "text/plain": [
       "                                          CRASH_RECORD_ID     RD_NO  \\\n",
       "433845  e481dd27bc76e18b9a627f605d6d62c5750bca3311222a...  JD313387   \n",
       "433846  df74080be8ceeb327edd744a7f34507bc32c3f76a3f00c...  JD314102   \n",
       "433847  f2ad41aeabd38b5c073f887c66ba64118d1c8843395d5c...  JD313908   \n",
       "433848  fcc0426860ee85a4e6db60be5572d317452eb63506d0df...  JD314407   \n",
       "433849  f829a8bd9a1afc120ed6720cdb20a22b1a90b81278002b...  JD105771   \n",
       "\n",
       "       CRASH_DATE_EST_I              CRASH_DATE  POSTED_SPEED_LIMIT  \\\n",
       "433845              NaN  07/28/2020 04:00:00 PM                  30   \n",
       "433846              NaN  07/29/2020 02:00:00 PM                  30   \n",
       "433847              NaN  07/29/2020 10:50:00 AM                  30   \n",
       "433848              NaN  07/29/2020 06:30:00 PM                  30   \n",
       "433849              NaN  01/06/2020 08:30:00 AM                  15   \n",
       "\n",
       "       TRAFFIC_CONTROL_DEVICE      DEVICE_CONDITION WEATHER_CONDITION  \\\n",
       "433845            NO CONTROLS           NO CONTROLS             CLEAR   \n",
       "433846            NO CONTROLS           NO CONTROLS             CLEAR   \n",
       "433847         TRAFFIC SIGNAL  FUNCTIONING PROPERLY             CLEAR   \n",
       "433848            NO CONTROLS           NO CONTROLS             CLEAR   \n",
       "433849            NO CONTROLS           NO CONTROLS             CLEAR   \n",
       "\n",
       "       LIGHTING_CONDITION      FIRST_CRASH_TYPE  ...  \\\n",
       "433845           DAYLIGHT  PARKED MOTOR VEHICLE  ...   \n",
       "433846           DAYLIGHT  PARKED MOTOR VEHICLE  ...   \n",
       "433847           DAYLIGHT              REAR END  ...   \n",
       "433848           DAYLIGHT  PARKED MOTOR VEHICLE  ...   \n",
       "433849           DAYLIGHT                 ANGLE  ...   \n",
       "\n",
       "       INJURIES_NON_INCAPACITATING  INJURIES_REPORTED_NOT_EVIDENT  \\\n",
       "433845                         0.0                            1.0   \n",
       "433846                         0.0                            0.0   \n",
       "433847                         0.0                            1.0   \n",
       "433848                         0.0                            0.0   \n",
       "433849                         0.0                            0.0   \n",
       "\n",
       "       INJURIES_NO_INDICATION INJURIES_UNKNOWN CRASH_HOUR CRASH_DAY_OF_WEEK  \\\n",
       "433845                    0.0              0.0         16                 3   \n",
       "433846                    1.0              0.0         14                 4   \n",
       "433847                    2.0              0.0         10                 4   \n",
       "433848                    1.0              0.0         18                 4   \n",
       "433849                    2.0              0.0          8                 2   \n",
       "\n",
       "       CRASH_MONTH   LATITUDE  LONGITUDE  \\\n",
       "433845           7  41.859162 -87.721164   \n",
       "433846           7  41.805737 -87.609784   \n",
       "433847           7  41.924824 -87.707553   \n",
       "433848           7  41.909896 -87.652772   \n",
       "433849           1  41.865595 -87.623964   \n",
       "\n",
       "                                        LOCATION  \n",
       "433845  POINT (-87.721164123424 41.859161813268)  \n",
       "433846  POINT (-87.609784032292 41.805736682295)  \n",
       "433847  POINT (-87.707552955117 41.924824383756)  \n",
       "433848   POINT (-87.65277243899 41.909895530398)  \n",
       "433849   POINT (-87.62396444716 41.865594951208)  \n",
       "\n",
       "[5 rows x 49 columns]"
      ]
     },
     "execution_count": 6,
     "metadata": {},
     "output_type": "execute_result"
    }
   ],
   "source": [
    "data.tail()"
   ]
  },
  {
   "cell_type": "code",
   "execution_count": 7,
   "metadata": {},
   "outputs": [
    {
     "data": {
      "text/plain": [
       "Index(['CRASH_RECORD_ID', 'RD_NO', 'CRASH_DATE_EST_I', 'CRASH_DATE',\n",
       "       'POSTED_SPEED_LIMIT', 'TRAFFIC_CONTROL_DEVICE', 'DEVICE_CONDITION',\n",
       "       'WEATHER_CONDITION', 'LIGHTING_CONDITION', 'FIRST_CRASH_TYPE',\n",
       "       'TRAFFICWAY_TYPE', 'LANE_CNT', 'ALIGNMENT', 'ROADWAY_SURFACE_COND',\n",
       "       'ROAD_DEFECT', 'REPORT_TYPE', 'CRASH_TYPE', 'INTERSECTION_RELATED_I',\n",
       "       'NOT_RIGHT_OF_WAY_I', 'HIT_AND_RUN_I', 'DAMAGE', 'DATE_POLICE_NOTIFIED',\n",
       "       'PRIM_CONTRIBUTORY_CAUSE', 'SEC_CONTRIBUTORY_CAUSE', 'STREET_NO',\n",
       "       'STREET_DIRECTION', 'STREET_NAME', 'BEAT_OF_OCCURRENCE',\n",
       "       'PHOTOS_TAKEN_I', 'STATEMENTS_TAKEN_I', 'DOORING_I', 'WORK_ZONE_I',\n",
       "       'WORK_ZONE_TYPE', 'WORKERS_PRESENT_I', 'NUM_UNITS',\n",
       "       'MOST_SEVERE_INJURY', 'INJURIES_TOTAL', 'INJURIES_FATAL',\n",
       "       'INJURIES_INCAPACITATING', 'INJURIES_NON_INCAPACITATING',\n",
       "       'INJURIES_REPORTED_NOT_EVIDENT', 'INJURIES_NO_INDICATION',\n",
       "       'INJURIES_UNKNOWN', 'CRASH_HOUR', 'CRASH_DAY_OF_WEEK', 'CRASH_MONTH',\n",
       "       'LATITUDE', 'LONGITUDE', 'LOCATION'],\n",
       "      dtype='object')"
      ]
     },
     "execution_count": 7,
     "metadata": {},
     "output_type": "execute_result"
    }
   ],
   "source": [
    "data.columns"
   ]
  },
  {
   "cell_type": "code",
   "execution_count": 8,
   "metadata": {},
   "outputs": [
    {
     "data": {
      "text/html": [
       "<div>\n",
       "<style scoped>\n",
       "    .dataframe tbody tr th:only-of-type {\n",
       "        vertical-align: middle;\n",
       "    }\n",
       "\n",
       "    .dataframe tbody tr th {\n",
       "        vertical-align: top;\n",
       "    }\n",
       "\n",
       "    .dataframe thead th {\n",
       "        text-align: right;\n",
       "    }\n",
       "</style>\n",
       "<table border=\"1\" class=\"dataframe\">\n",
       "  <thead>\n",
       "    <tr style=\"text-align: right;\">\n",
       "      <th></th>\n",
       "      <th>CRASH_DATE_EST_I</th>\n",
       "      <th>INTERSECTION_RELATED_I</th>\n",
       "      <th>NOT_RIGHT_OF_WAY_I</th>\n",
       "      <th>HIT_AND_RUN_I</th>\n",
       "      <th>PHOTOS_TAKEN_I</th>\n",
       "      <th>STATEMENTS_TAKEN_I</th>\n",
       "    </tr>\n",
       "  </thead>\n",
       "  <tbody>\n",
       "    <tr>\n",
       "      <td>0</td>\n",
       "      <td>NaN</td>\n",
       "      <td>NaN</td>\n",
       "      <td>NaN</td>\n",
       "      <td>NaN</td>\n",
       "      <td>NaN</td>\n",
       "      <td>NaN</td>\n",
       "    </tr>\n",
       "    <tr>\n",
       "      <td>1</td>\n",
       "      <td>NaN</td>\n",
       "      <td>NaN</td>\n",
       "      <td>NaN</td>\n",
       "      <td>NaN</td>\n",
       "      <td>NaN</td>\n",
       "      <td>NaN</td>\n",
       "    </tr>\n",
       "    <tr>\n",
       "      <td>2</td>\n",
       "      <td>NaN</td>\n",
       "      <td>Y</td>\n",
       "      <td>NaN</td>\n",
       "      <td>NaN</td>\n",
       "      <td>NaN</td>\n",
       "      <td>NaN</td>\n",
       "    </tr>\n",
       "    <tr>\n",
       "      <td>3</td>\n",
       "      <td>NaN</td>\n",
       "      <td>Y</td>\n",
       "      <td>NaN</td>\n",
       "      <td>NaN</td>\n",
       "      <td>NaN</td>\n",
       "      <td>Y</td>\n",
       "    </tr>\n",
       "    <tr>\n",
       "      <td>4</td>\n",
       "      <td>NaN</td>\n",
       "      <td>NaN</td>\n",
       "      <td>NaN</td>\n",
       "      <td>NaN</td>\n",
       "      <td>NaN</td>\n",
       "      <td>NaN</td>\n",
       "    </tr>\n",
       "  </tbody>\n",
       "</table>\n",
       "</div>"
      ],
      "text/plain": [
       "  CRASH_DATE_EST_I INTERSECTION_RELATED_I NOT_RIGHT_OF_WAY_I HIT_AND_RUN_I  \\\n",
       "0              NaN                    NaN                NaN           NaN   \n",
       "1              NaN                    NaN                NaN           NaN   \n",
       "2              NaN                      Y                NaN           NaN   \n",
       "3              NaN                      Y                NaN           NaN   \n",
       "4              NaN                    NaN                NaN           NaN   \n",
       "\n",
       "  PHOTOS_TAKEN_I STATEMENTS_TAKEN_I  \n",
       "0            NaN                NaN  \n",
       "1            NaN                NaN  \n",
       "2            NaN                NaN  \n",
       "3            NaN                  Y  \n",
       "4            NaN                NaN  "
      ]
     },
     "execution_count": 8,
     "metadata": {},
     "output_type": "execute_result"
    }
   ],
   "source": [
    "##Looking at columns with the missing values closely\n",
    "data[['CRASH_DATE_EST_I', 'INTERSECTION_RELATED_I', 'NOT_RIGHT_OF_WAY_I', 'HIT_AND_RUN_I', 'PHOTOS_TAKEN_I', 'STATEMENTS_TAKEN_I']].head() "
   ]
  },
  {
   "cell_type": "code",
   "execution_count": 9,
   "metadata": {},
   "outputs": [
    {
     "data": {
      "text/plain": [
       "Y    27954\n",
       "N     4287\n",
       "Name: CRASH_DATE_EST_I, dtype: int64"
      ]
     },
     "execution_count": 9,
     "metadata": {},
     "output_type": "execute_result"
    }
   ],
   "source": [
    "##Using value counts to get more insight\n",
    "s = data['CRASH_DATE_EST_I']\n",
    "s.value_counts()"
   ]
  },
  {
   "cell_type": "code",
   "execution_count": 10,
   "metadata": {},
   "outputs": [
    {
     "data": {
      "text/plain": [
       "Y    92634\n",
       "N     4602\n",
       "Name: INTERSECTION_RELATED_I, dtype: int64"
      ]
     },
     "execution_count": 10,
     "metadata": {},
     "output_type": "execute_result"
    }
   ],
   "source": [
    "u = data['INTERSECTION_RELATED_I']\n",
    "u.value_counts()"
   ]
  },
  {
   "cell_type": "code",
   "execution_count": 11,
   "metadata": {},
   "outputs": [
    {
     "data": {
      "text/plain": [
       "Y    18563\n",
       "N     1744\n",
       "Name: NOT_RIGHT_OF_WAY_I, dtype: int64"
      ]
     },
     "execution_count": 11,
     "metadata": {},
     "output_type": "execute_result"
    }
   ],
   "source": [
    "r = data['NOT_RIGHT_OF_WAY_I']\n",
    "r.value_counts()"
   ]
  },
  {
   "cell_type": "code",
   "execution_count": 12,
   "metadata": {},
   "outputs": [
    {
     "data": {
      "text/plain": [
       "Y    118727\n",
       "N      5417\n",
       "Name: HIT_AND_RUN_I, dtype: int64"
      ]
     },
     "execution_count": 12,
     "metadata": {},
     "output_type": "execute_result"
    }
   ],
   "source": [
    "z = data['HIT_AND_RUN_I']\n",
    "z.value_counts()"
   ]
  },
  {
   "cell_type": "code",
   "execution_count": 13,
   "metadata": {},
   "outputs": [
    {
     "data": {
      "text/plain": [
       "Y    4274\n",
       "N    1213\n",
       "Name: PHOTOS_TAKEN_I, dtype: int64"
      ]
     },
     "execution_count": 13,
     "metadata": {},
     "output_type": "execute_result"
    }
   ],
   "source": [
    "b = data['PHOTOS_TAKEN_I']\n",
    "b.value_counts()"
   ]
  },
  {
   "cell_type": "code",
   "execution_count": 14,
   "metadata": {},
   "outputs": [
    {
     "data": {
      "text/plain": [
       "Y    7120\n",
       "N    1664\n",
       "Name: STATEMENTS_TAKEN_I, dtype: int64"
      ]
     },
     "execution_count": 14,
     "metadata": {},
     "output_type": "execute_result"
    }
   ],
   "source": [
    "a = data['STATEMENTS_TAKEN_I']\n",
    "a.value_counts()"
   ]
  },
  {
   "cell_type": "code",
   "execution_count": 15,
   "metadata": {},
   "outputs": [
    {
     "data": {
      "text/plain": [
       "Y    985\n",
       "N    450\n",
       "Name: DOORING_I, dtype: int64"
      ]
     },
     "execution_count": 15,
     "metadata": {},
     "output_type": "execute_result"
    }
   ],
   "source": [
    "e = data['DOORING_I']\n",
    "e.value_counts()"
   ]
  },
  {
   "cell_type": "code",
   "execution_count": 16,
   "metadata": {},
   "outputs": [
    {
     "data": {
      "text/plain": [
       "Y    2304\n",
       "N     600\n",
       "Name: WORK_ZONE_I, dtype: int64"
      ]
     },
     "execution_count": 16,
     "metadata": {},
     "output_type": "execute_result"
    }
   ],
   "source": [
    "e = data['WORK_ZONE_I']\n",
    "e.value_counts()"
   ]
  },
  {
   "cell_type": "code",
   "execution_count": 17,
   "metadata": {},
   "outputs": [
    {
     "data": {
      "text/plain": [
       "CONSTRUCTION    1636\n",
       "UNKNOWN          305\n",
       "MAINTENANCE      222\n",
       "UTILITY          141\n",
       "Name: WORK_ZONE_TYPE, dtype: int64"
      ]
     },
     "execution_count": 17,
     "metadata": {},
     "output_type": "execute_result"
    }
   ],
   "source": [
    "e = data['WORK_ZONE_TYPE']\n",
    "e.value_counts()"
   ]
  },
  {
   "cell_type": "code",
   "execution_count": 18,
   "metadata": {},
   "outputs": [
    {
     "data": {
      "text/plain": [
       "Y    617\n",
       "N     72\n",
       "Name: WORKERS_PRESENT_I, dtype: int64"
      ]
     },
     "execution_count": 18,
     "metadata": {},
     "output_type": "execute_result"
    }
   ],
   "source": [
    "z = data['WORKERS_PRESENT_I']\n",
    "z.value_counts()"
   ]
  },
  {
   "cell_type": "code",
   "execution_count": null,
   "metadata": {},
   "outputs": [],
   "source": []
  },
  {
   "cell_type": "code",
   "execution_count": 20,
   "metadata": {},
   "outputs": [
    {
     "data": {
      "text/html": [
       "<div>\n",
       "<style scoped>\n",
       "    .dataframe tbody tr th:only-of-type {\n",
       "        vertical-align: middle;\n",
       "    }\n",
       "\n",
       "    .dataframe tbody tr th {\n",
       "        vertical-align: top;\n",
       "    }\n",
       "\n",
       "    .dataframe thead th {\n",
       "        text-align: right;\n",
       "    }\n",
       "</style>\n",
       "<table border=\"1\" class=\"dataframe\">\n",
       "  <thead>\n",
       "    <tr style=\"text-align: right;\">\n",
       "      <th></th>\n",
       "      <th>CRASH_RECORD_ID</th>\n",
       "      <th>RD_NO</th>\n",
       "      <th>CRASH_DATE</th>\n",
       "      <th>POSTED_SPEED_LIMIT</th>\n",
       "      <th>TRAFFIC_CONTROL_DEVICE</th>\n",
       "      <th>DEVICE_CONDITION</th>\n",
       "      <th>WEATHER_CONDITION</th>\n",
       "      <th>LIGHTING_CONDITION</th>\n",
       "      <th>FIRST_CRASH_TYPE</th>\n",
       "      <th>TRAFFICWAY_TYPE</th>\n",
       "      <th>...</th>\n",
       "      <th>INJURIES_NON_INCAPACITATING</th>\n",
       "      <th>INJURIES_REPORTED_NOT_EVIDENT</th>\n",
       "      <th>INJURIES_NO_INDICATION</th>\n",
       "      <th>INJURIES_UNKNOWN</th>\n",
       "      <th>CRASH_HOUR</th>\n",
       "      <th>CRASH_DAY_OF_WEEK</th>\n",
       "      <th>CRASH_MONTH</th>\n",
       "      <th>LATITUDE</th>\n",
       "      <th>LONGITUDE</th>\n",
       "      <th>LOCATION</th>\n",
       "    </tr>\n",
       "  </thead>\n",
       "  <tbody>\n",
       "    <tr>\n",
       "      <td>0</td>\n",
       "      <td>073682ef84ff827659552d4254ad1b98bfec24935cc9cc...</td>\n",
       "      <td>JB460108</td>\n",
       "      <td>10/02/2018 06:30:00 PM</td>\n",
       "      <td>10</td>\n",
       "      <td>NO CONTROLS</td>\n",
       "      <td>NO CONTROLS</td>\n",
       "      <td>CLEAR</td>\n",
       "      <td>DARKNESS</td>\n",
       "      <td>PARKED MOTOR VEHICLE</td>\n",
       "      <td>OTHER</td>\n",
       "      <td>...</td>\n",
       "      <td>0.0</td>\n",
       "      <td>0.0</td>\n",
       "      <td>1.0</td>\n",
       "      <td>0.0</td>\n",
       "      <td>18</td>\n",
       "      <td>3</td>\n",
       "      <td>10</td>\n",
       "      <td>NaN</td>\n",
       "      <td>NaN</td>\n",
       "      <td>NaN</td>\n",
       "    </tr>\n",
       "    <tr>\n",
       "      <td>1</td>\n",
       "      <td>1560fb8a1e32b528fef8bfd677d2b3fc5ab37278b157fa...</td>\n",
       "      <td>JC325941</td>\n",
       "      <td>06/27/2019 04:00:00 PM</td>\n",
       "      <td>45</td>\n",
       "      <td>NO CONTROLS</td>\n",
       "      <td>NO CONTROLS</td>\n",
       "      <td>CLEAR</td>\n",
       "      <td>DAYLIGHT</td>\n",
       "      <td>SIDESWIPE SAME DIRECTION</td>\n",
       "      <td>ONE-WAY</td>\n",
       "      <td>...</td>\n",
       "      <td>0.0</td>\n",
       "      <td>0.0</td>\n",
       "      <td>2.0</td>\n",
       "      <td>0.0</td>\n",
       "      <td>16</td>\n",
       "      <td>5</td>\n",
       "      <td>6</td>\n",
       "      <td>NaN</td>\n",
       "      <td>NaN</td>\n",
       "      <td>NaN</td>\n",
       "    </tr>\n",
       "    <tr>\n",
       "      <td>2</td>\n",
       "      <td>009e9e67203442370272e1a13d6ee51a4155dac65e583d...</td>\n",
       "      <td>JA329216</td>\n",
       "      <td>06/30/2017 04:00:00 PM</td>\n",
       "      <td>35</td>\n",
       "      <td>STOP SIGN/FLASHER</td>\n",
       "      <td>FUNCTIONING PROPERLY</td>\n",
       "      <td>CLEAR</td>\n",
       "      <td>DAYLIGHT</td>\n",
       "      <td>TURNING</td>\n",
       "      <td>NOT DIVIDED</td>\n",
       "      <td>...</td>\n",
       "      <td>0.0</td>\n",
       "      <td>0.0</td>\n",
       "      <td>3.0</td>\n",
       "      <td>0.0</td>\n",
       "      <td>16</td>\n",
       "      <td>6</td>\n",
       "      <td>6</td>\n",
       "      <td>41.741804</td>\n",
       "      <td>-87.740954</td>\n",
       "      <td>POINT (-87.740953581987 41.741803598989)</td>\n",
       "    </tr>\n",
       "    <tr>\n",
       "      <td>3</td>\n",
       "      <td>00e47f189660cd8ba1e85fc63061bf1d8465184393f134...</td>\n",
       "      <td>JC194776</td>\n",
       "      <td>03/21/2019 10:50:00 PM</td>\n",
       "      <td>30</td>\n",
       "      <td>TRAFFIC SIGNAL</td>\n",
       "      <td>FUNCTIONING PROPERLY</td>\n",
       "      <td>CLEAR</td>\n",
       "      <td>DARKNESS, LIGHTED ROAD</td>\n",
       "      <td>TURNING</td>\n",
       "      <td>NOT DIVIDED</td>\n",
       "      <td>...</td>\n",
       "      <td>0.0</td>\n",
       "      <td>0.0</td>\n",
       "      <td>2.0</td>\n",
       "      <td>0.0</td>\n",
       "      <td>22</td>\n",
       "      <td>5</td>\n",
       "      <td>3</td>\n",
       "      <td>41.741804</td>\n",
       "      <td>-87.740954</td>\n",
       "      <td>POINT (-87.740953581987 41.741803598989)</td>\n",
       "    </tr>\n",
       "    <tr>\n",
       "      <td>4</td>\n",
       "      <td>0126747fc9ffc0edc9a38abb83d80034f897db0f739eef...</td>\n",
       "      <td>JB200478</td>\n",
       "      <td>03/26/2018 02:23:00 PM</td>\n",
       "      <td>35</td>\n",
       "      <td>NO CONTROLS</td>\n",
       "      <td>NO CONTROLS</td>\n",
       "      <td>CLEAR</td>\n",
       "      <td>DAYLIGHT</td>\n",
       "      <td>PARKED MOTOR VEHICLE</td>\n",
       "      <td>NOT DIVIDED</td>\n",
       "      <td>...</td>\n",
       "      <td>0.0</td>\n",
       "      <td>0.0</td>\n",
       "      <td>2.0</td>\n",
       "      <td>0.0</td>\n",
       "      <td>14</td>\n",
       "      <td>2</td>\n",
       "      <td>3</td>\n",
       "      <td>41.953647</td>\n",
       "      <td>-87.732082</td>\n",
       "      <td>POINT (-87.732081736006 41.953646899951)</td>\n",
       "    </tr>\n",
       "    <tr>\n",
       "      <td>...</td>\n",
       "      <td>...</td>\n",
       "      <td>...</td>\n",
       "      <td>...</td>\n",
       "      <td>...</td>\n",
       "      <td>...</td>\n",
       "      <td>...</td>\n",
       "      <td>...</td>\n",
       "      <td>...</td>\n",
       "      <td>...</td>\n",
       "      <td>...</td>\n",
       "      <td>...</td>\n",
       "      <td>...</td>\n",
       "      <td>...</td>\n",
       "      <td>...</td>\n",
       "      <td>...</td>\n",
       "      <td>...</td>\n",
       "      <td>...</td>\n",
       "      <td>...</td>\n",
       "      <td>...</td>\n",
       "      <td>...</td>\n",
       "      <td>...</td>\n",
       "    </tr>\n",
       "    <tr>\n",
       "      <td>433845</td>\n",
       "      <td>e481dd27bc76e18b9a627f605d6d62c5750bca3311222a...</td>\n",
       "      <td>JD313387</td>\n",
       "      <td>07/28/2020 04:00:00 PM</td>\n",
       "      <td>30</td>\n",
       "      <td>NO CONTROLS</td>\n",
       "      <td>NO CONTROLS</td>\n",
       "      <td>CLEAR</td>\n",
       "      <td>DAYLIGHT</td>\n",
       "      <td>PARKED MOTOR VEHICLE</td>\n",
       "      <td>ONE-WAY</td>\n",
       "      <td>...</td>\n",
       "      <td>0.0</td>\n",
       "      <td>1.0</td>\n",
       "      <td>0.0</td>\n",
       "      <td>0.0</td>\n",
       "      <td>16</td>\n",
       "      <td>3</td>\n",
       "      <td>7</td>\n",
       "      <td>41.859162</td>\n",
       "      <td>-87.721164</td>\n",
       "      <td>POINT (-87.721164123424 41.859161813268)</td>\n",
       "    </tr>\n",
       "    <tr>\n",
       "      <td>433846</td>\n",
       "      <td>df74080be8ceeb327edd744a7f34507bc32c3f76a3f00c...</td>\n",
       "      <td>JD314102</td>\n",
       "      <td>07/29/2020 02:00:00 PM</td>\n",
       "      <td>30</td>\n",
       "      <td>NO CONTROLS</td>\n",
       "      <td>NO CONTROLS</td>\n",
       "      <td>CLEAR</td>\n",
       "      <td>DAYLIGHT</td>\n",
       "      <td>PARKED MOTOR VEHICLE</td>\n",
       "      <td>ONE-WAY</td>\n",
       "      <td>...</td>\n",
       "      <td>0.0</td>\n",
       "      <td>0.0</td>\n",
       "      <td>1.0</td>\n",
       "      <td>0.0</td>\n",
       "      <td>14</td>\n",
       "      <td>4</td>\n",
       "      <td>7</td>\n",
       "      <td>41.805737</td>\n",
       "      <td>-87.609784</td>\n",
       "      <td>POINT (-87.609784032292 41.805736682295)</td>\n",
       "    </tr>\n",
       "    <tr>\n",
       "      <td>433847</td>\n",
       "      <td>f2ad41aeabd38b5c073f887c66ba64118d1c8843395d5c...</td>\n",
       "      <td>JD313908</td>\n",
       "      <td>07/29/2020 10:50:00 AM</td>\n",
       "      <td>30</td>\n",
       "      <td>TRAFFIC SIGNAL</td>\n",
       "      <td>FUNCTIONING PROPERLY</td>\n",
       "      <td>CLEAR</td>\n",
       "      <td>DAYLIGHT</td>\n",
       "      <td>REAR END</td>\n",
       "      <td>DIVIDED - W/MEDIAN (NOT RAISED)</td>\n",
       "      <td>...</td>\n",
       "      <td>0.0</td>\n",
       "      <td>1.0</td>\n",
       "      <td>2.0</td>\n",
       "      <td>0.0</td>\n",
       "      <td>10</td>\n",
       "      <td>4</td>\n",
       "      <td>7</td>\n",
       "      <td>41.924824</td>\n",
       "      <td>-87.707553</td>\n",
       "      <td>POINT (-87.707552955117 41.924824383756)</td>\n",
       "    </tr>\n",
       "    <tr>\n",
       "      <td>433848</td>\n",
       "      <td>fcc0426860ee85a4e6db60be5572d317452eb63506d0df...</td>\n",
       "      <td>JD314407</td>\n",
       "      <td>07/29/2020 06:30:00 PM</td>\n",
       "      <td>30</td>\n",
       "      <td>NO CONTROLS</td>\n",
       "      <td>NO CONTROLS</td>\n",
       "      <td>CLEAR</td>\n",
       "      <td>DAYLIGHT</td>\n",
       "      <td>PARKED MOTOR VEHICLE</td>\n",
       "      <td>NOT DIVIDED</td>\n",
       "      <td>...</td>\n",
       "      <td>0.0</td>\n",
       "      <td>0.0</td>\n",
       "      <td>1.0</td>\n",
       "      <td>0.0</td>\n",
       "      <td>18</td>\n",
       "      <td>4</td>\n",
       "      <td>7</td>\n",
       "      <td>41.909896</td>\n",
       "      <td>-87.652772</td>\n",
       "      <td>POINT (-87.65277243899 41.909895530398)</td>\n",
       "    </tr>\n",
       "    <tr>\n",
       "      <td>433849</td>\n",
       "      <td>f829a8bd9a1afc120ed6720cdb20a22b1a90b81278002b...</td>\n",
       "      <td>JD105771</td>\n",
       "      <td>01/06/2020 08:30:00 AM</td>\n",
       "      <td>15</td>\n",
       "      <td>NO CONTROLS</td>\n",
       "      <td>NO CONTROLS</td>\n",
       "      <td>CLEAR</td>\n",
       "      <td>DAYLIGHT</td>\n",
       "      <td>ANGLE</td>\n",
       "      <td>ALLEY</td>\n",
       "      <td>...</td>\n",
       "      <td>0.0</td>\n",
       "      <td>0.0</td>\n",
       "      <td>2.0</td>\n",
       "      <td>0.0</td>\n",
       "      <td>8</td>\n",
       "      <td>2</td>\n",
       "      <td>1</td>\n",
       "      <td>41.865595</td>\n",
       "      <td>-87.623964</td>\n",
       "      <td>POINT (-87.62396444716 41.865594951208)</td>\n",
       "    </tr>\n",
       "  </tbody>\n",
       "</table>\n",
       "<p>433850 rows × 39 columns</p>\n",
       "</div>"
      ],
      "text/plain": [
       "                                          CRASH_RECORD_ID     RD_NO  \\\n",
       "0       073682ef84ff827659552d4254ad1b98bfec24935cc9cc...  JB460108   \n",
       "1       1560fb8a1e32b528fef8bfd677d2b3fc5ab37278b157fa...  JC325941   \n",
       "2       009e9e67203442370272e1a13d6ee51a4155dac65e583d...  JA329216   \n",
       "3       00e47f189660cd8ba1e85fc63061bf1d8465184393f134...  JC194776   \n",
       "4       0126747fc9ffc0edc9a38abb83d80034f897db0f739eef...  JB200478   \n",
       "...                                                   ...       ...   \n",
       "433845  e481dd27bc76e18b9a627f605d6d62c5750bca3311222a...  JD313387   \n",
       "433846  df74080be8ceeb327edd744a7f34507bc32c3f76a3f00c...  JD314102   \n",
       "433847  f2ad41aeabd38b5c073f887c66ba64118d1c8843395d5c...  JD313908   \n",
       "433848  fcc0426860ee85a4e6db60be5572d317452eb63506d0df...  JD314407   \n",
       "433849  f829a8bd9a1afc120ed6720cdb20a22b1a90b81278002b...  JD105771   \n",
       "\n",
       "                    CRASH_DATE  POSTED_SPEED_LIMIT TRAFFIC_CONTROL_DEVICE  \\\n",
       "0       10/02/2018 06:30:00 PM                  10            NO CONTROLS   \n",
       "1       06/27/2019 04:00:00 PM                  45            NO CONTROLS   \n",
       "2       06/30/2017 04:00:00 PM                  35      STOP SIGN/FLASHER   \n",
       "3       03/21/2019 10:50:00 PM                  30         TRAFFIC SIGNAL   \n",
       "4       03/26/2018 02:23:00 PM                  35            NO CONTROLS   \n",
       "...                        ...                 ...                    ...   \n",
       "433845  07/28/2020 04:00:00 PM                  30            NO CONTROLS   \n",
       "433846  07/29/2020 02:00:00 PM                  30            NO CONTROLS   \n",
       "433847  07/29/2020 10:50:00 AM                  30         TRAFFIC SIGNAL   \n",
       "433848  07/29/2020 06:30:00 PM                  30            NO CONTROLS   \n",
       "433849  01/06/2020 08:30:00 AM                  15            NO CONTROLS   \n",
       "\n",
       "            DEVICE_CONDITION WEATHER_CONDITION      LIGHTING_CONDITION  \\\n",
       "0                NO CONTROLS             CLEAR                DARKNESS   \n",
       "1                NO CONTROLS             CLEAR                DAYLIGHT   \n",
       "2       FUNCTIONING PROPERLY             CLEAR                DAYLIGHT   \n",
       "3       FUNCTIONING PROPERLY             CLEAR  DARKNESS, LIGHTED ROAD   \n",
       "4                NO CONTROLS             CLEAR                DAYLIGHT   \n",
       "...                      ...               ...                     ...   \n",
       "433845           NO CONTROLS             CLEAR                DAYLIGHT   \n",
       "433846           NO CONTROLS             CLEAR                DAYLIGHT   \n",
       "433847  FUNCTIONING PROPERLY             CLEAR                DAYLIGHT   \n",
       "433848           NO CONTROLS             CLEAR                DAYLIGHT   \n",
       "433849           NO CONTROLS             CLEAR                DAYLIGHT   \n",
       "\n",
       "                FIRST_CRASH_TYPE                  TRAFFICWAY_TYPE  ...  \\\n",
       "0           PARKED MOTOR VEHICLE                            OTHER  ...   \n",
       "1       SIDESWIPE SAME DIRECTION                          ONE-WAY  ...   \n",
       "2                        TURNING                      NOT DIVIDED  ...   \n",
       "3                        TURNING                      NOT DIVIDED  ...   \n",
       "4           PARKED MOTOR VEHICLE                      NOT DIVIDED  ...   \n",
       "...                          ...                              ...  ...   \n",
       "433845      PARKED MOTOR VEHICLE                          ONE-WAY  ...   \n",
       "433846      PARKED MOTOR VEHICLE                          ONE-WAY  ...   \n",
       "433847                  REAR END  DIVIDED - W/MEDIAN (NOT RAISED)  ...   \n",
       "433848      PARKED MOTOR VEHICLE                      NOT DIVIDED  ...   \n",
       "433849                     ANGLE                            ALLEY  ...   \n",
       "\n",
       "       INJURIES_NON_INCAPACITATING INJURIES_REPORTED_NOT_EVIDENT  \\\n",
       "0                              0.0                           0.0   \n",
       "1                              0.0                           0.0   \n",
       "2                              0.0                           0.0   \n",
       "3                              0.0                           0.0   \n",
       "4                              0.0                           0.0   \n",
       "...                            ...                           ...   \n",
       "433845                         0.0                           1.0   \n",
       "433846                         0.0                           0.0   \n",
       "433847                         0.0                           1.0   \n",
       "433848                         0.0                           0.0   \n",
       "433849                         0.0                           0.0   \n",
       "\n",
       "       INJURIES_NO_INDICATION INJURIES_UNKNOWN CRASH_HOUR CRASH_DAY_OF_WEEK  \\\n",
       "0                         1.0              0.0         18                 3   \n",
       "1                         2.0              0.0         16                 5   \n",
       "2                         3.0              0.0         16                 6   \n",
       "3                         2.0              0.0         22                 5   \n",
       "4                         2.0              0.0         14                 2   \n",
       "...                       ...              ...        ...               ...   \n",
       "433845                    0.0              0.0         16                 3   \n",
       "433846                    1.0              0.0         14                 4   \n",
       "433847                    2.0              0.0         10                 4   \n",
       "433848                    1.0              0.0         18                 4   \n",
       "433849                    2.0              0.0          8                 2   \n",
       "\n",
       "       CRASH_MONTH   LATITUDE  LONGITUDE  \\\n",
       "0               10        NaN        NaN   \n",
       "1                6        NaN        NaN   \n",
       "2                6  41.741804 -87.740954   \n",
       "3                3  41.741804 -87.740954   \n",
       "4                3  41.953647 -87.732082   \n",
       "...            ...        ...        ...   \n",
       "433845           7  41.859162 -87.721164   \n",
       "433846           7  41.805737 -87.609784   \n",
       "433847           7  41.924824 -87.707553   \n",
       "433848           7  41.909896 -87.652772   \n",
       "433849           1  41.865595 -87.623964   \n",
       "\n",
       "                                        LOCATION  \n",
       "0                                            NaN  \n",
       "1                                            NaN  \n",
       "2       POINT (-87.740953581987 41.741803598989)  \n",
       "3       POINT (-87.740953581987 41.741803598989)  \n",
       "4       POINT (-87.732081736006 41.953646899951)  \n",
       "...                                          ...  \n",
       "433845  POINT (-87.721164123424 41.859161813268)  \n",
       "433846  POINT (-87.609784032292 41.805736682295)  \n",
       "433847  POINT (-87.707552955117 41.924824383756)  \n",
       "433848   POINT (-87.65277243899 41.909895530398)  \n",
       "433849   POINT (-87.62396444716 41.865594951208)  \n",
       "\n",
       "[433850 rows x 39 columns]"
      ]
     },
     "execution_count": 20,
     "metadata": {},
     "output_type": "execute_result"
    }
   ],
   "source": [
    "##Dropping some columns: CRASH_DATE_EST_I, LANE_CNT, INTERSECTION_RELATED_I, NOT_RIGHT_OF_WAY_I, HIT_AND_RUN_I, \n",
    "df = data.drop(['CRASH_DATE_EST_I', 'LANE_CNT', 'INTERSECTION_RELATED_I', 'NOT_RIGHT_OF_WAY_I', 'HIT_AND_RUN_I', 'PHOTOS_TAKEN_I', 'STATEMENTS_TAKEN_I', 'DOORING_I', 'WORK_ZONE_I', 'WORKERS_PRESENT_I'], axis = 1)\n",
    "df"
   ]
  },
  {
   "cell_type": "code",
   "execution_count": 21,
   "metadata": {},
   "outputs": [
    {
     "name": "stdout",
     "output_type": "stream",
     "text": [
      "<class 'pandas.core.frame.DataFrame'>\n",
      "RangeIndex: 433850 entries, 0 to 433849\n",
      "Data columns (total 39 columns):\n",
      "CRASH_RECORD_ID                  433850 non-null object\n",
      "RD_NO                            429878 non-null object\n",
      "CRASH_DATE                       433850 non-null object\n",
      "POSTED_SPEED_LIMIT               433850 non-null int64\n",
      "TRAFFIC_CONTROL_DEVICE           433850 non-null object\n",
      "DEVICE_CONDITION                 433850 non-null object\n",
      "WEATHER_CONDITION                433850 non-null object\n",
      "LIGHTING_CONDITION               433850 non-null object\n",
      "FIRST_CRASH_TYPE                 433850 non-null object\n",
      "TRAFFICWAY_TYPE                  433850 non-null object\n",
      "ALIGNMENT                        433850 non-null object\n",
      "ROADWAY_SURFACE_COND             433850 non-null object\n",
      "ROAD_DEFECT                      433850 non-null object\n",
      "REPORT_TYPE                      423636 non-null object\n",
      "CRASH_TYPE                       433850 non-null object\n",
      "DAMAGE                           433850 non-null object\n",
      "DATE_POLICE_NOTIFIED             433850 non-null object\n",
      "PRIM_CONTRIBUTORY_CAUSE          433850 non-null object\n",
      "SEC_CONTRIBUTORY_CAUSE           433850 non-null object\n",
      "STREET_NO                        433850 non-null int64\n",
      "STREET_DIRECTION                 433847 non-null object\n",
      "STREET_NAME                      433849 non-null object\n",
      "BEAT_OF_OCCURRENCE               433845 non-null float64\n",
      "WORK_ZONE_TYPE                   2304 non-null object\n",
      "NUM_UNITS                        433850 non-null int64\n",
      "MOST_SEVERE_INJURY               432988 non-null object\n",
      "INJURIES_TOTAL                   432998 non-null float64\n",
      "INJURIES_FATAL                   432998 non-null float64\n",
      "INJURIES_INCAPACITATING          432998 non-null float64\n",
      "INJURIES_NON_INCAPACITATING      432998 non-null float64\n",
      "INJURIES_REPORTED_NOT_EVIDENT    432998 non-null float64\n",
      "INJURIES_NO_INDICATION           432998 non-null float64\n",
      "INJURIES_UNKNOWN                 432998 non-null float64\n",
      "CRASH_HOUR                       433850 non-null int64\n",
      "CRASH_DAY_OF_WEEK                433850 non-null int64\n",
      "CRASH_MONTH                      433850 non-null int64\n",
      "LATITUDE                         431487 non-null float64\n",
      "LONGITUDE                        431487 non-null float64\n",
      "LOCATION                         431487 non-null object\n",
      "dtypes: float64(10), int64(6), object(23)\n",
      "memory usage: 129.1+ MB\n"
     ]
    }
   ],
   "source": [
    "df.info()"
   ]
  },
  {
   "cell_type": "code",
   "execution_count": 22,
   "metadata": {},
   "outputs": [
    {
     "data": {
      "text/plain": [
       "Index(['CRASH_RECORD_ID', 'RD_NO', 'CRASH_DATE', 'POSTED_SPEED_LIMIT',\n",
       "       'TRAFFIC_CONTROL_DEVICE', 'DEVICE_CONDITION', 'WEATHER_CONDITION',\n",
       "       'LIGHTING_CONDITION', 'FIRST_CRASH_TYPE', 'TRAFFICWAY_TYPE',\n",
       "       'ALIGNMENT', 'ROADWAY_SURFACE_COND', 'ROAD_DEFECT', 'REPORT_TYPE',\n",
       "       'CRASH_TYPE', 'DAMAGE', 'DATE_POLICE_NOTIFIED',\n",
       "       'PRIM_CONTRIBUTORY_CAUSE', 'SEC_CONTRIBUTORY_CAUSE', 'STREET_NO',\n",
       "       'STREET_DIRECTION', 'STREET_NAME', 'BEAT_OF_OCCURRENCE',\n",
       "       'WORK_ZONE_TYPE', 'NUM_UNITS', 'MOST_SEVERE_INJURY', 'INJURIES_TOTAL',\n",
       "       'INJURIES_FATAL', 'INJURIES_INCAPACITATING',\n",
       "       'INJURIES_NON_INCAPACITATING', 'INJURIES_REPORTED_NOT_EVIDENT',\n",
       "       'INJURIES_NO_INDICATION', 'INJURIES_UNKNOWN', 'CRASH_HOUR',\n",
       "       'CRASH_DAY_OF_WEEK', 'CRASH_MONTH', 'LATITUDE', 'LONGITUDE',\n",
       "       'LOCATION'],\n",
       "      dtype='object')"
      ]
     },
     "execution_count": 22,
     "metadata": {},
     "output_type": "execute_result"
    }
   ],
   "source": [
    "coldf = df.columns\n",
    "coldf"
   ]
  },
  {
   "cell_type": "code",
   "execution_count": 23,
   "metadata": {},
   "outputs": [
    {
     "data": {
      "text/plain": [
       "431546"
      ]
     },
     "execution_count": 23,
     "metadata": {},
     "output_type": "execute_result"
    }
   ],
   "source": [
    "df.WORK_ZONE_TYPE.isna().sum()"
   ]
  },
  {
   "cell_type": "code",
   "execution_count": null,
   "metadata": {},
   "outputs": [],
   "source": []
  },
  {
   "cell_type": "code",
   "execution_count": 24,
   "metadata": {},
   "outputs": [],
   "source": [
    "## Column work zone type: replacing missing values with 'UNKNOWN'\n",
    "df.WORK_ZONE_TYPE.value_counts()\n",
    "df['WORK_ZONE_TYPE'].fillna(value='UNKNOWN', inplace=True)"
   ]
  },
  {
   "cell_type": "code",
   "execution_count": 25,
   "metadata": {},
   "outputs": [
    {
     "data": {
      "text/plain": [
       "UNKNOWN         431851\n",
       "CONSTRUCTION      1636\n",
       "MAINTENANCE        222\n",
       "UTILITY            141\n",
       "Name: WORK_ZONE_TYPE, dtype: int64"
      ]
     },
     "execution_count": 25,
     "metadata": {},
     "output_type": "execute_result"
    }
   ],
   "source": [
    "## Checking to see if missing values have been replaced\n",
    "df.WORK_ZONE_TYPE.isna().sum()\n",
    "df.WORK_ZONE_TYPE.value_counts()\n"
   ]
  },
  {
   "cell_type": "code",
   "execution_count": 62,
   "metadata": {},
   "outputs": [],
   "source": [
    "## Dropping column WORKERS_PRESENT_I\n",
    "##d2 = df.drop(['WORKERS_PRESENT_I'], inplace=True)"
   ]
  },
  {
   "cell_type": "code",
   "execution_count": 26,
   "metadata": {},
   "outputs": [
    {
     "data": {
      "text/plain": [
       "CRASH_RECORD_ID                      0\n",
       "RD_NO                             3972\n",
       "CRASH_DATE                           0\n",
       "POSTED_SPEED_LIMIT                   0\n",
       "TRAFFIC_CONTROL_DEVICE               0\n",
       "DEVICE_CONDITION                     0\n",
       "WEATHER_CONDITION                    0\n",
       "LIGHTING_CONDITION                   0\n",
       "FIRST_CRASH_TYPE                     0\n",
       "TRAFFICWAY_TYPE                      0\n",
       "ALIGNMENT                            0\n",
       "ROADWAY_SURFACE_COND                 0\n",
       "ROAD_DEFECT                          0\n",
       "REPORT_TYPE                      10214\n",
       "CRASH_TYPE                           0\n",
       "DAMAGE                               0\n",
       "DATE_POLICE_NOTIFIED                 0\n",
       "PRIM_CONTRIBUTORY_CAUSE              0\n",
       "SEC_CONTRIBUTORY_CAUSE               0\n",
       "STREET_NO                            0\n",
       "STREET_DIRECTION                     3\n",
       "STREET_NAME                          1\n",
       "BEAT_OF_OCCURRENCE                   5\n",
       "WORK_ZONE_TYPE                       0\n",
       "NUM_UNITS                            0\n",
       "MOST_SEVERE_INJURY                 862\n",
       "INJURIES_TOTAL                     852\n",
       "INJURIES_FATAL                     852\n",
       "INJURIES_INCAPACITATING            852\n",
       "INJURIES_NON_INCAPACITATING        852\n",
       "INJURIES_REPORTED_NOT_EVIDENT      852\n",
       "INJURIES_NO_INDICATION             852\n",
       "INJURIES_UNKNOWN                   852\n",
       "CRASH_HOUR                           0\n",
       "CRASH_DAY_OF_WEEK                    0\n",
       "CRASH_MONTH                          0\n",
       "LATITUDE                          2363\n",
       "LONGITUDE                         2363\n",
       "LOCATION                          2363\n",
       "dtype: int64"
      ]
     },
     "execution_count": 26,
     "metadata": {},
     "output_type": "execute_result"
    }
   ],
   "source": [
    "df.isna().sum()"
   ]
  },
  {
   "cell_type": "code",
   "execution_count": 27,
   "metadata": {},
   "outputs": [
    {
     "data": {
      "text/plain": [
       "JC133179    1\n",
       "JB314360    1\n",
       "JA491583    1\n",
       "JA305577    1\n",
       "JC190396    1\n",
       "           ..\n",
       "JD216388    1\n",
       "JC468700    1\n",
       "JC158132    1\n",
       "JA288218    1\n",
       "JD129066    1\n",
       "Name: RD_NO, Length: 429878, dtype: int64"
      ]
     },
     "execution_count": 27,
     "metadata": {},
     "output_type": "execute_result"
    }
   ],
   "source": [
    "#Looking closely at column RD_NO\n",
    "df.RD_NO.value_counts()"
   ]
  },
  {
   "cell_type": "code",
   "execution_count": 28,
   "metadata": {},
   "outputs": [
    {
     "data": {
      "text/plain": [
       "429879"
      ]
     },
     "execution_count": 28,
     "metadata": {},
     "output_type": "execute_result"
    }
   ],
   "source": [
    "df.RD_NO.isna()\n",
    "len(df.RD_NO.unique())"
   ]
  },
  {
   "cell_type": "code",
   "execution_count": 29,
   "metadata": {},
   "outputs": [],
   "source": [
    "## Replacing none with string 'missing' in column RD_NO\n",
    "na = df.RD_NO.isna()\n",
    "na.value_counts()\n",
    "df['RD_NO'].fillna(value='missing', inplace=True)"
   ]
  },
  {
   "cell_type": "code",
   "execution_count": 30,
   "metadata": {},
   "outputs": [
    {
     "data": {
      "text/plain": [
       "0"
      ]
     },
     "execution_count": 30,
     "metadata": {},
     "output_type": "execute_result"
    }
   ],
   "source": [
    "df.RD_NO.isna().sum()"
   ]
  },
  {
   "cell_type": "code",
   "execution_count": 31,
   "metadata": {},
   "outputs": [
    {
     "data": {
      "text/plain": [
       "41.976201    563\n",
       "41.751461    287\n",
       "41.791420    286\n",
       "41.722257    241\n",
       "41.789329    205\n",
       "            ... \n",
       "41.699213      1\n",
       "41.696381      1\n",
       "41.956177      1\n",
       "41.932554      1\n",
       "41.934339      1\n",
       "Name: LATITUDE, Length: 194799, dtype: int64"
      ]
     },
     "execution_count": 31,
     "metadata": {},
     "output_type": "execute_result"
    }
   ],
   "source": [
    "## Taking a look at latitude / longitude / location\n",
    "df[['LATITUDE', 'LONGITUDE', 'LOCATION']]\n",
    "df.LATITUDE.value_counts()"
   ]
  },
  {
   "cell_type": "code",
   "execution_count": 32,
   "metadata": {},
   "outputs": [
    {
     "data": {
      "text/html": [
       "<div>\n",
       "<style scoped>\n",
       "    .dataframe tbody tr th:only-of-type {\n",
       "        vertical-align: middle;\n",
       "    }\n",
       "\n",
       "    .dataframe tbody tr th {\n",
       "        vertical-align: top;\n",
       "    }\n",
       "\n",
       "    .dataframe thead th {\n",
       "        text-align: right;\n",
       "    }\n",
       "</style>\n",
       "<table border=\"1\" class=\"dataframe\">\n",
       "  <thead>\n",
       "    <tr style=\"text-align: right;\">\n",
       "      <th></th>\n",
       "      <th>MOST_SEVERE_INJURY</th>\n",
       "      <th>INJURIES_TOTAL</th>\n",
       "      <th>INJURIES_FATAL</th>\n",
       "      <th>INJURIES_INCAPACITATING</th>\n",
       "      <th>INJURIES_NON_INCAPACITATING</th>\n",
       "      <th>INJURIES_REPORTED_NOT_EVIDENT</th>\n",
       "    </tr>\n",
       "  </thead>\n",
       "  <tbody>\n",
       "    <tr>\n",
       "      <td>0</td>\n",
       "      <td>NO INDICATION OF INJURY</td>\n",
       "      <td>0.0</td>\n",
       "      <td>0.0</td>\n",
       "      <td>0.0</td>\n",
       "      <td>0.0</td>\n",
       "      <td>0.0</td>\n",
       "    </tr>\n",
       "    <tr>\n",
       "      <td>1</td>\n",
       "      <td>NO INDICATION OF INJURY</td>\n",
       "      <td>0.0</td>\n",
       "      <td>0.0</td>\n",
       "      <td>0.0</td>\n",
       "      <td>0.0</td>\n",
       "      <td>0.0</td>\n",
       "    </tr>\n",
       "    <tr>\n",
       "      <td>2</td>\n",
       "      <td>NO INDICATION OF INJURY</td>\n",
       "      <td>0.0</td>\n",
       "      <td>0.0</td>\n",
       "      <td>0.0</td>\n",
       "      <td>0.0</td>\n",
       "      <td>0.0</td>\n",
       "    </tr>\n",
       "    <tr>\n",
       "      <td>3</td>\n",
       "      <td>NO INDICATION OF INJURY</td>\n",
       "      <td>0.0</td>\n",
       "      <td>0.0</td>\n",
       "      <td>0.0</td>\n",
       "      <td>0.0</td>\n",
       "      <td>0.0</td>\n",
       "    </tr>\n",
       "    <tr>\n",
       "      <td>4</td>\n",
       "      <td>NO INDICATION OF INJURY</td>\n",
       "      <td>0.0</td>\n",
       "      <td>0.0</td>\n",
       "      <td>0.0</td>\n",
       "      <td>0.0</td>\n",
       "      <td>0.0</td>\n",
       "    </tr>\n",
       "    <tr>\n",
       "      <td>...</td>\n",
       "      <td>...</td>\n",
       "      <td>...</td>\n",
       "      <td>...</td>\n",
       "      <td>...</td>\n",
       "      <td>...</td>\n",
       "      <td>...</td>\n",
       "    </tr>\n",
       "    <tr>\n",
       "      <td>433845</td>\n",
       "      <td>REPORTED, NOT EVIDENT</td>\n",
       "      <td>1.0</td>\n",
       "      <td>0.0</td>\n",
       "      <td>0.0</td>\n",
       "      <td>0.0</td>\n",
       "      <td>1.0</td>\n",
       "    </tr>\n",
       "    <tr>\n",
       "      <td>433846</td>\n",
       "      <td>NO INDICATION OF INJURY</td>\n",
       "      <td>0.0</td>\n",
       "      <td>0.0</td>\n",
       "      <td>0.0</td>\n",
       "      <td>0.0</td>\n",
       "      <td>0.0</td>\n",
       "    </tr>\n",
       "    <tr>\n",
       "      <td>433847</td>\n",
       "      <td>REPORTED, NOT EVIDENT</td>\n",
       "      <td>1.0</td>\n",
       "      <td>0.0</td>\n",
       "      <td>0.0</td>\n",
       "      <td>0.0</td>\n",
       "      <td>1.0</td>\n",
       "    </tr>\n",
       "    <tr>\n",
       "      <td>433848</td>\n",
       "      <td>NO INDICATION OF INJURY</td>\n",
       "      <td>0.0</td>\n",
       "      <td>0.0</td>\n",
       "      <td>0.0</td>\n",
       "      <td>0.0</td>\n",
       "      <td>0.0</td>\n",
       "    </tr>\n",
       "    <tr>\n",
       "      <td>433849</td>\n",
       "      <td>NO INDICATION OF INJURY</td>\n",
       "      <td>0.0</td>\n",
       "      <td>0.0</td>\n",
       "      <td>0.0</td>\n",
       "      <td>0.0</td>\n",
       "      <td>0.0</td>\n",
       "    </tr>\n",
       "  </tbody>\n",
       "</table>\n",
       "<p>433850 rows × 6 columns</p>\n",
       "</div>"
      ],
      "text/plain": [
       "             MOST_SEVERE_INJURY  INJURIES_TOTAL  INJURIES_FATAL  \\\n",
       "0       NO INDICATION OF INJURY             0.0             0.0   \n",
       "1       NO INDICATION OF INJURY             0.0             0.0   \n",
       "2       NO INDICATION OF INJURY             0.0             0.0   \n",
       "3       NO INDICATION OF INJURY             0.0             0.0   \n",
       "4       NO INDICATION OF INJURY             0.0             0.0   \n",
       "...                         ...             ...             ...   \n",
       "433845    REPORTED, NOT EVIDENT             1.0             0.0   \n",
       "433846  NO INDICATION OF INJURY             0.0             0.0   \n",
       "433847    REPORTED, NOT EVIDENT             1.0             0.0   \n",
       "433848  NO INDICATION OF INJURY             0.0             0.0   \n",
       "433849  NO INDICATION OF INJURY             0.0             0.0   \n",
       "\n",
       "        INJURIES_INCAPACITATING  INJURIES_NON_INCAPACITATING  \\\n",
       "0                           0.0                          0.0   \n",
       "1                           0.0                          0.0   \n",
       "2                           0.0                          0.0   \n",
       "3                           0.0                          0.0   \n",
       "4                           0.0                          0.0   \n",
       "...                         ...                          ...   \n",
       "433845                      0.0                          0.0   \n",
       "433846                      0.0                          0.0   \n",
       "433847                      0.0                          0.0   \n",
       "433848                      0.0                          0.0   \n",
       "433849                      0.0                          0.0   \n",
       "\n",
       "        INJURIES_REPORTED_NOT_EVIDENT  \n",
       "0                                 0.0  \n",
       "1                                 0.0  \n",
       "2                                 0.0  \n",
       "3                                 0.0  \n",
       "4                                 0.0  \n",
       "...                               ...  \n",
       "433845                            1.0  \n",
       "433846                            0.0  \n",
       "433847                            1.0  \n",
       "433848                            0.0  \n",
       "433849                            0.0  \n",
       "\n",
       "[433850 rows x 6 columns]"
      ]
     },
     "execution_count": 32,
     "metadata": {},
     "output_type": "execute_result"
    }
   ],
   "source": [
    "## Taking a look at injuries\n",
    "df[['MOST_SEVERE_INJURY', 'INJURIES_TOTAL', 'INJURIES_FATAL', 'INJURIES_INCAPACITATING', 'INJURIES_NON_INCAPACITATING', 'INJURIES_REPORTED_NOT_EVIDENT']]"
   ]
  },
  {
   "cell_type": "code",
   "execution_count": 33,
   "metadata": {},
   "outputs": [
    {
     "data": {
      "text/plain": [
       "NO INDICATION OF INJURY     378179\n",
       "NONINCAPACITATING INJURY     30194\n",
       "REPORTED, NOT EVIDENT        17266\n",
       "INCAPACITATING INJURY         6954\n",
       "FATAL                          395\n",
       "Name: MOST_SEVERE_INJURY, dtype: int64"
      ]
     },
     "execution_count": 33,
     "metadata": {},
     "output_type": "execute_result"
    }
   ],
   "source": [
    "df.MOST_SEVERE_INJURY.value_counts()"
   ]
  },
  {
   "cell_type": "code",
   "execution_count": 36,
   "metadata": {},
   "outputs": [
    {
     "name": "stdout",
     "output_type": "stream",
     "text": [
      "   MOST_SEVERE_INJURY_FATAL  MOST_SEVERE_INJURY_INCAPACITATING INJURY  \\\n",
      "0                         0                                         0   \n",
      "1                         0                                         0   \n",
      "2                         0                                         0   \n",
      "3                         0                                         0   \n",
      "4                         0                                         0   \n",
      "\n",
      "   MOST_SEVERE_INJURY_NO INDICATION OF INJURY  \\\n",
      "0                                           1   \n",
      "1                                           1   \n",
      "2                                           1   \n",
      "3                                           1   \n",
      "4                                           1   \n",
      "\n",
      "   MOST_SEVERE_INJURY_NONINCAPACITATING INJURY  \\\n",
      "0                                            0   \n",
      "1                                            0   \n",
      "2                                            0   \n",
      "3                                            0   \n",
      "4                                            0   \n",
      "\n",
      "   MOST_SEVERE_INJURY_REPORTED, NOT EVIDENT  \n",
      "0                                         0  \n",
      "1                                         0  \n",
      "2                                         0  \n",
      "3                                         0  \n",
      "4                                         0  \n"
     ]
    }
   ],
   "source": [
    "## Using one hot encoding on MOST_SEVERE_INJURY column\n",
    "import pandas as pd\n",
    "y = pd.get_dummies(df.MOST_SEVERE_INJURY, prefix='MOST_SEVERE_INJURY')\n",
    "print(y.head())"
   ]
  },
  {
   "cell_type": "code",
   "execution_count": 72,
   "metadata": {},
   "outputs": [
    {
     "data": {
      "text/plain": [
       "Index(['TRAFFIC_CONTROL_DEVICE_BICYCLE CROSSING SIGN',\n",
       "       'TRAFFIC_CONTROL_DEVICE_DELINEATORS',\n",
       "       'TRAFFIC_CONTROL_DEVICE_FLASHING CONTROL SIGNAL',\n",
       "       'TRAFFIC_CONTROL_DEVICE_LANE USE MARKING',\n",
       "       'TRAFFIC_CONTROL_DEVICE_NO CONTROLS',\n",
       "       'TRAFFIC_CONTROL_DEVICE_NO PASSING', 'TRAFFIC_CONTROL_DEVICE_OTHER',\n",
       "       'TRAFFIC_CONTROL_DEVICE_OTHER RAILROAD CROSSING',\n",
       "       'TRAFFIC_CONTROL_DEVICE_OTHER REG. SIGN',\n",
       "       'TRAFFIC_CONTROL_DEVICE_OTHER WARNING SIGN',\n",
       "       'TRAFFIC_CONTROL_DEVICE_PEDESTRIAN CROSSING SIGN',\n",
       "       'TRAFFIC_CONTROL_DEVICE_POLICE/FLAGMAN',\n",
       "       'TRAFFIC_CONTROL_DEVICE_RAILROAD CROSSING GATE',\n",
       "       'TRAFFIC_CONTROL_DEVICE_RR CROSSING SIGN',\n",
       "       'TRAFFIC_CONTROL_DEVICE_SCHOOL ZONE',\n",
       "       'TRAFFIC_CONTROL_DEVICE_STOP SIGN/FLASHER',\n",
       "       'TRAFFIC_CONTROL_DEVICE_TRAFFIC SIGNAL',\n",
       "       'TRAFFIC_CONTROL_DEVICE_UNKNOWN', 'TRAFFIC_CONTROL_DEVICE_YIELD'],\n",
       "      dtype='object')"
      ]
     },
     "execution_count": 72,
     "metadata": {},
     "output_type": "execute_result"
    }
   ],
   "source": [
    "y.columns"
   ]
  },
  {
   "cell_type": "code",
   "execution_count": 70,
   "metadata": {},
   "outputs": [
    {
     "data": {
      "text/html": [
       "<div>\n",
       "<style scoped>\n",
       "    .dataframe tbody tr th:only-of-type {\n",
       "        vertical-align: middle;\n",
       "    }\n",
       "\n",
       "    .dataframe tbody tr th {\n",
       "        vertical-align: top;\n",
       "    }\n",
       "\n",
       "    .dataframe thead th {\n",
       "        text-align: right;\n",
       "    }\n",
       "</style>\n",
       "<table border=\"1\" class=\"dataframe\">\n",
       "  <thead>\n",
       "    <tr style=\"text-align: right;\">\n",
       "      <th></th>\n",
       "      <th>CRASH_RECORD_ID</th>\n",
       "      <th>RD_NO</th>\n",
       "      <th>CRASH_DATE</th>\n",
       "      <th>POSTED_SPEED_LIMIT</th>\n",
       "      <th>TRAFFIC_CONTROL_DEVICE</th>\n",
       "      <th>DEVICE_CONDITION</th>\n",
       "      <th>WEATHER_CONDITION</th>\n",
       "      <th>LIGHTING_CONDITION</th>\n",
       "      <th>FIRST_CRASH_TYPE</th>\n",
       "      <th>TRAFFICWAY_TYPE</th>\n",
       "      <th>...</th>\n",
       "      <th>TRAFFIC_CONTROL_DEVICE_OTHER WARNING SIGN</th>\n",
       "      <th>TRAFFIC_CONTROL_DEVICE_PEDESTRIAN CROSSING SIGN</th>\n",
       "      <th>TRAFFIC_CONTROL_DEVICE_POLICE/FLAGMAN</th>\n",
       "      <th>TRAFFIC_CONTROL_DEVICE_RAILROAD CROSSING GATE</th>\n",
       "      <th>TRAFFIC_CONTROL_DEVICE_RR CROSSING SIGN</th>\n",
       "      <th>TRAFFIC_CONTROL_DEVICE_SCHOOL ZONE</th>\n",
       "      <th>TRAFFIC_CONTROL_DEVICE_STOP SIGN/FLASHER</th>\n",
       "      <th>TRAFFIC_CONTROL_DEVICE_TRAFFIC SIGNAL</th>\n",
       "      <th>TRAFFIC_CONTROL_DEVICE_UNKNOWN</th>\n",
       "      <th>TRAFFIC_CONTROL_DEVICE_YIELD</th>\n",
       "    </tr>\n",
       "  </thead>\n",
       "  <tbody>\n",
       "    <tr>\n",
       "      <td>0</td>\n",
       "      <td>073682ef84ff827659552d4254ad1b98bfec24935cc9cc...</td>\n",
       "      <td>JB460108</td>\n",
       "      <td>10/02/2018 06:30:00 PM</td>\n",
       "      <td>10</td>\n",
       "      <td>NO CONTROLS</td>\n",
       "      <td>NO CONTROLS</td>\n",
       "      <td>CLEAR</td>\n",
       "      <td>DARKNESS</td>\n",
       "      <td>PARKED MOTOR VEHICLE</td>\n",
       "      <td>OTHER</td>\n",
       "      <td>...</td>\n",
       "      <td>0</td>\n",
       "      <td>0</td>\n",
       "      <td>0</td>\n",
       "      <td>0</td>\n",
       "      <td>0</td>\n",
       "      <td>0</td>\n",
       "      <td>0</td>\n",
       "      <td>0</td>\n",
       "      <td>0</td>\n",
       "      <td>0</td>\n",
       "    </tr>\n",
       "    <tr>\n",
       "      <td>1</td>\n",
       "      <td>1560fb8a1e32b528fef8bfd677d2b3fc5ab37278b157fa...</td>\n",
       "      <td>JC325941</td>\n",
       "      <td>06/27/2019 04:00:00 PM</td>\n",
       "      <td>45</td>\n",
       "      <td>NO CONTROLS</td>\n",
       "      <td>NO CONTROLS</td>\n",
       "      <td>CLEAR</td>\n",
       "      <td>DAYLIGHT</td>\n",
       "      <td>SIDESWIPE SAME DIRECTION</td>\n",
       "      <td>ONE-WAY</td>\n",
       "      <td>...</td>\n",
       "      <td>0</td>\n",
       "      <td>0</td>\n",
       "      <td>0</td>\n",
       "      <td>0</td>\n",
       "      <td>0</td>\n",
       "      <td>0</td>\n",
       "      <td>0</td>\n",
       "      <td>0</td>\n",
       "      <td>0</td>\n",
       "      <td>0</td>\n",
       "    </tr>\n",
       "    <tr>\n",
       "      <td>2</td>\n",
       "      <td>009e9e67203442370272e1a13d6ee51a4155dac65e583d...</td>\n",
       "      <td>JA329216</td>\n",
       "      <td>06/30/2017 04:00:00 PM</td>\n",
       "      <td>35</td>\n",
       "      <td>STOP SIGN/FLASHER</td>\n",
       "      <td>FUNCTIONING PROPERLY</td>\n",
       "      <td>CLEAR</td>\n",
       "      <td>DAYLIGHT</td>\n",
       "      <td>TURNING</td>\n",
       "      <td>NOT DIVIDED</td>\n",
       "      <td>...</td>\n",
       "      <td>0</td>\n",
       "      <td>0</td>\n",
       "      <td>0</td>\n",
       "      <td>0</td>\n",
       "      <td>0</td>\n",
       "      <td>0</td>\n",
       "      <td>1</td>\n",
       "      <td>0</td>\n",
       "      <td>0</td>\n",
       "      <td>0</td>\n",
       "    </tr>\n",
       "    <tr>\n",
       "      <td>3</td>\n",
       "      <td>00e47f189660cd8ba1e85fc63061bf1d8465184393f134...</td>\n",
       "      <td>JC194776</td>\n",
       "      <td>03/21/2019 10:50:00 PM</td>\n",
       "      <td>30</td>\n",
       "      <td>TRAFFIC SIGNAL</td>\n",
       "      <td>FUNCTIONING PROPERLY</td>\n",
       "      <td>CLEAR</td>\n",
       "      <td>DARKNESS, LIGHTED ROAD</td>\n",
       "      <td>TURNING</td>\n",
       "      <td>NOT DIVIDED</td>\n",
       "      <td>...</td>\n",
       "      <td>0</td>\n",
       "      <td>0</td>\n",
       "      <td>0</td>\n",
       "      <td>0</td>\n",
       "      <td>0</td>\n",
       "      <td>0</td>\n",
       "      <td>0</td>\n",
       "      <td>1</td>\n",
       "      <td>0</td>\n",
       "      <td>0</td>\n",
       "    </tr>\n",
       "    <tr>\n",
       "      <td>4</td>\n",
       "      <td>0126747fc9ffc0edc9a38abb83d80034f897db0f739eef...</td>\n",
       "      <td>JB200478</td>\n",
       "      <td>03/26/2018 02:23:00 PM</td>\n",
       "      <td>35</td>\n",
       "      <td>NO CONTROLS</td>\n",
       "      <td>NO CONTROLS</td>\n",
       "      <td>CLEAR</td>\n",
       "      <td>DAYLIGHT</td>\n",
       "      <td>PARKED MOTOR VEHICLE</td>\n",
       "      <td>NOT DIVIDED</td>\n",
       "      <td>...</td>\n",
       "      <td>0</td>\n",
       "      <td>0</td>\n",
       "      <td>0</td>\n",
       "      <td>0</td>\n",
       "      <td>0</td>\n",
       "      <td>0</td>\n",
       "      <td>0</td>\n",
       "      <td>0</td>\n",
       "      <td>0</td>\n",
       "      <td>0</td>\n",
       "    </tr>\n",
       "  </tbody>\n",
       "</table>\n",
       "<p>5 rows × 58 columns</p>\n",
       "</div>"
      ],
      "text/plain": [
       "                                     CRASH_RECORD_ID     RD_NO  \\\n",
       "0  073682ef84ff827659552d4254ad1b98bfec24935cc9cc...  JB460108   \n",
       "1  1560fb8a1e32b528fef8bfd677d2b3fc5ab37278b157fa...  JC325941   \n",
       "2  009e9e67203442370272e1a13d6ee51a4155dac65e583d...  JA329216   \n",
       "3  00e47f189660cd8ba1e85fc63061bf1d8465184393f134...  JC194776   \n",
       "4  0126747fc9ffc0edc9a38abb83d80034f897db0f739eef...  JB200478   \n",
       "\n",
       "               CRASH_DATE  POSTED_SPEED_LIMIT TRAFFIC_CONTROL_DEVICE  \\\n",
       "0  10/02/2018 06:30:00 PM                  10            NO CONTROLS   \n",
       "1  06/27/2019 04:00:00 PM                  45            NO CONTROLS   \n",
       "2  06/30/2017 04:00:00 PM                  35      STOP SIGN/FLASHER   \n",
       "3  03/21/2019 10:50:00 PM                  30         TRAFFIC SIGNAL   \n",
       "4  03/26/2018 02:23:00 PM                  35            NO CONTROLS   \n",
       "\n",
       "       DEVICE_CONDITION WEATHER_CONDITION      LIGHTING_CONDITION  \\\n",
       "0           NO CONTROLS             CLEAR                DARKNESS   \n",
       "1           NO CONTROLS             CLEAR                DAYLIGHT   \n",
       "2  FUNCTIONING PROPERLY             CLEAR                DAYLIGHT   \n",
       "3  FUNCTIONING PROPERLY             CLEAR  DARKNESS, LIGHTED ROAD   \n",
       "4           NO CONTROLS             CLEAR                DAYLIGHT   \n",
       "\n",
       "           FIRST_CRASH_TYPE TRAFFICWAY_TYPE  ...  \\\n",
       "0      PARKED MOTOR VEHICLE           OTHER  ...   \n",
       "1  SIDESWIPE SAME DIRECTION         ONE-WAY  ...   \n",
       "2                   TURNING     NOT DIVIDED  ...   \n",
       "3                   TURNING     NOT DIVIDED  ...   \n",
       "4      PARKED MOTOR VEHICLE     NOT DIVIDED  ...   \n",
       "\n",
       "  TRAFFIC_CONTROL_DEVICE_OTHER WARNING SIGN  \\\n",
       "0                                         0   \n",
       "1                                         0   \n",
       "2                                         0   \n",
       "3                                         0   \n",
       "4                                         0   \n",
       "\n",
       "  TRAFFIC_CONTROL_DEVICE_PEDESTRIAN CROSSING SIGN  \\\n",
       "0                                               0   \n",
       "1                                               0   \n",
       "2                                               0   \n",
       "3                                               0   \n",
       "4                                               0   \n",
       "\n",
       "  TRAFFIC_CONTROL_DEVICE_POLICE/FLAGMAN  \\\n",
       "0                                     0   \n",
       "1                                     0   \n",
       "2                                     0   \n",
       "3                                     0   \n",
       "4                                     0   \n",
       "\n",
       "  TRAFFIC_CONTROL_DEVICE_RAILROAD CROSSING GATE  \\\n",
       "0                                             0   \n",
       "1                                             0   \n",
       "2                                             0   \n",
       "3                                             0   \n",
       "4                                             0   \n",
       "\n",
       "  TRAFFIC_CONTROL_DEVICE_RR CROSSING SIGN TRAFFIC_CONTROL_DEVICE_SCHOOL ZONE  \\\n",
       "0                                       0                                  0   \n",
       "1                                       0                                  0   \n",
       "2                                       0                                  0   \n",
       "3                                       0                                  0   \n",
       "4                                       0                                  0   \n",
       "\n",
       "  TRAFFIC_CONTROL_DEVICE_STOP SIGN/FLASHER  \\\n",
       "0                                        0   \n",
       "1                                        0   \n",
       "2                                        1   \n",
       "3                                        0   \n",
       "4                                        0   \n",
       "\n",
       "  TRAFFIC_CONTROL_DEVICE_TRAFFIC SIGNAL TRAFFIC_CONTROL_DEVICE_UNKNOWN  \\\n",
       "0                                     0                              0   \n",
       "1                                     0                              0   \n",
       "2                                     0                              0   \n",
       "3                                     1                              0   \n",
       "4                                     0                              0   \n",
       "\n",
       "   TRAFFIC_CONTROL_DEVICE_YIELD  \n",
       "0                             0  \n",
       "1                             0  \n",
       "2                             0  \n",
       "3                             0  \n",
       "4                             0  \n",
       "\n",
       "[5 rows x 58 columns]"
      ]
     },
     "execution_count": 70,
     "metadata": {},
     "output_type": "execute_result"
    }
   ],
   "source": [
    "## Merging df and one hot encoded dataframe\n",
    "df_index = pd.merge(df, y, right_index=True, left_index=True)\n",
    "\n",
    "df_index.head()\n",
    "\n"
   ]
  },
  {
   "cell_type": "code",
   "execution_count": 71,
   "metadata": {},
   "outputs": [
    {
     "data": {
      "text/plain": [
       "Index(['CRASH_RECORD_ID', 'RD_NO', 'CRASH_DATE', 'POSTED_SPEED_LIMIT',\n",
       "       'TRAFFIC_CONTROL_DEVICE', 'DEVICE_CONDITION', 'WEATHER_CONDITION',\n",
       "       'LIGHTING_CONDITION', 'FIRST_CRASH_TYPE', 'TRAFFICWAY_TYPE',\n",
       "       'ALIGNMENT', 'ROADWAY_SURFACE_COND', 'ROAD_DEFECT', 'REPORT_TYPE',\n",
       "       'CRASH_TYPE', 'DAMAGE', 'DATE_POLICE_NOTIFIED',\n",
       "       'PRIM_CONTRIBUTORY_CAUSE', 'SEC_CONTRIBUTORY_CAUSE', 'STREET_NO',\n",
       "       'STREET_DIRECTION', 'STREET_NAME', 'BEAT_OF_OCCURRENCE',\n",
       "       'WORK_ZONE_TYPE', 'NUM_UNITS', 'MOST_SEVERE_INJURY', 'INJURIES_TOTAL',\n",
       "       'INJURIES_FATAL', 'INJURIES_INCAPACITATING',\n",
       "       'INJURIES_NON_INCAPACITATING', 'INJURIES_REPORTED_NOT_EVIDENT',\n",
       "       'INJURIES_NO_INDICATION', 'INJURIES_UNKNOWN', 'CRASH_HOUR',\n",
       "       'CRASH_DAY_OF_WEEK', 'CRASH_MONTH', 'LATITUDE', 'LONGITUDE', 'LOCATION',\n",
       "       'TRAFFIC_CONTROL_DEVICE_BICYCLE CROSSING SIGN',\n",
       "       'TRAFFIC_CONTROL_DEVICE_DELINEATORS',\n",
       "       'TRAFFIC_CONTROL_DEVICE_FLASHING CONTROL SIGNAL',\n",
       "       'TRAFFIC_CONTROL_DEVICE_LANE USE MARKING',\n",
       "       'TRAFFIC_CONTROL_DEVICE_NO CONTROLS',\n",
       "       'TRAFFIC_CONTROL_DEVICE_NO PASSING', 'TRAFFIC_CONTROL_DEVICE_OTHER',\n",
       "       'TRAFFIC_CONTROL_DEVICE_OTHER RAILROAD CROSSING',\n",
       "       'TRAFFIC_CONTROL_DEVICE_OTHER REG. SIGN',\n",
       "       'TRAFFIC_CONTROL_DEVICE_OTHER WARNING SIGN',\n",
       "       'TRAFFIC_CONTROL_DEVICE_PEDESTRIAN CROSSING SIGN',\n",
       "       'TRAFFIC_CONTROL_DEVICE_POLICE/FLAGMAN',\n",
       "       'TRAFFIC_CONTROL_DEVICE_RAILROAD CROSSING GATE',\n",
       "       'TRAFFIC_CONTROL_DEVICE_RR CROSSING SIGN',\n",
       "       'TRAFFIC_CONTROL_DEVICE_SCHOOL ZONE',\n",
       "       'TRAFFIC_CONTROL_DEVICE_STOP SIGN/FLASHER',\n",
       "       'TRAFFIC_CONTROL_DEVICE_TRAFFIC SIGNAL',\n",
       "       'TRAFFIC_CONTROL_DEVICE_UNKNOWN', 'TRAFFIC_CONTROL_DEVICE_YIELD'],\n",
       "      dtype='object')"
      ]
     },
     "execution_count": 71,
     "metadata": {},
     "output_type": "execute_result"
    }
   ],
   "source": [
    "df_index.columns"
   ]
  },
  {
   "cell_type": "code",
   "execution_count": 38,
   "metadata": {},
   "outputs": [
    {
     "data": {
      "text/plain": [
       "Index(['CRASH_RECORD_ID', 'RD_NO', 'CRASH_DATE', 'POSTED_SPEED_LIMIT',\n",
       "       'TRAFFIC_CONTROL_DEVICE', 'DEVICE_CONDITION', 'WEATHER_CONDITION',\n",
       "       'LIGHTING_CONDITION', 'FIRST_CRASH_TYPE', 'TRAFFICWAY_TYPE',\n",
       "       'ALIGNMENT', 'ROADWAY_SURFACE_COND', 'ROAD_DEFECT', 'REPORT_TYPE',\n",
       "       'CRASH_TYPE', 'DAMAGE', 'DATE_POLICE_NOTIFIED',\n",
       "       'PRIM_CONTRIBUTORY_CAUSE', 'SEC_CONTRIBUTORY_CAUSE', 'STREET_NO',\n",
       "       'STREET_DIRECTION', 'STREET_NAME', 'BEAT_OF_OCCURRENCE',\n",
       "       'WORK_ZONE_TYPE', 'NUM_UNITS', 'MOST_SEVERE_INJURY', 'INJURIES_TOTAL',\n",
       "       'INJURIES_FATAL', 'INJURIES_INCAPACITATING',\n",
       "       'INJURIES_NON_INCAPACITATING', 'INJURIES_REPORTED_NOT_EVIDENT',\n",
       "       'INJURIES_NO_INDICATION', 'INJURIES_UNKNOWN', 'CRASH_HOUR',\n",
       "       'CRASH_DAY_OF_WEEK', 'CRASH_MONTH', 'LATITUDE', 'LONGITUDE',\n",
       "       'LOCATION'],\n",
       "      dtype='object')"
      ]
     },
     "execution_count": 38,
     "metadata": {},
     "output_type": "execute_result"
    }
   ],
   "source": [
    "df.columns"
   ]
  },
  {
   "cell_type": "code",
   "execution_count": 39,
   "metadata": {},
   "outputs": [
    {
     "data": {
      "text/plain": [
       "30    319748\n",
       "35     29825\n",
       "25     26119\n",
       "20     16735\n",
       "15     14973\n",
       "10      8849\n",
       "0       6666\n",
       "40      3890\n",
       "5       3503\n",
       "45      2574\n",
       "55       406\n",
       "3        106\n",
       "50        90\n",
       "9         89\n",
       "99        66\n",
       "39        46\n",
       "1         35\n",
       "60        26\n",
       "2         19\n",
       "32        13\n",
       "65        11\n",
       "24         9\n",
       "33         9\n",
       "6          7\n",
       "11         5\n",
       "34         5\n",
       "36         4\n",
       "70         3\n",
       "18         2\n",
       "14         2\n",
       "12         2\n",
       "7          2\n",
       "31         2\n",
       "4          1\n",
       "49         1\n",
       "63         1\n",
       "16         1\n",
       "23         1\n",
       "26         1\n",
       "29         1\n",
       "38         1\n",
       "22         1\n",
       "Name: POSTED_SPEED_LIMIT, dtype: int64"
      ]
     },
     "execution_count": 39,
     "metadata": {},
     "output_type": "execute_result"
    }
   ],
   "source": [
    "## Exploring the column POSTED_SPEED_LIMIT\n",
    "df.POSTED_SPEED_LIMIT.value_counts()"
   ]
  },
  {
   "cell_type": "code",
   "execution_count": 40,
   "metadata": {},
   "outputs": [
    {
     "data": {
      "text/plain": [
       "NO CONTROLS                 249771\n",
       "TRAFFIC SIGNAL              120831\n",
       "STOP SIGN/FLASHER            42832\n",
       "UNKNOWN                      13967\n",
       "OTHER                         2606\n",
       "LANE USE MARKING              1226\n",
       "YIELD                          626\n",
       "OTHER REG. SIGN                427\n",
       "OTHER WARNING SIGN             392\n",
       "RAILROAD CROSSING GATE         296\n",
       "POLICE/FLAGMAN                 169\n",
       "SCHOOL ZONE                    165\n",
       "PEDESTRIAN CROSSING SIGN       163\n",
       "DELINEATORS                    120\n",
       "OTHER RAILROAD CROSSING        100\n",
       "FLASHING CONTROL SIGNAL         98\n",
       "RR CROSSING SIGN                32\n",
       "NO PASSING                      18\n",
       "BICYCLE CROSSING SIGN           11\n",
       "Name: TRAFFIC_CONTROL_DEVICE, dtype: int64"
      ]
     },
     "execution_count": 40,
     "metadata": {},
     "output_type": "execute_result"
    }
   ],
   "source": [
    "## Exploring the column TRAFFIC_CONTROL_DEVICE\n",
    "df.TRAFFIC_CONTROL_DEVICE.value_counts()"
   ]
  },
  {
   "cell_type": "code",
   "execution_count": 41,
   "metadata": {},
   "outputs": [
    {
     "data": {
      "text/plain": [
       "NO CONTROLS                 252158\n",
       "FUNCTIONING PROPERLY        150584\n",
       "UNKNOWN                      23641\n",
       "OTHER                         3358\n",
       "FUNCTIONING IMPROPERLY        2406\n",
       "NOT FUNCTIONING               1452\n",
       "WORN REFLECTIVE MATERIAL       196\n",
       "MISSING                         55\n",
       "Name: DEVICE_CONDITION, dtype: int64"
      ]
     },
     "execution_count": 41,
     "metadata": {},
     "output_type": "execute_result"
    }
   ],
   "source": [
    "## Exploring the column DEVICE_CONDITION\n",
    "df.DEVICE_CONDITION.value_counts()"
   ]
  },
  {
   "cell_type": "code",
   "execution_count": 42,
   "metadata": {},
   "outputs": [
    {
     "data": {
      "text/plain": [
       "CLEAR                       343923\n",
       "RAIN                         39220\n",
       "UNKNOWN                      18659\n",
       "SNOW                         15698\n",
       "CLOUDY/OVERCAST              12996\n",
       "OTHER                         1363\n",
       "FOG/SMOKE/HAZE                 791\n",
       "SLEET/HAIL                     656\n",
       "FREEZING RAIN/DRIZZLE          389\n",
       "SEVERE CROSS WIND GATE          90\n",
       "BLOWING SNOW                    63\n",
       "BLOWING SAND, SOIL, DIRT         2\n",
       "Name: WEATHER_CONDITION, dtype: int64"
      ]
     },
     "execution_count": 42,
     "metadata": {},
     "output_type": "execute_result"
    }
   ],
   "source": [
    "## Exploring the column WEATHER_CONDITION\n",
    "df.WEATHER_CONDITION.value_counts()"
   ]
  },
  {
   "cell_type": "code",
   "execution_count": 43,
   "metadata": {},
   "outputs": [
    {
     "data": {
      "text/plain": [
       "DAYLIGHT                  284852\n",
       "DARKNESS, LIGHTED ROAD     90714\n",
       "DARKNESS                   21836\n",
       "UNKNOWN                    15637\n",
       "DUSK                       13282\n",
       "DAWN                        7529\n",
       "Name: LIGHTING_CONDITION, dtype: int64"
      ]
     },
     "execution_count": 43,
     "metadata": {},
     "output_type": "execute_result"
    }
   ],
   "source": [
    "## Exploring the column LIGHTING_CONDITION\n",
    "df.LIGHTING_CONDITION.value_counts()"
   ]
  },
  {
   "cell_type": "code",
   "execution_count": 44,
   "metadata": {},
   "outputs": [
    {
     "data": {
      "text/plain": [
       "REAR END                        105184\n",
       "PARKED MOTOR VEHICLE             98046\n",
       "SIDESWIPE SAME DIRECTION         68507\n",
       "TURNING                          60692\n",
       "ANGLE                            45567\n",
       "FIXED OBJECT                     19279\n",
       "PEDESTRIAN                       10216\n",
       "PEDALCYCLIST                      6416\n",
       "SIDESWIPE OPPOSITE DIRECTION      6386\n",
       "OTHER OBJECT                      4087\n",
       "HEAD ON                           3655\n",
       "REAR TO FRONT                     2057\n",
       "OTHER NONCOLLISION                1499\n",
       "REAR TO SIDE                      1255\n",
       "REAR TO REAR                       463\n",
       "ANIMAL                             292\n",
       "OVERTURNED                         222\n",
       "TRAIN                               27\n",
       "Name: FIRST_CRASH_TYPE, dtype: int64"
      ]
     },
     "execution_count": 44,
     "metadata": {},
     "output_type": "execute_result"
    }
   ],
   "source": [
    "## Exploring the column FIRST_CRASH_TYPE\n",
    "df.FIRST_CRASH_TYPE.value_counts()"
   ]
  },
  {
   "cell_type": "code",
   "execution_count": 45,
   "metadata": {},
   "outputs": [
    {
     "data": {
      "text/plain": [
       "NOT DIVIDED                        194962\n",
       "DIVIDED - W/MEDIAN (NOT RAISED)     78049\n",
       "ONE-WAY                             57660\n",
       "PARKING LOT                         31086\n",
       "DIVIDED - W/MEDIAN BARRIER          26100\n",
       "OTHER                               12539\n",
       "FOUR WAY                            10918\n",
       "ALLEY                                7025\n",
       "UNKNOWN                              4743\n",
       "CENTER TURN LANE                     3830\n",
       "T-INTERSECTION                       2332\n",
       "DRIVEWAY                             1519\n",
       "RAMP                                 1390\n",
       "UNKNOWN INTERSECTION TYPE             722\n",
       "FIVE POINT, OR MORE                   288\n",
       "Y-INTERSECTION                        279\n",
       "TRAFFIC ROUTE                         205\n",
       "NOT REPORTED                           92\n",
       "ROUNDABOUT                             71\n",
       "L-INTERSECTION                         40\n",
       "Name: TRAFFICWAY_TYPE, dtype: int64"
      ]
     },
     "execution_count": 45,
     "metadata": {},
     "output_type": "execute_result"
    }
   ],
   "source": [
    "## Exploring the column TRAFFICWAY_TYPE\n",
    "df.TRAFFICWAY_TYPE.value_counts()"
   ]
  },
  {
   "cell_type": "code",
   "execution_count": 46,
   "metadata": {},
   "outputs": [
    {
     "data": {
      "text/plain": [
       "STRAIGHT AND LEVEL       423027\n",
       "STRAIGHT ON GRADE          5353\n",
       "CURVE, LEVEL               3234\n",
       "STRAIGHT ON HILLCREST      1386\n",
       "CURVE ON GRADE              635\n",
       "CURVE ON HILLCREST          215\n",
       "Name: ALIGNMENT, dtype: int64"
      ]
     },
     "execution_count": 46,
     "metadata": {},
     "output_type": "execute_result"
    }
   ],
   "source": [
    "## Exploring the column ALIGNMENT\n",
    "df.ALIGNMENT.value_counts()"
   ]
  },
  {
   "cell_type": "code",
   "execution_count": 47,
   "metadata": {},
   "outputs": [
    {
     "data": {
      "text/plain": [
       "DRY                325956\n",
       "WET                 59900\n",
       "UNKNOWN             28448\n",
       "SNOW OR SLUSH       14940\n",
       "ICE                  3405\n",
       "OTHER                1000\n",
       "SAND, MUD, DIRT       201\n",
       "Name: ROADWAY_SURFACE_COND, dtype: int64"
      ]
     },
     "execution_count": 47,
     "metadata": {},
     "output_type": "execute_result"
    }
   ],
   "source": [
    "## Exploring the column ROADWAY_SURFACE_COND\n",
    "df.ROADWAY_SURFACE_COND.value_counts()"
   ]
  },
  {
   "cell_type": "code",
   "execution_count": 48,
   "metadata": {},
   "outputs": [
    {
     "data": {
      "text/plain": [
       "NO DEFECTS           361530\n",
       "UNKNOWN               62461\n",
       "RUT, HOLES             4257\n",
       "OTHER                  2490\n",
       "WORN SURFACE           1770\n",
       "SHOULDER DEFECT         954\n",
       "DEBRIS ON ROADWAY       388\n",
       "Name: ROAD_DEFECT, dtype: int64"
      ]
     },
     "execution_count": 48,
     "metadata": {},
     "output_type": "execute_result"
    }
   ],
   "source": [
    "## Exploring the column ROAD_DEFECT\n",
    "df.ROAD_DEFECT.value_counts()"
   ]
  },
  {
   "cell_type": "code",
   "execution_count": 49,
   "metadata": {},
   "outputs": [
    {
     "data": {
      "text/plain": [
       "NOT ON SCENE (DESK REPORT)    255147\n",
       "ON SCENE                      168249\n",
       "AMENDED                          240\n",
       "Name: REPORT_TYPE, dtype: int64"
      ]
     },
     "execution_count": 49,
     "metadata": {},
     "output_type": "execute_result"
    }
   ],
   "source": [
    "## Exploring the column REPORT_TYPE\n",
    "df.REPORT_TYPE.value_counts()"
   ]
  },
  {
   "cell_type": "code",
   "execution_count": 50,
   "metadata": {},
   "outputs": [
    {
     "data": {
      "text/plain": [
       "NO INJURY / DRIVE AWAY              330167\n",
       "INJURY AND / OR TOW DUE TO CRASH    103683\n",
       "Name: CRASH_TYPE, dtype: int64"
      ]
     },
     "execution_count": 50,
     "metadata": {},
     "output_type": "execute_result"
    }
   ],
   "source": [
    "## Exploring the column CRASH_TYPE\n",
    "df.CRASH_TYPE.value_counts()"
   ]
  },
  {
   "cell_type": "code",
   "execution_count": 51,
   "metadata": {},
   "outputs": [
    {
     "data": {
      "text/plain": [
       "OVER $1,500      247532\n",
       "$501 - $1,500    129101\n",
       "$500 OR LESS      57217\n",
       "Name: DAMAGE, dtype: int64"
      ]
     },
     "execution_count": 51,
     "metadata": {},
     "output_type": "execute_result"
    }
   ],
   "source": [
    "## Exploring the column DAMAGE\n",
    "df.DAMAGE.value_counts()"
   ]
  },
  {
   "cell_type": "code",
   "execution_count": 52,
   "metadata": {},
   "outputs": [
    {
     "data": {
      "text/plain": [
       "02/26/2020 08:30:00 AM    12\n",
       "01/12/2019 04:30:00 PM    11\n",
       "06/30/2018 09:30:00 PM    11\n",
       "02/14/2020 05:00:00 PM    11\n",
       "09/13/2019 05:00:00 PM    11\n",
       "                          ..\n",
       "09/26/2017 08:01:00 AM     1\n",
       "01/20/2019 11:18:00 PM     1\n",
       "07/23/2017 08:00:00 PM     1\n",
       "12/28/2015 07:27:00 AM     1\n",
       "06/10/2020 06:22:00 AM     1\n",
       "Name: DATE_POLICE_NOTIFIED, Length: 332567, dtype: int64"
      ]
     },
     "execution_count": 52,
     "metadata": {},
     "output_type": "execute_result"
    }
   ],
   "source": [
    "## Exploring the column DATE_POLICE_NOTIFIED\n",
    "df.DATE_POLICE_NOTIFIED.value_counts()"
   ]
  },
  {
   "cell_type": "code",
   "execution_count": 53,
   "metadata": {},
   "outputs": [
    {
     "data": {
      "text/plain": [
       "UNABLE TO DETERMINE                                                                 158278\n",
       "FAILING TO YIELD RIGHT-OF-WAY                                                        48423\n",
       "FOLLOWING TOO CLOSELY                                                                47199\n",
       "NOT APPLICABLE                                                                       23389\n",
       "IMPROPER OVERTAKING/PASSING                                                          20843\n",
       "IMPROPER BACKING                                                                     19414\n",
       "FAILING TO REDUCE SPEED TO AVOID CRASH                                               18460\n",
       "IMPROPER LANE USAGE                                                                  17230\n",
       "IMPROPER TURNING/NO SIGNAL                                                           14598\n",
       "DRIVING SKILLS/KNOWLEDGE/EXPERIENCE                                                  13545\n",
       "DISREGARDING TRAFFIC SIGNALS                                                          7573\n",
       "WEATHER                                                                               6882\n",
       "OPERATING VEHICLE IN ERRATIC, RECKLESS, CARELESS, NEGLIGENT OR AGGRESSIVE MANNER      5282\n",
       "DISREGARDING STOP SIGN                                                                4710\n",
       "DISTRACTION - FROM INSIDE VEHICLE                                                     3170\n",
       "EQUIPMENT - VEHICLE CONDITION                                                         2642\n",
       "VISION OBSCURED (SIGNS, TREE LIMBS, BUILDINGS, ETC.)                                  2527\n",
       "PHYSICAL CONDITION OF DRIVER                                                          2497\n",
       "UNDER THE INFLUENCE OF ALCOHOL/DRUGS (USE WHEN ARREST IS EFFECTED)                    2280\n",
       "EXCEEDING AUTHORIZED SPEED LIMIT                                                      1982\n",
       "DRIVING ON WRONG SIDE/WRONG WAY                                                       1972\n",
       "DISTRACTION - FROM OUTSIDE VEHICLE                                                    1929\n",
       "EXCEEDING SAFE SPEED FOR CONDITIONS                                                   1684\n",
       "ROAD ENGINEERING/SURFACE/MARKING DEFECTS                                              1307\n",
       "ROAD CONSTRUCTION/MAINTENANCE                                                         1106\n",
       "DISREGARDING OTHER TRAFFIC SIGNS                                                       910\n",
       "EVASIVE ACTION DUE TO ANIMAL, OBJECT, NONMOTORIST                                      793\n",
       "CELL PHONE USE OTHER THAN TEXTING                                                      611\n",
       "DISREGARDING ROAD MARKINGS                                                             607\n",
       "HAD BEEN DRINKING (USE WHEN ARREST IS NOT MADE)                                        474\n",
       "ANIMAL                                                                                 371\n",
       "TURNING RIGHT ON RED                                                                   303\n",
       "DISTRACTION - OTHER ELECTRONIC DEVICE (NAVIGATION DEVICE, DVD PLAYER, ETC.)            209\n",
       "TEXTING                                                                                194\n",
       "DISREGARDING YIELD SIGN                                                                165\n",
       "RELATED TO BUS STOP                                                                    127\n",
       "BICYCLE ADVANCING LEGALLY ON RED LIGHT                                                  61\n",
       "PASSING STOPPED SCHOOL BUS                                                              59\n",
       "OBSTRUCTED CROSSWALKS                                                                   25\n",
       "MOTORCYCLE ADVANCING LEGALLY ON RED LIGHT                                               19\n",
       "Name: PRIM_CONTRIBUTORY_CAUSE, dtype: int64"
      ]
     },
     "execution_count": 53,
     "metadata": {},
     "output_type": "execute_result"
    }
   ],
   "source": [
    "## Exploring the column PRIM_CONTRIBUTORY_CAUSE\n",
    "df.PRIM_CONTRIBUTORY_CAUSE.value_counts()"
   ]
  },
  {
   "cell_type": "code",
   "execution_count": 54,
   "metadata": {},
   "outputs": [
    {
     "data": {
      "text/plain": [
       "NOT APPLICABLE                                                                      174671\n",
       "UNABLE TO DETERMINE                                                                 154499\n",
       "FAILING TO REDUCE SPEED TO AVOID CRASH                                               18195\n",
       "DRIVING SKILLS/KNOWLEDGE/EXPERIENCE                                                  13834\n",
       "FAILING TO YIELD RIGHT-OF-WAY                                                        13265\n",
       "FOLLOWING TOO CLOSELY                                                                12234\n",
       "IMPROPER OVERTAKING/PASSING                                                           6460\n",
       "IMPROPER LANE USAGE                                                                   6395\n",
       "WEATHER                                                                               5401\n",
       "IMPROPER TURNING/NO SIGNAL                                                            4389\n",
       "IMPROPER BACKING                                                                      3830\n",
       "OPERATING VEHICLE IN ERRATIC, RECKLESS, CARELESS, NEGLIGENT OR AGGRESSIVE MANNER      2893\n",
       "DISREGARDING TRAFFIC SIGNALS                                                          1616\n",
       "VISION OBSCURED (SIGNS, TREE LIMBS, BUILDINGS, ETC.)                                  1508\n",
       "EXCEEDING AUTHORIZED SPEED LIMIT                                                      1473\n",
       "EXCEEDING SAFE SPEED FOR CONDITIONS                                                   1438\n",
       "DISTRACTION - FROM INSIDE VEHICLE                                                     1412\n",
       "PHYSICAL CONDITION OF DRIVER                                                          1344\n",
       "DISREGARDING STOP SIGN                                                                1298\n",
       "EQUIPMENT - VEHICLE CONDITION                                                          861\n",
       "DISTRACTION - FROM OUTSIDE VEHICLE                                                     800\n",
       "DRIVING ON WRONG SIDE/WRONG WAY                                                        783\n",
       "UNDER THE INFLUENCE OF ALCOHOL/DRUGS (USE WHEN ARREST IS EFFECTED)                     738\n",
       "HAD BEEN DRINKING (USE WHEN ARREST IS NOT MADE)                                        611\n",
       "ROAD CONSTRUCTION/MAINTENANCE                                                          595\n",
       "ROAD ENGINEERING/SURFACE/MARKING DEFECTS                                               509\n",
       "DISREGARDING ROAD MARKINGS                                                             484\n",
       "DISREGARDING OTHER TRAFFIC SIGNS                                                       460\n",
       "CELL PHONE USE OTHER THAN TEXTING                                                      361\n",
       "EVASIVE ACTION DUE TO ANIMAL, OBJECT, NONMOTORIST                                      239\n",
       "ANIMAL                                                                                 220\n",
       "BICYCLE ADVANCING LEGALLY ON RED LIGHT                                                 210\n",
       "TURNING RIGHT ON RED                                                                   163\n",
       "RELATED TO BUS STOP                                                                    151\n",
       "DISTRACTION - OTHER ELECTRONIC DEVICE (NAVIGATION DEVICE, DVD PLAYER, ETC.)            148\n",
       "DISREGARDING YIELD SIGN                                                                124\n",
       "TEXTING                                                                                 91\n",
       "PASSING STOPPED SCHOOL BUS                                                              61\n",
       "MOTORCYCLE ADVANCING LEGALLY ON RED LIGHT                                               45\n",
       "OBSTRUCTED CROSSWALKS                                                                   41\n",
       "Name: SEC_CONTRIBUTORY_CAUSE, dtype: int64"
      ]
     },
     "execution_count": 54,
     "metadata": {},
     "output_type": "execute_result"
    }
   ],
   "source": [
    "## Exploring the column SEC_CONTRIBUTORY_CAUSE\n",
    "df.SEC_CONTRIBUTORY_CAUSE.value_counts()"
   ]
  },
  {
   "cell_type": "code",
   "execution_count": 55,
   "metadata": {},
   "outputs": [
    {
     "data": {
      "text/plain": [
       "100      2915\n",
       "1600     2733\n",
       "200      2622\n",
       "800      2580\n",
       "300      2419\n",
       "         ... \n",
       "7192        1\n",
       "10883       1\n",
       "34453       1\n",
       "11904       1\n",
       "8061        1\n",
       "Name: STREET_NO, Length: 10934, dtype: int64"
      ]
     },
     "execution_count": 55,
     "metadata": {},
     "output_type": "execute_result"
    }
   ],
   "source": [
    "## Exploring the column STREET_NO\n",
    "df.STREET_NO.value_counts()"
   ]
  },
  {
   "cell_type": "code",
   "execution_count": null,
   "metadata": {},
   "outputs": [],
   "source": [
    "STREET_DIRECTION', 'STREET_NAME', 'BEAT_OF_OCCURRENCE',\n",
    "       'WORK_ZONE_TYPE', 'NUM_UNITS'"
   ]
  },
  {
   "cell_type": "code",
   "execution_count": 56,
   "metadata": {},
   "outputs": [
    {
     "data": {
      "text/plain": [
       "W    154827\n",
       "S    142807\n",
       "N    106111\n",
       "E     30102\n",
       "Name: STREET_DIRECTION, dtype: int64"
      ]
     },
     "execution_count": 56,
     "metadata": {},
     "output_type": "execute_result"
    }
   ],
   "source": [
    "## Exploring the column STREET_DIRECTION\n",
    "df.STREET_DIRECTION.value_counts()"
   ]
  },
  {
   "cell_type": "code",
   "execution_count": 57,
   "metadata": {},
   "outputs": [
    {
     "data": {
      "text/plain": [
       "WESTERN AVE             11777\n",
       "PULASKI RD              10308\n",
       "CICERO AVE               9439\n",
       "ASHLAND AVE              9357\n",
       "HALSTED ST               8291\n",
       "                        ...  \n",
       "MEMORY LN                   1\n",
       "BRODMAN AVE                 1\n",
       "LAKE SHORE DR E RAMP        1\n",
       "SG16 ST                     1\n",
       "DICKINSON AVE               1\n",
       "Name: STREET_NAME, Length: 1553, dtype: int64"
      ]
     },
     "execution_count": 57,
     "metadata": {},
     "output_type": "execute_result"
    }
   ],
   "source": [
    "## Exploring the column STREET_NAME\n",
    "df.STREET_NAME.value_counts()"
   ]
  },
  {
   "cell_type": "code",
   "execution_count": 58,
   "metadata": {},
   "outputs": [
    {
     "data": {
      "text/plain": [
       "1834.0    6021\n",
       "114.0     4814\n",
       "122.0     4805\n",
       "1831.0    4774\n",
       "813.0     4316\n",
       "          ... \n",
       "422.0      405\n",
       "1653.0     158\n",
       "1652.0      73\n",
       "1655.0      65\n",
       "6100.0       1\n",
       "Name: BEAT_OF_OCCURRENCE, Length: 275, dtype: int64"
      ]
     },
     "execution_count": 58,
     "metadata": {},
     "output_type": "execute_result"
    }
   ],
   "source": [
    "## Exploring the column BEAT_OF_OCCURRENCE\n",
    "df.BEAT_OF_OCCURRENCE.value_counts()"
   ]
  },
  {
   "cell_type": "code",
   "execution_count": 59,
   "metadata": {},
   "outputs": [
    {
     "data": {
      "text/plain": [
       "UNKNOWN         431851\n",
       "CONSTRUCTION      1636\n",
       "MAINTENANCE        222\n",
       "UTILITY            141\n",
       "Name: WORK_ZONE_TYPE, dtype: int64"
      ]
     },
     "execution_count": 59,
     "metadata": {},
     "output_type": "execute_result"
    }
   ],
   "source": [
    "## Exploring the column WORK_ZONE_TYPE\n",
    "df.WORK_ZONE_TYPE.value_counts()"
   ]
  },
  {
   "cell_type": "code",
   "execution_count": 60,
   "metadata": {},
   "outputs": [
    {
     "data": {
      "text/plain": [
       "2     383105\n",
       "1      22604\n",
       "3      22565\n",
       "4       4156\n",
       "5        967\n",
       "6        274\n",
       "7        104\n",
       "8         36\n",
       "9         20\n",
       "10        10\n",
       "11         3\n",
       "12         2\n",
       "18         1\n",
       "16         1\n",
       "15         1\n",
       "14         1\n",
       "Name: NUM_UNITS, dtype: int64"
      ]
     },
     "execution_count": 60,
     "metadata": {},
     "output_type": "execute_result"
    }
   ],
   "source": [
    "## Exploring the column NUM_UNITS\n",
    "df.NUM_UNITS.value_counts()"
   ]
  },
  {
   "cell_type": "code",
   "execution_count": 62,
   "metadata": {},
   "outputs": [
    {
     "data": {
      "text/plain": [
       "Index(['CRASH_RECORD_ID', 'RD_NO', 'CRASH_DATE', 'POSTED_SPEED_LIMIT',\n",
       "       'TRAFFIC_CONTROL_DEVICE', 'DEVICE_CONDITION', 'WEATHER_CONDITION',\n",
       "       'LIGHTING_CONDITION', 'FIRST_CRASH_TYPE', 'TRAFFICWAY_TYPE',\n",
       "       'ALIGNMENT', 'ROADWAY_SURFACE_COND', 'ROAD_DEFECT', 'REPORT_TYPE',\n",
       "       'CRASH_TYPE', 'DAMAGE', 'DATE_POLICE_NOTIFIED',\n",
       "       'PRIM_CONTRIBUTORY_CAUSE', 'SEC_CONTRIBUTORY_CAUSE', 'STREET_NO',\n",
       "       'STREET_DIRECTION', 'STREET_NAME', 'BEAT_OF_OCCURRENCE',\n",
       "       'WORK_ZONE_TYPE', 'NUM_UNITS', 'MOST_SEVERE_INJURY', 'INJURIES_TOTAL',\n",
       "       'INJURIES_FATAL', 'INJURIES_INCAPACITATING',\n",
       "       'INJURIES_NON_INCAPACITATING', 'INJURIES_REPORTED_NOT_EVIDENT',\n",
       "       'INJURIES_NO_INDICATION', 'INJURIES_UNKNOWN', 'CRASH_HOUR',\n",
       "       'CRASH_DAY_OF_WEEK', 'CRASH_MONTH', 'LATITUDE', 'LONGITUDE',\n",
       "       'LOCATION'],\n",
       "      dtype='object')"
      ]
     },
     "execution_count": 62,
     "metadata": {},
     "output_type": "execute_result"
    }
   ],
   "source": [
    "df.columns"
   ]
  },
  {
   "cell_type": "code",
   "execution_count": 86,
   "metadata": {},
   "outputs": [
    {
     "name": "stdout",
     "output_type": "stream",
     "text": [
      "   TRAFFIC_CONTROL_DEVICE_BICYCLE CROSSING SIGN  \\\n",
      "0                                             0   \n",
      "1                                             0   \n",
      "2                                             0   \n",
      "3                                             0   \n",
      "4                                             0   \n",
      "\n",
      "   TRAFFIC_CONTROL_DEVICE_DELINEATORS  \\\n",
      "0                                   0   \n",
      "1                                   0   \n",
      "2                                   0   \n",
      "3                                   0   \n",
      "4                                   0   \n",
      "\n",
      "   TRAFFIC_CONTROL_DEVICE_FLASHING CONTROL SIGNAL  \\\n",
      "0                                               0   \n",
      "1                                               0   \n",
      "2                                               0   \n",
      "3                                               0   \n",
      "4                                               0   \n",
      "\n",
      "   TRAFFIC_CONTROL_DEVICE_LANE USE MARKING  \\\n",
      "0                                        0   \n",
      "1                                        0   \n",
      "2                                        0   \n",
      "3                                        0   \n",
      "4                                        0   \n",
      "\n",
      "   TRAFFIC_CONTROL_DEVICE_NO CONTROLS  TRAFFIC_CONTROL_DEVICE_NO PASSING  \\\n",
      "0                                   1                                  0   \n",
      "1                                   1                                  0   \n",
      "2                                   0                                  0   \n",
      "3                                   0                                  0   \n",
      "4                                   1                                  0   \n",
      "\n",
      "   TRAFFIC_CONTROL_DEVICE_OTHER  \\\n",
      "0                             0   \n",
      "1                             0   \n",
      "2                             0   \n",
      "3                             0   \n",
      "4                             0   \n",
      "\n",
      "   TRAFFIC_CONTROL_DEVICE_OTHER RAILROAD CROSSING  \\\n",
      "0                                               0   \n",
      "1                                               0   \n",
      "2                                               0   \n",
      "3                                               0   \n",
      "4                                               0   \n",
      "\n",
      "   TRAFFIC_CONTROL_DEVICE_OTHER REG. SIGN  \\\n",
      "0                                       0   \n",
      "1                                       0   \n",
      "2                                       0   \n",
      "3                                       0   \n",
      "4                                       0   \n",
      "\n",
      "   TRAFFIC_CONTROL_DEVICE_OTHER WARNING SIGN  \\\n",
      "0                                          0   \n",
      "1                                          0   \n",
      "2                                          0   \n",
      "3                                          0   \n",
      "4                                          0   \n",
      "\n",
      "   TRAFFIC_CONTROL_DEVICE_PEDESTRIAN CROSSING SIGN  \\\n",
      "0                                                0   \n",
      "1                                                0   \n",
      "2                                                0   \n",
      "3                                                0   \n",
      "4                                                0   \n",
      "\n",
      "   TRAFFIC_CONTROL_DEVICE_POLICE/FLAGMAN  \\\n",
      "0                                      0   \n",
      "1                                      0   \n",
      "2                                      0   \n",
      "3                                      0   \n",
      "4                                      0   \n",
      "\n",
      "   TRAFFIC_CONTROL_DEVICE_RAILROAD CROSSING GATE  \\\n",
      "0                                              0   \n",
      "1                                              0   \n",
      "2                                              0   \n",
      "3                                              0   \n",
      "4                                              0   \n",
      "\n",
      "   TRAFFIC_CONTROL_DEVICE_RR CROSSING SIGN  \\\n",
      "0                                        0   \n",
      "1                                        0   \n",
      "2                                        0   \n",
      "3                                        0   \n",
      "4                                        0   \n",
      "\n",
      "   TRAFFIC_CONTROL_DEVICE_SCHOOL ZONE  \\\n",
      "0                                   0   \n",
      "1                                   0   \n",
      "2                                   0   \n",
      "3                                   0   \n",
      "4                                   0   \n",
      "\n",
      "   TRAFFIC_CONTROL_DEVICE_STOP SIGN/FLASHER  \\\n",
      "0                                         0   \n",
      "1                                         0   \n",
      "2                                         1   \n",
      "3                                         0   \n",
      "4                                         0   \n",
      "\n",
      "   TRAFFIC_CONTROL_DEVICE_TRAFFIC SIGNAL  TRAFFIC_CONTROL_DEVICE_UNKNOWN  \\\n",
      "0                                      0                               0   \n",
      "1                                      0                               0   \n",
      "2                                      0                               0   \n",
      "3                                      1                               0   \n",
      "4                                      0                               0   \n",
      "\n",
      "   TRAFFIC_CONTROL_DEVICE_YIELD  \n",
      "0                             0  \n",
      "1                             0  \n",
      "2                             0  \n",
      "3                             0  \n",
      "4                             0  \n"
     ]
    }
   ],
   "source": [
    "## Using one hot encoding on TRAFFIC_CONTROL_DEVICE column\n",
    "import pandas as pd\n",
    "x = pd.get_dummies(df.TRAFFIC_CONTROL_DEVICE, prefix='TRAFFIC_CONTROL_DEVICE')\n",
    "print(x.head())"
   ]
  },
  {
   "cell_type": "code",
   "execution_count": 73,
   "metadata": {},
   "outputs": [
    {
     "name": "stdout",
     "output_type": "stream",
     "text": [
      "16\n"
     ]
    }
   ],
   "source": [
    "## List of columns requiring hot-encoding\n",
    "ls = ['TRAFFIC_CONTROL_DEVICE', 'DEVICE_CONDITION', 'WEATHER_CONDITION', 'LIGHTING_CONDITION', 'FIRST_CRASH_TYPE', 'TRAFFICWAY_TYPE', 'ALIGNMENT', 'ROADWAY_SURFACE_COND', 'ROAD_DEFECT', 'REPORT_TYPE', 'CRASH_TYPE', 'DAMAGE', 'PRIM_CONTRIBUTORY_CAUSE', 'SEC_CONTRIBUTORY_CAUSE', 'STREET_DIRECTION', 'WORK_ZONE_TYPE']\n",
    "print(len(ls))\n"
   ]
  },
  {
   "cell_type": "code",
   "execution_count": null,
   "metadata": {},
   "outputs": [],
   "source": [
    "## The code for hot encoding\n",
    "\n",
    "##import pandas as pd\n",
    "## y = pd.get_dummies(df.MOST_SEVERE_INJURY, prefix='MOST_SEVERE_INJURY')\n",
    "## print(y.head())"
   ]
  },
  {
   "cell_type": "code",
   "execution_count": null,
   "metadata": {},
   "outputs": [],
   "source": [
    "## Merger of several columns\n",
    "## Merging df and one hot encoded dataframe\n",
    "df_index = pd.merge(df, y, right_index=True, left_index=True)\n",
    "\n",
    "df_index.head()"
   ]
  },
  {
   "cell_type": "code",
   "execution_count": 83,
   "metadata": {},
   "outputs": [
    {
     "name": "stdout",
     "output_type": "stream",
     "text": [
      "['pd.get_dummies(df.TRAFFIC_CONTROL_DEVICE, prefix=TRAFFIC_CONTROL_DEVICE)', 'pd.get_dummies(df.DEVICE_CONDITION, prefix=DEVICE_CONDITION)', 'pd.get_dummies(df.WEATHER_CONDITION, prefix=WEATHER_CONDITION)', 'pd.get_dummies(df.LIGHTING_CONDITION, prefix=LIGHTING_CONDITION)', 'pd.get_dummies(df.FIRST_CRASH_TYPE, prefix=FIRST_CRASH_TYPE)', 'pd.get_dummies(df.TRAFFICWAY_TYPE, prefix=TRAFFICWAY_TYPE)', 'pd.get_dummies(df.ALIGNMENT, prefix=ALIGNMENT)', 'pd.get_dummies(df.ROADWAY_SURFACE_COND, prefix=ROADWAY_SURFACE_COND)', 'pd.get_dummies(df.ROAD_DEFECT, prefix=ROAD_DEFECT)', 'pd.get_dummies(df.REPORT_TYPE, prefix=REPORT_TYPE)', 'pd.get_dummies(df.CRASH_TYPE, prefix=CRASH_TYPE)', 'pd.get_dummies(df.DAMAGE, prefix=DAMAGE)', 'pd.get_dummies(df.PRIM_CONTRIBUTORY_CAUSE, prefix=PRIM_CONTRIBUTORY_CAUSE)', 'pd.get_dummies(df.SEC_CONTRIBUTORY_CAUSE, prefix=SEC_CONTRIBUTORY_CAUSE)', 'pd.get_dummies(df.STREET_DIRECTION, prefix=STREET_DIRECTION)', 'pd.get_dummies(df.WORK_ZONE_TYPE, prefix=WORK_ZONE_TYPE)']\n"
     ]
    },
    {
     "data": {
      "text/plain": [
       "16"
      ]
     },
     "execution_count": 83,
     "metadata": {},
     "output_type": "execute_result"
    }
   ],
   "source": [
    "#txt1 = \"My name is {fname}, I'am {age}\".format(fname = \"John\", age = 36)\n",
    "empty = []\n",
    "for element in ls:\n",
    "    dummy = \"pd.get_dummies(df.{column}, prefix={column})\".format(column = element)\n",
    "    empty.append(\"pd.get_dummies(df.{column}, prefix={column})\".format(column = element))\n",
    "print(empty)\n",
    "len(empty)"
   ]
  },
  {
   "cell_type": "code",
   "execution_count": 92,
   "metadata": {},
   "outputs": [],
   "source": [
    "#One-hot encoding for TRAFFIC_CONTROL_DEVICE\n",
    "one = pd.get_dummies(df.TRAFFIC_CONTROL_DEVICE, prefix='TRAFFIC_CONTROL_DEVICE')"
   ]
  },
  {
   "cell_type": "code",
   "execution_count": 91,
   "metadata": {},
   "outputs": [],
   "source": [
    "#One-hot encoding for DEVICE_CONDITION\n",
    "two = pd.get_dummies(df.DEVICE_CONDITION, prefix='DEVICE_CONDITION')"
   ]
  },
  {
   "cell_type": "code",
   "execution_count": 96,
   "metadata": {},
   "outputs": [],
   "source": [
    "#One-hot encoding for WEATHER_CONDITION\n",
    "three = pd.get_dummies(df.WEATHER_CONDITION, prefix='WEATHER_CONDITION')"
   ]
  },
  {
   "cell_type": "code",
   "execution_count": 95,
   "metadata": {},
   "outputs": [],
   "source": [
    "#One-hot encoding for LIGHTING_CONDITION\n",
    "four = pd.get_dummies(df.LIGHTING_CONDITION, prefix='LIGHTING_CONDITION')"
   ]
  },
  {
   "cell_type": "code",
   "execution_count": 97,
   "metadata": {},
   "outputs": [],
   "source": [
    "#One-hot encoding for FIRST_CRASH_TYPE\n",
    "five = pd.get_dummies(df.FIRST_CRASH_TYPE, prefix='FIRST_CRASH_TYPE')"
   ]
  },
  {
   "cell_type": "code",
   "execution_count": 99,
   "metadata": {},
   "outputs": [],
   "source": [
    "#One-hot encoding for TRAFFICWAY_TYPE\n",
    "six = pd.get_dummies(df.TRAFFICWAY_TYPE, prefix='TRAFFICWAY_TYPE')"
   ]
  },
  {
   "cell_type": "code",
   "execution_count": 101,
   "metadata": {},
   "outputs": [],
   "source": [
    "#One-hot encoding for ALIGNMENT\n",
    "seven = pd.get_dummies(df.ALIGNMENT, prefix='ALIGNMENT')"
   ]
  },
  {
   "cell_type": "code",
   "execution_count": 103,
   "metadata": {},
   "outputs": [],
   "source": [
    "#One-hot encoding for ROADWAY_SURFACE_COND\n",
    "eight = pd.get_dummies(df.ROADWAY_SURFACE_COND, prefix='ROADWAY_SURFACE_COND')"
   ]
  },
  {
   "cell_type": "code",
   "execution_count": 105,
   "metadata": {},
   "outputs": [],
   "source": [
    "#One-hot encoding for ROAD_DEFECT\n",
    "nine = pd.get_dummies(df.ROAD_DEFECT, prefix='ROAD_DEFECT')"
   ]
  },
  {
   "cell_type": "code",
   "execution_count": 106,
   "metadata": {},
   "outputs": [],
   "source": [
    "#One-hot encoding for REPORT_TYPE\n",
    "ten = pd.get_dummies(df.REPORT_TYPE, prefix='REPORT_TYPE')"
   ]
  },
  {
   "cell_type": "code",
   "execution_count": 108,
   "metadata": {},
   "outputs": [],
   "source": [
    "#One-hot encoding for CRASH_TYPE\n",
    "eleven = pd.get_dummies(df.CRASH_TYPE, prefix='CRASH_TYPE')"
   ]
  },
  {
   "cell_type": "code",
   "execution_count": 109,
   "metadata": {},
   "outputs": [],
   "source": [
    "#One-hot encoding for DAMAGE\n",
    "twelve = pd.get_dummies(df.DAMAGE, prefix='DAMAGE')"
   ]
  },
  {
   "cell_type": "code",
   "execution_count": 110,
   "metadata": {},
   "outputs": [],
   "source": [
    "#One-hot encoding for PRIM_CONTRIBUTORY_CAUSE\n",
    "thirteen = pd.get_dummies(df.PRIM_CONTRIBUTORY_CAUSE, prefix='PRIM_CONTRIBUTORY_CAUSE')"
   ]
  },
  {
   "cell_type": "code",
   "execution_count": 111,
   "metadata": {},
   "outputs": [],
   "source": [
    "#One-hot encoding for SEC_CONTRIBUTORY_CAUSE\n",
    "fourteen = pd.get_dummies(df.SEC_CONTRIBUTORY_CAUSE, prefix='SEC_CONTRIBUTORY_CAUSE')"
   ]
  },
  {
   "cell_type": "code",
   "execution_count": 112,
   "metadata": {},
   "outputs": [],
   "source": [
    "#One-hot encoding for STREET_DIRECTION\n",
    "fifteen = pd.get_dummies(df.STREET_DIRECTION, prefix='STREET_DIRECTION')"
   ]
  },
  {
   "cell_type": "code",
   "execution_count": 113,
   "metadata": {},
   "outputs": [],
   "source": [
    "#One-hot encoding for WORK_ZONE_TYPE\n",
    "sixteen = pd.get_dummies(df.WORK_ZONE_TYPE, prefix='WORK_ZONE_TYPE')"
   ]
  },
  {
   "cell_type": "code",
   "execution_count": 114,
   "metadata": {},
   "outputs": [
    {
     "data": {
      "text/html": [
       "<div>\n",
       "<style scoped>\n",
       "    .dataframe tbody tr th:only-of-type {\n",
       "        vertical-align: middle;\n",
       "    }\n",
       "\n",
       "    .dataframe tbody tr th {\n",
       "        vertical-align: top;\n",
       "    }\n",
       "\n",
       "    .dataframe thead th {\n",
       "        text-align: right;\n",
       "    }\n",
       "</style>\n",
       "<table border=\"1\" class=\"dataframe\">\n",
       "  <thead>\n",
       "    <tr style=\"text-align: right;\">\n",
       "      <th></th>\n",
       "      <th>CRASH_RECORD_ID</th>\n",
       "      <th>RD_NO</th>\n",
       "      <th>CRASH_DATE</th>\n",
       "      <th>POSTED_SPEED_LIMIT</th>\n",
       "      <th>TRAFFIC_CONTROL_DEVICE</th>\n",
       "      <th>DEVICE_CONDITION</th>\n",
       "      <th>WEATHER_CONDITION</th>\n",
       "      <th>LIGHTING_CONDITION</th>\n",
       "      <th>FIRST_CRASH_TYPE</th>\n",
       "      <th>TRAFFICWAY_TYPE</th>\n",
       "      <th>...</th>\n",
       "      <th>INJURIES_NON_INCAPACITATING</th>\n",
       "      <th>INJURIES_REPORTED_NOT_EVIDENT</th>\n",
       "      <th>INJURIES_NO_INDICATION</th>\n",
       "      <th>INJURIES_UNKNOWN</th>\n",
       "      <th>CRASH_HOUR</th>\n",
       "      <th>CRASH_DAY_OF_WEEK</th>\n",
       "      <th>CRASH_MONTH</th>\n",
       "      <th>LATITUDE</th>\n",
       "      <th>LONGITUDE</th>\n",
       "      <th>LOCATION</th>\n",
       "    </tr>\n",
       "  </thead>\n",
       "  <tbody>\n",
       "    <tr>\n",
       "      <td>0</td>\n",
       "      <td>073682ef84ff827659552d4254ad1b98bfec24935cc9cc...</td>\n",
       "      <td>JB460108</td>\n",
       "      <td>10/02/2018 06:30:00 PM</td>\n",
       "      <td>10</td>\n",
       "      <td>NO CONTROLS</td>\n",
       "      <td>NO CONTROLS</td>\n",
       "      <td>CLEAR</td>\n",
       "      <td>DARKNESS</td>\n",
       "      <td>PARKED MOTOR VEHICLE</td>\n",
       "      <td>OTHER</td>\n",
       "      <td>...</td>\n",
       "      <td>0.0</td>\n",
       "      <td>0.0</td>\n",
       "      <td>1.0</td>\n",
       "      <td>0.0</td>\n",
       "      <td>18</td>\n",
       "      <td>3</td>\n",
       "      <td>10</td>\n",
       "      <td>NaN</td>\n",
       "      <td>NaN</td>\n",
       "      <td>NaN</td>\n",
       "    </tr>\n",
       "    <tr>\n",
       "      <td>1</td>\n",
       "      <td>1560fb8a1e32b528fef8bfd677d2b3fc5ab37278b157fa...</td>\n",
       "      <td>JC325941</td>\n",
       "      <td>06/27/2019 04:00:00 PM</td>\n",
       "      <td>45</td>\n",
       "      <td>NO CONTROLS</td>\n",
       "      <td>NO CONTROLS</td>\n",
       "      <td>CLEAR</td>\n",
       "      <td>DAYLIGHT</td>\n",
       "      <td>SIDESWIPE SAME DIRECTION</td>\n",
       "      <td>ONE-WAY</td>\n",
       "      <td>...</td>\n",
       "      <td>0.0</td>\n",
       "      <td>0.0</td>\n",
       "      <td>2.0</td>\n",
       "      <td>0.0</td>\n",
       "      <td>16</td>\n",
       "      <td>5</td>\n",
       "      <td>6</td>\n",
       "      <td>NaN</td>\n",
       "      <td>NaN</td>\n",
       "      <td>NaN</td>\n",
       "    </tr>\n",
       "    <tr>\n",
       "      <td>2</td>\n",
       "      <td>009e9e67203442370272e1a13d6ee51a4155dac65e583d...</td>\n",
       "      <td>JA329216</td>\n",
       "      <td>06/30/2017 04:00:00 PM</td>\n",
       "      <td>35</td>\n",
       "      <td>STOP SIGN/FLASHER</td>\n",
       "      <td>FUNCTIONING PROPERLY</td>\n",
       "      <td>CLEAR</td>\n",
       "      <td>DAYLIGHT</td>\n",
       "      <td>TURNING</td>\n",
       "      <td>NOT DIVIDED</td>\n",
       "      <td>...</td>\n",
       "      <td>0.0</td>\n",
       "      <td>0.0</td>\n",
       "      <td>3.0</td>\n",
       "      <td>0.0</td>\n",
       "      <td>16</td>\n",
       "      <td>6</td>\n",
       "      <td>6</td>\n",
       "      <td>41.741804</td>\n",
       "      <td>-87.740954</td>\n",
       "      <td>POINT (-87.740953581987 41.741803598989)</td>\n",
       "    </tr>\n",
       "    <tr>\n",
       "      <td>3</td>\n",
       "      <td>00e47f189660cd8ba1e85fc63061bf1d8465184393f134...</td>\n",
       "      <td>JC194776</td>\n",
       "      <td>03/21/2019 10:50:00 PM</td>\n",
       "      <td>30</td>\n",
       "      <td>TRAFFIC SIGNAL</td>\n",
       "      <td>FUNCTIONING PROPERLY</td>\n",
       "      <td>CLEAR</td>\n",
       "      <td>DARKNESS, LIGHTED ROAD</td>\n",
       "      <td>TURNING</td>\n",
       "      <td>NOT DIVIDED</td>\n",
       "      <td>...</td>\n",
       "      <td>0.0</td>\n",
       "      <td>0.0</td>\n",
       "      <td>2.0</td>\n",
       "      <td>0.0</td>\n",
       "      <td>22</td>\n",
       "      <td>5</td>\n",
       "      <td>3</td>\n",
       "      <td>41.741804</td>\n",
       "      <td>-87.740954</td>\n",
       "      <td>POINT (-87.740953581987 41.741803598989)</td>\n",
       "    </tr>\n",
       "    <tr>\n",
       "      <td>4</td>\n",
       "      <td>0126747fc9ffc0edc9a38abb83d80034f897db0f739eef...</td>\n",
       "      <td>JB200478</td>\n",
       "      <td>03/26/2018 02:23:00 PM</td>\n",
       "      <td>35</td>\n",
       "      <td>NO CONTROLS</td>\n",
       "      <td>NO CONTROLS</td>\n",
       "      <td>CLEAR</td>\n",
       "      <td>DAYLIGHT</td>\n",
       "      <td>PARKED MOTOR VEHICLE</td>\n",
       "      <td>NOT DIVIDED</td>\n",
       "      <td>...</td>\n",
       "      <td>0.0</td>\n",
       "      <td>0.0</td>\n",
       "      <td>2.0</td>\n",
       "      <td>0.0</td>\n",
       "      <td>14</td>\n",
       "      <td>2</td>\n",
       "      <td>3</td>\n",
       "      <td>41.953647</td>\n",
       "      <td>-87.732082</td>\n",
       "      <td>POINT (-87.732081736006 41.953646899951)</td>\n",
       "    </tr>\n",
       "  </tbody>\n",
       "</table>\n",
       "<p>5 rows × 39 columns</p>\n",
       "</div>"
      ],
      "text/plain": [
       "                                     CRASH_RECORD_ID     RD_NO  \\\n",
       "0  073682ef84ff827659552d4254ad1b98bfec24935cc9cc...  JB460108   \n",
       "1  1560fb8a1e32b528fef8bfd677d2b3fc5ab37278b157fa...  JC325941   \n",
       "2  009e9e67203442370272e1a13d6ee51a4155dac65e583d...  JA329216   \n",
       "3  00e47f189660cd8ba1e85fc63061bf1d8465184393f134...  JC194776   \n",
       "4  0126747fc9ffc0edc9a38abb83d80034f897db0f739eef...  JB200478   \n",
       "\n",
       "               CRASH_DATE  POSTED_SPEED_LIMIT TRAFFIC_CONTROL_DEVICE  \\\n",
       "0  10/02/2018 06:30:00 PM                  10            NO CONTROLS   \n",
       "1  06/27/2019 04:00:00 PM                  45            NO CONTROLS   \n",
       "2  06/30/2017 04:00:00 PM                  35      STOP SIGN/FLASHER   \n",
       "3  03/21/2019 10:50:00 PM                  30         TRAFFIC SIGNAL   \n",
       "4  03/26/2018 02:23:00 PM                  35            NO CONTROLS   \n",
       "\n",
       "       DEVICE_CONDITION WEATHER_CONDITION      LIGHTING_CONDITION  \\\n",
       "0           NO CONTROLS             CLEAR                DARKNESS   \n",
       "1           NO CONTROLS             CLEAR                DAYLIGHT   \n",
       "2  FUNCTIONING PROPERLY             CLEAR                DAYLIGHT   \n",
       "3  FUNCTIONING PROPERLY             CLEAR  DARKNESS, LIGHTED ROAD   \n",
       "4           NO CONTROLS             CLEAR                DAYLIGHT   \n",
       "\n",
       "           FIRST_CRASH_TYPE TRAFFICWAY_TYPE  ... INJURIES_NON_INCAPACITATING  \\\n",
       "0      PARKED MOTOR VEHICLE           OTHER  ...                         0.0   \n",
       "1  SIDESWIPE SAME DIRECTION         ONE-WAY  ...                         0.0   \n",
       "2                   TURNING     NOT DIVIDED  ...                         0.0   \n",
       "3                   TURNING     NOT DIVIDED  ...                         0.0   \n",
       "4      PARKED MOTOR VEHICLE     NOT DIVIDED  ...                         0.0   \n",
       "\n",
       "  INJURIES_REPORTED_NOT_EVIDENT INJURIES_NO_INDICATION INJURIES_UNKNOWN  \\\n",
       "0                           0.0                    1.0              0.0   \n",
       "1                           0.0                    2.0              0.0   \n",
       "2                           0.0                    3.0              0.0   \n",
       "3                           0.0                    2.0              0.0   \n",
       "4                           0.0                    2.0              0.0   \n",
       "\n",
       "  CRASH_HOUR CRASH_DAY_OF_WEEK CRASH_MONTH   LATITUDE  LONGITUDE  \\\n",
       "0         18                 3          10        NaN        NaN   \n",
       "1         16                 5           6        NaN        NaN   \n",
       "2         16                 6           6  41.741804 -87.740954   \n",
       "3         22                 5           3  41.741804 -87.740954   \n",
       "4         14                 2           3  41.953647 -87.732082   \n",
       "\n",
       "                                   LOCATION  \n",
       "0                                       NaN  \n",
       "1                                       NaN  \n",
       "2  POINT (-87.740953581987 41.741803598989)  \n",
       "3  POINT (-87.740953581987 41.741803598989)  \n",
       "4  POINT (-87.732081736006 41.953646899951)  \n",
       "\n",
       "[5 rows x 39 columns]"
      ]
     },
     "execution_count": 114,
     "metadata": {},
     "output_type": "execute_result"
    }
   ],
   "source": [
    "df.head()"
   ]
  },
  {
   "cell_type": "code",
   "execution_count": 115,
   "metadata": {},
   "outputs": [
    {
     "data": {
      "text/html": [
       "<div>\n",
       "<style scoped>\n",
       "    .dataframe tbody tr th:only-of-type {\n",
       "        vertical-align: middle;\n",
       "    }\n",
       "\n",
       "    .dataframe tbody tr th {\n",
       "        vertical-align: top;\n",
       "    }\n",
       "\n",
       "    .dataframe thead th {\n",
       "        text-align: right;\n",
       "    }\n",
       "</style>\n",
       "<table border=\"1\" class=\"dataframe\">\n",
       "  <thead>\n",
       "    <tr style=\"text-align: right;\">\n",
       "      <th></th>\n",
       "      <th>CRASH_RECORD_ID</th>\n",
       "      <th>RD_NO</th>\n",
       "      <th>CRASH_DATE</th>\n",
       "      <th>POSTED_SPEED_LIMIT</th>\n",
       "      <th>TRAFFIC_CONTROL_DEVICE</th>\n",
       "      <th>DEVICE_CONDITION</th>\n",
       "      <th>WEATHER_CONDITION</th>\n",
       "      <th>LIGHTING_CONDITION</th>\n",
       "      <th>FIRST_CRASH_TYPE</th>\n",
       "      <th>TRAFFICWAY_TYPE</th>\n",
       "      <th>...</th>\n",
       "      <th>TRAFFIC_CONTROL_DEVICE_OTHER WARNING SIGN</th>\n",
       "      <th>TRAFFIC_CONTROL_DEVICE_PEDESTRIAN CROSSING SIGN</th>\n",
       "      <th>TRAFFIC_CONTROL_DEVICE_POLICE/FLAGMAN</th>\n",
       "      <th>TRAFFIC_CONTROL_DEVICE_RAILROAD CROSSING GATE</th>\n",
       "      <th>TRAFFIC_CONTROL_DEVICE_RR CROSSING SIGN</th>\n",
       "      <th>TRAFFIC_CONTROL_DEVICE_SCHOOL ZONE</th>\n",
       "      <th>TRAFFIC_CONTROL_DEVICE_STOP SIGN/FLASHER</th>\n",
       "      <th>TRAFFIC_CONTROL_DEVICE_TRAFFIC SIGNAL</th>\n",
       "      <th>TRAFFIC_CONTROL_DEVICE_UNKNOWN</th>\n",
       "      <th>TRAFFIC_CONTROL_DEVICE_YIELD</th>\n",
       "    </tr>\n",
       "  </thead>\n",
       "  <tbody>\n",
       "    <tr>\n",
       "      <td>0</td>\n",
       "      <td>073682ef84ff827659552d4254ad1b98bfec24935cc9cc...</td>\n",
       "      <td>JB460108</td>\n",
       "      <td>10/02/2018 06:30:00 PM</td>\n",
       "      <td>10</td>\n",
       "      <td>NO CONTROLS</td>\n",
       "      <td>NO CONTROLS</td>\n",
       "      <td>CLEAR</td>\n",
       "      <td>DARKNESS</td>\n",
       "      <td>PARKED MOTOR VEHICLE</td>\n",
       "      <td>OTHER</td>\n",
       "      <td>...</td>\n",
       "      <td>0</td>\n",
       "      <td>0</td>\n",
       "      <td>0</td>\n",
       "      <td>0</td>\n",
       "      <td>0</td>\n",
       "      <td>0</td>\n",
       "      <td>0</td>\n",
       "      <td>0</td>\n",
       "      <td>0</td>\n",
       "      <td>0</td>\n",
       "    </tr>\n",
       "    <tr>\n",
       "      <td>1</td>\n",
       "      <td>1560fb8a1e32b528fef8bfd677d2b3fc5ab37278b157fa...</td>\n",
       "      <td>JC325941</td>\n",
       "      <td>06/27/2019 04:00:00 PM</td>\n",
       "      <td>45</td>\n",
       "      <td>NO CONTROLS</td>\n",
       "      <td>NO CONTROLS</td>\n",
       "      <td>CLEAR</td>\n",
       "      <td>DAYLIGHT</td>\n",
       "      <td>SIDESWIPE SAME DIRECTION</td>\n",
       "      <td>ONE-WAY</td>\n",
       "      <td>...</td>\n",
       "      <td>0</td>\n",
       "      <td>0</td>\n",
       "      <td>0</td>\n",
       "      <td>0</td>\n",
       "      <td>0</td>\n",
       "      <td>0</td>\n",
       "      <td>0</td>\n",
       "      <td>0</td>\n",
       "      <td>0</td>\n",
       "      <td>0</td>\n",
       "    </tr>\n",
       "    <tr>\n",
       "      <td>2</td>\n",
       "      <td>009e9e67203442370272e1a13d6ee51a4155dac65e583d...</td>\n",
       "      <td>JA329216</td>\n",
       "      <td>06/30/2017 04:00:00 PM</td>\n",
       "      <td>35</td>\n",
       "      <td>STOP SIGN/FLASHER</td>\n",
       "      <td>FUNCTIONING PROPERLY</td>\n",
       "      <td>CLEAR</td>\n",
       "      <td>DAYLIGHT</td>\n",
       "      <td>TURNING</td>\n",
       "      <td>NOT DIVIDED</td>\n",
       "      <td>...</td>\n",
       "      <td>0</td>\n",
       "      <td>0</td>\n",
       "      <td>0</td>\n",
       "      <td>0</td>\n",
       "      <td>0</td>\n",
       "      <td>0</td>\n",
       "      <td>1</td>\n",
       "      <td>0</td>\n",
       "      <td>0</td>\n",
       "      <td>0</td>\n",
       "    </tr>\n",
       "    <tr>\n",
       "      <td>3</td>\n",
       "      <td>00e47f189660cd8ba1e85fc63061bf1d8465184393f134...</td>\n",
       "      <td>JC194776</td>\n",
       "      <td>03/21/2019 10:50:00 PM</td>\n",
       "      <td>30</td>\n",
       "      <td>TRAFFIC SIGNAL</td>\n",
       "      <td>FUNCTIONING PROPERLY</td>\n",
       "      <td>CLEAR</td>\n",
       "      <td>DARKNESS, LIGHTED ROAD</td>\n",
       "      <td>TURNING</td>\n",
       "      <td>NOT DIVIDED</td>\n",
       "      <td>...</td>\n",
       "      <td>0</td>\n",
       "      <td>0</td>\n",
       "      <td>0</td>\n",
       "      <td>0</td>\n",
       "      <td>0</td>\n",
       "      <td>0</td>\n",
       "      <td>0</td>\n",
       "      <td>1</td>\n",
       "      <td>0</td>\n",
       "      <td>0</td>\n",
       "    </tr>\n",
       "    <tr>\n",
       "      <td>4</td>\n",
       "      <td>0126747fc9ffc0edc9a38abb83d80034f897db0f739eef...</td>\n",
       "      <td>JB200478</td>\n",
       "      <td>03/26/2018 02:23:00 PM</td>\n",
       "      <td>35</td>\n",
       "      <td>NO CONTROLS</td>\n",
       "      <td>NO CONTROLS</td>\n",
       "      <td>CLEAR</td>\n",
       "      <td>DAYLIGHT</td>\n",
       "      <td>PARKED MOTOR VEHICLE</td>\n",
       "      <td>NOT DIVIDED</td>\n",
       "      <td>...</td>\n",
       "      <td>0</td>\n",
       "      <td>0</td>\n",
       "      <td>0</td>\n",
       "      <td>0</td>\n",
       "      <td>0</td>\n",
       "      <td>0</td>\n",
       "      <td>0</td>\n",
       "      <td>0</td>\n",
       "      <td>0</td>\n",
       "      <td>0</td>\n",
       "    </tr>\n",
       "  </tbody>\n",
       "</table>\n",
       "<p>5 rows × 58 columns</p>\n",
       "</div>"
      ],
      "text/plain": [
       "                                     CRASH_RECORD_ID     RD_NO  \\\n",
       "0  073682ef84ff827659552d4254ad1b98bfec24935cc9cc...  JB460108   \n",
       "1  1560fb8a1e32b528fef8bfd677d2b3fc5ab37278b157fa...  JC325941   \n",
       "2  009e9e67203442370272e1a13d6ee51a4155dac65e583d...  JA329216   \n",
       "3  00e47f189660cd8ba1e85fc63061bf1d8465184393f134...  JC194776   \n",
       "4  0126747fc9ffc0edc9a38abb83d80034f897db0f739eef...  JB200478   \n",
       "\n",
       "               CRASH_DATE  POSTED_SPEED_LIMIT TRAFFIC_CONTROL_DEVICE  \\\n",
       "0  10/02/2018 06:30:00 PM                  10            NO CONTROLS   \n",
       "1  06/27/2019 04:00:00 PM                  45            NO CONTROLS   \n",
       "2  06/30/2017 04:00:00 PM                  35      STOP SIGN/FLASHER   \n",
       "3  03/21/2019 10:50:00 PM                  30         TRAFFIC SIGNAL   \n",
       "4  03/26/2018 02:23:00 PM                  35            NO CONTROLS   \n",
       "\n",
       "       DEVICE_CONDITION WEATHER_CONDITION      LIGHTING_CONDITION  \\\n",
       "0           NO CONTROLS             CLEAR                DARKNESS   \n",
       "1           NO CONTROLS             CLEAR                DAYLIGHT   \n",
       "2  FUNCTIONING PROPERLY             CLEAR                DAYLIGHT   \n",
       "3  FUNCTIONING PROPERLY             CLEAR  DARKNESS, LIGHTED ROAD   \n",
       "4           NO CONTROLS             CLEAR                DAYLIGHT   \n",
       "\n",
       "           FIRST_CRASH_TYPE TRAFFICWAY_TYPE  ...  \\\n",
       "0      PARKED MOTOR VEHICLE           OTHER  ...   \n",
       "1  SIDESWIPE SAME DIRECTION         ONE-WAY  ...   \n",
       "2                   TURNING     NOT DIVIDED  ...   \n",
       "3                   TURNING     NOT DIVIDED  ...   \n",
       "4      PARKED MOTOR VEHICLE     NOT DIVIDED  ...   \n",
       "\n",
       "  TRAFFIC_CONTROL_DEVICE_OTHER WARNING SIGN  \\\n",
       "0                                         0   \n",
       "1                                         0   \n",
       "2                                         0   \n",
       "3                                         0   \n",
       "4                                         0   \n",
       "\n",
       "  TRAFFIC_CONTROL_DEVICE_PEDESTRIAN CROSSING SIGN  \\\n",
       "0                                               0   \n",
       "1                                               0   \n",
       "2                                               0   \n",
       "3                                               0   \n",
       "4                                               0   \n",
       "\n",
       "  TRAFFIC_CONTROL_DEVICE_POLICE/FLAGMAN  \\\n",
       "0                                     0   \n",
       "1                                     0   \n",
       "2                                     0   \n",
       "3                                     0   \n",
       "4                                     0   \n",
       "\n",
       "  TRAFFIC_CONTROL_DEVICE_RAILROAD CROSSING GATE  \\\n",
       "0                                             0   \n",
       "1                                             0   \n",
       "2                                             0   \n",
       "3                                             0   \n",
       "4                                             0   \n",
       "\n",
       "  TRAFFIC_CONTROL_DEVICE_RR CROSSING SIGN TRAFFIC_CONTROL_DEVICE_SCHOOL ZONE  \\\n",
       "0                                       0                                  0   \n",
       "1                                       0                                  0   \n",
       "2                                       0                                  0   \n",
       "3                                       0                                  0   \n",
       "4                                       0                                  0   \n",
       "\n",
       "  TRAFFIC_CONTROL_DEVICE_STOP SIGN/FLASHER  \\\n",
       "0                                        0   \n",
       "1                                        0   \n",
       "2                                        1   \n",
       "3                                        0   \n",
       "4                                        0   \n",
       "\n",
       "  TRAFFIC_CONTROL_DEVICE_TRAFFIC SIGNAL TRAFFIC_CONTROL_DEVICE_UNKNOWN  \\\n",
       "0                                     0                              0   \n",
       "1                                     0                              0   \n",
       "2                                     0                              0   \n",
       "3                                     1                              0   \n",
       "4                                     0                              0   \n",
       "\n",
       "   TRAFFIC_CONTROL_DEVICE_YIELD  \n",
       "0                             0  \n",
       "1                             0  \n",
       "2                             0  \n",
       "3                             0  \n",
       "4                             0  \n",
       "\n",
       "[5 rows x 58 columns]"
      ]
     },
     "execution_count": 115,
     "metadata": {},
     "output_type": "execute_result"
    }
   ],
   "source": [
    "## Starting to merge the dataframes\n",
    "## Merging df and one hot encoded dataframe\n",
    "df_one = pd.merge(df, one, right_index=True, left_index=True)\n",
    "\n",
    "df_one.head()"
   ]
  },
  {
   "cell_type": "code",
   "execution_count": 116,
   "metadata": {},
   "outputs": [],
   "source": [
    "#df_two\n",
    "df_two = pd.merge(df_one, two, right_index=True, left_index=True)"
   ]
  },
  {
   "cell_type": "code",
   "execution_count": 117,
   "metadata": {},
   "outputs": [],
   "source": [
    "#df_three\n",
    "df_three = pd.merge(df_two, three, right_index=True, left_index=True)"
   ]
  },
  {
   "cell_type": "code",
   "execution_count": 118,
   "metadata": {},
   "outputs": [],
   "source": [
    "#df_four\n",
    "df_four = pd.merge(df_three, four, right_index=True, left_index=True)"
   ]
  },
  {
   "cell_type": "code",
   "execution_count": 119,
   "metadata": {},
   "outputs": [],
   "source": [
    "#df_five\n",
    "df_five = pd.merge(df_four, five, right_index=True, left_index=True)"
   ]
  },
  {
   "cell_type": "code",
   "execution_count": 120,
   "metadata": {},
   "outputs": [],
   "source": [
    "#df_six\n",
    "df_six = pd.merge(df_five, six, right_index=True, left_index=True)"
   ]
  },
  {
   "cell_type": "code",
   "execution_count": 121,
   "metadata": {},
   "outputs": [],
   "source": [
    "#df_seven\n",
    "df_seven = pd.merge(df_six, seven, right_index=True, left_index=True)"
   ]
  },
  {
   "cell_type": "code",
   "execution_count": 122,
   "metadata": {},
   "outputs": [],
   "source": [
    "#df_eight\n",
    "df_eight = pd.merge(df_seven, eight, right_index=True, left_index=True)"
   ]
  },
  {
   "cell_type": "code",
   "execution_count": 123,
   "metadata": {},
   "outputs": [],
   "source": [
    "#df_nine\n",
    "df_nine = pd.merge(df_eight, nine, right_index=True, left_index=True)"
   ]
  },
  {
   "cell_type": "code",
   "execution_count": 124,
   "metadata": {},
   "outputs": [],
   "source": [
    "#df_ten\n",
    "df_ten = pd.merge(df_nine, ten, right_index=True, left_index=True)"
   ]
  },
  {
   "cell_type": "code",
   "execution_count": 125,
   "metadata": {},
   "outputs": [],
   "source": [
    "#df_eleven\n",
    "df_eleven = pd.merge(df_ten, eleven, right_index=True, left_index=True)"
   ]
  },
  {
   "cell_type": "code",
   "execution_count": 126,
   "metadata": {},
   "outputs": [],
   "source": [
    "#df_twelve\n",
    "df_twelve = pd.merge(df_eleven, twelve, right_index=True, left_index=True)"
   ]
  },
  {
   "cell_type": "code",
   "execution_count": 127,
   "metadata": {},
   "outputs": [],
   "source": [
    "#df_thirteen\n",
    "df_thirteen = pd.merge(df_twelve, thirteen, right_index=True, left_index=True)"
   ]
  },
  {
   "cell_type": "code",
   "execution_count": 128,
   "metadata": {},
   "outputs": [],
   "source": [
    "#df_fourteen\n",
    "df_fourteen = pd.merge(df_thirteen, fourteen, right_index=True, left_index=True)"
   ]
  },
  {
   "cell_type": "code",
   "execution_count": 131,
   "metadata": {},
   "outputs": [],
   "source": [
    "#df_fifteen\n",
    "df_fifteen = pd.merge(df_fourteen, fifteen, right_index=True, left_index=True)"
   ]
  },
  {
   "cell_type": "code",
   "execution_count": 132,
   "metadata": {},
   "outputs": [],
   "source": [
    "#df_sixteen\n",
    "df_sixteen = pd.merge(df_fifteen, sixteen, right_index=True, left_index=True)`"
   ]
  },
  {
   "cell_type": "code",
   "execution_count": 134,
   "metadata": {},
   "outputs": [
    {
     "data": {
      "text/plain": [
       "(433850, 238)"
      ]
     },
     "execution_count": 134,
     "metadata": {},
     "output_type": "execute_result"
    }
   ],
   "source": [
    "df_sixteen.shape"
   ]
  },
  {
   "cell_type": "code",
   "execution_count": 136,
   "metadata": {},
   "outputs": [
    {
     "data": {
      "text/plain": [
       "2363"
      ]
     },
     "execution_count": 136,
     "metadata": {},
     "output_type": "execute_result"
    }
   ],
   "source": [
    "df_sixteen.LATITUDE.isna().sum()"
   ]
  },
  {
   "cell_type": "code",
   "execution_count": 141,
   "metadata": {},
   "outputs": [],
   "source": [
    "## Removing the remaining missing values from the dataframe\n",
    "df_final = df_sixteen.dropna()"
   ]
  },
  {
   "cell_type": "code",
   "execution_count": 143,
   "metadata": {},
   "outputs": [
    {
     "data": {
      "text/plain": [
       "Index(['CRASH_RECORD_ID', 'RD_NO', 'CRASH_DATE', 'POSTED_SPEED_LIMIT',\n",
       "       'TRAFFIC_CONTROL_DEVICE', 'DEVICE_CONDITION', 'WEATHER_CONDITION',\n",
       "       'LIGHTING_CONDITION', 'FIRST_CRASH_TYPE', 'TRAFFICWAY_TYPE',\n",
       "       ...\n",
       "       'SEC_CONTRIBUTORY_CAUSE_VISION OBSCURED (SIGNS, TREE LIMBS, BUILDINGS, ETC.)',\n",
       "       'SEC_CONTRIBUTORY_CAUSE_WEATHER', 'STREET_DIRECTION_E',\n",
       "       'STREET_DIRECTION_N', 'STREET_DIRECTION_S', 'STREET_DIRECTION_W',\n",
       "       'WORK_ZONE_TYPE_CONSTRUCTION', 'WORK_ZONE_TYPE_MAINTENANCE',\n",
       "       'WORK_ZONE_TYPE_UNKNOWN', 'WORK_ZONE_TYPE_UTILITY'],\n",
       "      dtype='object', length=238)"
      ]
     },
     "execution_count": 143,
     "metadata": {},
     "output_type": "execute_result"
    }
   ],
   "source": [
    "df_final.columns"
   ]
  },
  {
   "cell_type": "code",
   "execution_count": 140,
   "metadata": {},
   "outputs": [
    {
     "data": {
      "text/plain": [
       "(420464, 238)"
      ]
     },
     "execution_count": 140,
     "metadata": {},
     "output_type": "execute_result"
    }
   ],
   "source": [
    "df_final.shape"
   ]
  },
  {
   "cell_type": "code",
   "execution_count": 144,
   "metadata": {},
   "outputs": [
    {
     "data": {
      "text/html": [
       "<div>\n",
       "<style scoped>\n",
       "    .dataframe tbody tr th:only-of-type {\n",
       "        vertical-align: middle;\n",
       "    }\n",
       "\n",
       "    .dataframe tbody tr th {\n",
       "        vertical-align: top;\n",
       "    }\n",
       "\n",
       "    .dataframe thead th {\n",
       "        text-align: right;\n",
       "    }\n",
       "</style>\n",
       "<table border=\"1\" class=\"dataframe\">\n",
       "  <thead>\n",
       "    <tr style=\"text-align: right;\">\n",
       "      <th></th>\n",
       "      <th>CRASH_RECORD_ID</th>\n",
       "      <th>RD_NO</th>\n",
       "      <th>CRASH_DATE</th>\n",
       "      <th>POSTED_SPEED_LIMIT</th>\n",
       "      <th>TRAFFIC_CONTROL_DEVICE</th>\n",
       "      <th>DEVICE_CONDITION</th>\n",
       "      <th>WEATHER_CONDITION</th>\n",
       "      <th>LIGHTING_CONDITION</th>\n",
       "      <th>FIRST_CRASH_TYPE</th>\n",
       "      <th>TRAFFICWAY_TYPE</th>\n",
       "      <th>...</th>\n",
       "      <th>SEC_CONTRIBUTORY_CAUSE_VISION OBSCURED (SIGNS, TREE LIMBS, BUILDINGS, ETC.)</th>\n",
       "      <th>SEC_CONTRIBUTORY_CAUSE_WEATHER</th>\n",
       "      <th>STREET_DIRECTION_E</th>\n",
       "      <th>STREET_DIRECTION_N</th>\n",
       "      <th>STREET_DIRECTION_S</th>\n",
       "      <th>STREET_DIRECTION_W</th>\n",
       "      <th>WORK_ZONE_TYPE_CONSTRUCTION</th>\n",
       "      <th>WORK_ZONE_TYPE_MAINTENANCE</th>\n",
       "      <th>WORK_ZONE_TYPE_UNKNOWN</th>\n",
       "      <th>WORK_ZONE_TYPE_UTILITY</th>\n",
       "    </tr>\n",
       "  </thead>\n",
       "  <tbody>\n",
       "    <tr>\n",
       "      <td>2</td>\n",
       "      <td>009e9e67203442370272e1a13d6ee51a4155dac65e583d...</td>\n",
       "      <td>JA329216</td>\n",
       "      <td>06/30/2017 04:00:00 PM</td>\n",
       "      <td>35</td>\n",
       "      <td>STOP SIGN/FLASHER</td>\n",
       "      <td>FUNCTIONING PROPERLY</td>\n",
       "      <td>CLEAR</td>\n",
       "      <td>DAYLIGHT</td>\n",
       "      <td>TURNING</td>\n",
       "      <td>NOT DIVIDED</td>\n",
       "      <td>...</td>\n",
       "      <td>0</td>\n",
       "      <td>0</td>\n",
       "      <td>0</td>\n",
       "      <td>0</td>\n",
       "      <td>1</td>\n",
       "      <td>0</td>\n",
       "      <td>0</td>\n",
       "      <td>0</td>\n",
       "      <td>1</td>\n",
       "      <td>0</td>\n",
       "    </tr>\n",
       "    <tr>\n",
       "      <td>3</td>\n",
       "      <td>00e47f189660cd8ba1e85fc63061bf1d8465184393f134...</td>\n",
       "      <td>JC194776</td>\n",
       "      <td>03/21/2019 10:50:00 PM</td>\n",
       "      <td>30</td>\n",
       "      <td>TRAFFIC SIGNAL</td>\n",
       "      <td>FUNCTIONING PROPERLY</td>\n",
       "      <td>CLEAR</td>\n",
       "      <td>DARKNESS, LIGHTED ROAD</td>\n",
       "      <td>TURNING</td>\n",
       "      <td>NOT DIVIDED</td>\n",
       "      <td>...</td>\n",
       "      <td>0</td>\n",
       "      <td>0</td>\n",
       "      <td>0</td>\n",
       "      <td>0</td>\n",
       "      <td>1</td>\n",
       "      <td>0</td>\n",
       "      <td>0</td>\n",
       "      <td>0</td>\n",
       "      <td>1</td>\n",
       "      <td>0</td>\n",
       "    </tr>\n",
       "    <tr>\n",
       "      <td>4</td>\n",
       "      <td>0126747fc9ffc0edc9a38abb83d80034f897db0f739eef...</td>\n",
       "      <td>JB200478</td>\n",
       "      <td>03/26/2018 02:23:00 PM</td>\n",
       "      <td>35</td>\n",
       "      <td>NO CONTROLS</td>\n",
       "      <td>NO CONTROLS</td>\n",
       "      <td>CLEAR</td>\n",
       "      <td>DAYLIGHT</td>\n",
       "      <td>PARKED MOTOR VEHICLE</td>\n",
       "      <td>NOT DIVIDED</td>\n",
       "      <td>...</td>\n",
       "      <td>0</td>\n",
       "      <td>0</td>\n",
       "      <td>0</td>\n",
       "      <td>1</td>\n",
       "      <td>0</td>\n",
       "      <td>0</td>\n",
       "      <td>0</td>\n",
       "      <td>0</td>\n",
       "      <td>1</td>\n",
       "      <td>0</td>\n",
       "    </tr>\n",
       "    <tr>\n",
       "      <td>5</td>\n",
       "      <td>5d672ce84d5b78346be822b388604bdf9cb3fa348a5adc...</td>\n",
       "      <td>JD158927</td>\n",
       "      <td>02/20/2020 04:45:00 PM</td>\n",
       "      <td>35</td>\n",
       "      <td>TRAFFIC SIGNAL</td>\n",
       "      <td>OTHER</td>\n",
       "      <td>CLEAR</td>\n",
       "      <td>DAWN</td>\n",
       "      <td>REAR END</td>\n",
       "      <td>T-INTERSECTION</td>\n",
       "      <td>...</td>\n",
       "      <td>0</td>\n",
       "      <td>0</td>\n",
       "      <td>0</td>\n",
       "      <td>0</td>\n",
       "      <td>0</td>\n",
       "      <td>1</td>\n",
       "      <td>0</td>\n",
       "      <td>0</td>\n",
       "      <td>1</td>\n",
       "      <td>0</td>\n",
       "    </tr>\n",
       "    <tr>\n",
       "      <td>6</td>\n",
       "      <td>0209e21f298984f7375742b7ef27c9880b485f41123a12...</td>\n",
       "      <td>JB415436</td>\n",
       "      <td>08/30/2018 05:45:00 PM</td>\n",
       "      <td>30</td>\n",
       "      <td>TRAFFIC SIGNAL</td>\n",
       "      <td>FUNCTIONING PROPERLY</td>\n",
       "      <td>CLEAR</td>\n",
       "      <td>DAYLIGHT</td>\n",
       "      <td>TURNING</td>\n",
       "      <td>NOT DIVIDED</td>\n",
       "      <td>...</td>\n",
       "      <td>0</td>\n",
       "      <td>0</td>\n",
       "      <td>0</td>\n",
       "      <td>0</td>\n",
       "      <td>0</td>\n",
       "      <td>1</td>\n",
       "      <td>0</td>\n",
       "      <td>0</td>\n",
       "      <td>1</td>\n",
       "      <td>0</td>\n",
       "    </tr>\n",
       "  </tbody>\n",
       "</table>\n",
       "<p>5 rows × 238 columns</p>\n",
       "</div>"
      ],
      "text/plain": [
       "                                     CRASH_RECORD_ID     RD_NO  \\\n",
       "2  009e9e67203442370272e1a13d6ee51a4155dac65e583d...  JA329216   \n",
       "3  00e47f189660cd8ba1e85fc63061bf1d8465184393f134...  JC194776   \n",
       "4  0126747fc9ffc0edc9a38abb83d80034f897db0f739eef...  JB200478   \n",
       "5  5d672ce84d5b78346be822b388604bdf9cb3fa348a5adc...  JD158927   \n",
       "6  0209e21f298984f7375742b7ef27c9880b485f41123a12...  JB415436   \n",
       "\n",
       "               CRASH_DATE  POSTED_SPEED_LIMIT TRAFFIC_CONTROL_DEVICE  \\\n",
       "2  06/30/2017 04:00:00 PM                  35      STOP SIGN/FLASHER   \n",
       "3  03/21/2019 10:50:00 PM                  30         TRAFFIC SIGNAL   \n",
       "4  03/26/2018 02:23:00 PM                  35            NO CONTROLS   \n",
       "5  02/20/2020 04:45:00 PM                  35         TRAFFIC SIGNAL   \n",
       "6  08/30/2018 05:45:00 PM                  30         TRAFFIC SIGNAL   \n",
       "\n",
       "       DEVICE_CONDITION WEATHER_CONDITION      LIGHTING_CONDITION  \\\n",
       "2  FUNCTIONING PROPERLY             CLEAR                DAYLIGHT   \n",
       "3  FUNCTIONING PROPERLY             CLEAR  DARKNESS, LIGHTED ROAD   \n",
       "4           NO CONTROLS             CLEAR                DAYLIGHT   \n",
       "5                 OTHER             CLEAR                    DAWN   \n",
       "6  FUNCTIONING PROPERLY             CLEAR                DAYLIGHT   \n",
       "\n",
       "       FIRST_CRASH_TYPE TRAFFICWAY_TYPE  ...  \\\n",
       "2               TURNING     NOT DIVIDED  ...   \n",
       "3               TURNING     NOT DIVIDED  ...   \n",
       "4  PARKED MOTOR VEHICLE     NOT DIVIDED  ...   \n",
       "5              REAR END  T-INTERSECTION  ...   \n",
       "6               TURNING     NOT DIVIDED  ...   \n",
       "\n",
       "  SEC_CONTRIBUTORY_CAUSE_VISION OBSCURED (SIGNS, TREE LIMBS, BUILDINGS, ETC.)  \\\n",
       "2                                                  0                            \n",
       "3                                                  0                            \n",
       "4                                                  0                            \n",
       "5                                                  0                            \n",
       "6                                                  0                            \n",
       "\n",
       "  SEC_CONTRIBUTORY_CAUSE_WEATHER STREET_DIRECTION_E STREET_DIRECTION_N  \\\n",
       "2                              0                  0                  0   \n",
       "3                              0                  0                  0   \n",
       "4                              0                  0                  1   \n",
       "5                              0                  0                  0   \n",
       "6                              0                  0                  0   \n",
       "\n",
       "  STREET_DIRECTION_S STREET_DIRECTION_W WORK_ZONE_TYPE_CONSTRUCTION  \\\n",
       "2                  1                  0                           0   \n",
       "3                  1                  0                           0   \n",
       "4                  0                  0                           0   \n",
       "5                  0                  1                           0   \n",
       "6                  0                  1                           0   \n",
       "\n",
       "  WORK_ZONE_TYPE_MAINTENANCE WORK_ZONE_TYPE_UNKNOWN  WORK_ZONE_TYPE_UTILITY  \n",
       "2                          0                      1                       0  \n",
       "3                          0                      1                       0  \n",
       "4                          0                      1                       0  \n",
       "5                          0                      1                       0  \n",
       "6                          0                      1                       0  \n",
       "\n",
       "[5 rows x 238 columns]"
      ]
     },
     "execution_count": 144,
     "metadata": {},
     "output_type": "execute_result"
    }
   ],
   "source": [
    "df_final.head()"
   ]
  },
  {
   "cell_type": "code",
   "execution_count": 67,
   "metadata": {},
   "outputs": [
    {
     "data": {
      "text/html": [
       "<div>\n",
       "<style scoped>\n",
       "    .dataframe tbody tr th:only-of-type {\n",
       "        vertical-align: middle;\n",
       "    }\n",
       "\n",
       "    .dataframe tbody tr th {\n",
       "        vertical-align: top;\n",
       "    }\n",
       "\n",
       "    .dataframe thead th {\n",
       "        text-align: right;\n",
       "    }\n",
       "</style>\n",
       "<table border=\"1\" class=\"dataframe\">\n",
       "  <thead>\n",
       "    <tr style=\"text-align: right;\">\n",
       "      <th></th>\n",
       "      <th>CRASH_RECORD_ID</th>\n",
       "      <th>RD_NO</th>\n",
       "      <th>CRASH_DATE</th>\n",
       "      <th>POSTED_SPEED_LIMIT</th>\n",
       "      <th>TRAFFIC_CONTROL_DEVICE</th>\n",
       "      <th>DEVICE_CONDITION</th>\n",
       "      <th>WEATHER_CONDITION</th>\n",
       "      <th>LIGHTING_CONDITION</th>\n",
       "      <th>FIRST_CRASH_TYPE</th>\n",
       "      <th>TRAFFICWAY_TYPE</th>\n",
       "      <th>...</th>\n",
       "      <th>INJURIES_NON_INCAPACITATING</th>\n",
       "      <th>INJURIES_REPORTED_NOT_EVIDENT</th>\n",
       "      <th>INJURIES_NO_INDICATION</th>\n",
       "      <th>INJURIES_UNKNOWN</th>\n",
       "      <th>CRASH_HOUR</th>\n",
       "      <th>CRASH_DAY_OF_WEEK</th>\n",
       "      <th>CRASH_MONTH</th>\n",
       "      <th>LATITUDE</th>\n",
       "      <th>LONGITUDE</th>\n",
       "      <th>LOCATION</th>\n",
       "    </tr>\n",
       "  </thead>\n",
       "  <tbody>\n",
       "    <tr>\n",
       "      <td>0</td>\n",
       "      <td>073682ef84ff827659552d4254ad1b98bfec24935cc9cc...</td>\n",
       "      <td>JB460108</td>\n",
       "      <td>10/02/2018 06:30:00 PM</td>\n",
       "      <td>10</td>\n",
       "      <td>NO CONTROLS</td>\n",
       "      <td>NO CONTROLS</td>\n",
       "      <td>CLEAR</td>\n",
       "      <td>DARKNESS</td>\n",
       "      <td>PARKED MOTOR VEHICLE</td>\n",
       "      <td>OTHER</td>\n",
       "      <td>...</td>\n",
       "      <td>0.0</td>\n",
       "      <td>0.0</td>\n",
       "      <td>1.0</td>\n",
       "      <td>0.0</td>\n",
       "      <td>18</td>\n",
       "      <td>3</td>\n",
       "      <td>10</td>\n",
       "      <td>NaN</td>\n",
       "      <td>NaN</td>\n",
       "      <td>NaN</td>\n",
       "    </tr>\n",
       "    <tr>\n",
       "      <td>1</td>\n",
       "      <td>1560fb8a1e32b528fef8bfd677d2b3fc5ab37278b157fa...</td>\n",
       "      <td>JC325941</td>\n",
       "      <td>06/27/2019 04:00:00 PM</td>\n",
       "      <td>45</td>\n",
       "      <td>NO CONTROLS</td>\n",
       "      <td>NO CONTROLS</td>\n",
       "      <td>CLEAR</td>\n",
       "      <td>DAYLIGHT</td>\n",
       "      <td>SIDESWIPE SAME DIRECTION</td>\n",
       "      <td>ONE-WAY</td>\n",
       "      <td>...</td>\n",
       "      <td>0.0</td>\n",
       "      <td>0.0</td>\n",
       "      <td>2.0</td>\n",
       "      <td>0.0</td>\n",
       "      <td>16</td>\n",
       "      <td>5</td>\n",
       "      <td>6</td>\n",
       "      <td>NaN</td>\n",
       "      <td>NaN</td>\n",
       "      <td>NaN</td>\n",
       "    </tr>\n",
       "    <tr>\n",
       "      <td>2</td>\n",
       "      <td>009e9e67203442370272e1a13d6ee51a4155dac65e583d...</td>\n",
       "      <td>JA329216</td>\n",
       "      <td>06/30/2017 04:00:00 PM</td>\n",
       "      <td>35</td>\n",
       "      <td>STOP SIGN/FLASHER</td>\n",
       "      <td>FUNCTIONING PROPERLY</td>\n",
       "      <td>CLEAR</td>\n",
       "      <td>DAYLIGHT</td>\n",
       "      <td>TURNING</td>\n",
       "      <td>NOT DIVIDED</td>\n",
       "      <td>...</td>\n",
       "      <td>0.0</td>\n",
       "      <td>0.0</td>\n",
       "      <td>3.0</td>\n",
       "      <td>0.0</td>\n",
       "      <td>16</td>\n",
       "      <td>6</td>\n",
       "      <td>6</td>\n",
       "      <td>41.741804</td>\n",
       "      <td>-87.740954</td>\n",
       "      <td>POINT (-87.740953581987 41.741803598989)</td>\n",
       "    </tr>\n",
       "    <tr>\n",
       "      <td>3</td>\n",
       "      <td>00e47f189660cd8ba1e85fc63061bf1d8465184393f134...</td>\n",
       "      <td>JC194776</td>\n",
       "      <td>03/21/2019 10:50:00 PM</td>\n",
       "      <td>30</td>\n",
       "      <td>TRAFFIC SIGNAL</td>\n",
       "      <td>FUNCTIONING PROPERLY</td>\n",
       "      <td>CLEAR</td>\n",
       "      <td>DARKNESS, LIGHTED ROAD</td>\n",
       "      <td>TURNING</td>\n",
       "      <td>NOT DIVIDED</td>\n",
       "      <td>...</td>\n",
       "      <td>0.0</td>\n",
       "      <td>0.0</td>\n",
       "      <td>2.0</td>\n",
       "      <td>0.0</td>\n",
       "      <td>22</td>\n",
       "      <td>5</td>\n",
       "      <td>3</td>\n",
       "      <td>41.741804</td>\n",
       "      <td>-87.740954</td>\n",
       "      <td>POINT (-87.740953581987 41.741803598989)</td>\n",
       "    </tr>\n",
       "    <tr>\n",
       "      <td>4</td>\n",
       "      <td>0126747fc9ffc0edc9a38abb83d80034f897db0f739eef...</td>\n",
       "      <td>JB200478</td>\n",
       "      <td>03/26/2018 02:23:00 PM</td>\n",
       "      <td>35</td>\n",
       "      <td>NO CONTROLS</td>\n",
       "      <td>NO CONTROLS</td>\n",
       "      <td>CLEAR</td>\n",
       "      <td>DAYLIGHT</td>\n",
       "      <td>PARKED MOTOR VEHICLE</td>\n",
       "      <td>NOT DIVIDED</td>\n",
       "      <td>...</td>\n",
       "      <td>0.0</td>\n",
       "      <td>0.0</td>\n",
       "      <td>2.0</td>\n",
       "      <td>0.0</td>\n",
       "      <td>14</td>\n",
       "      <td>2</td>\n",
       "      <td>3</td>\n",
       "      <td>41.953647</td>\n",
       "      <td>-87.732082</td>\n",
       "      <td>POINT (-87.732081736006 41.953646899951)</td>\n",
       "    </tr>\n",
       "  </tbody>\n",
       "</table>\n",
       "<p>5 rows × 39 columns</p>\n",
       "</div>"
      ],
      "text/plain": [
       "                                     CRASH_RECORD_ID     RD_NO  \\\n",
       "0  073682ef84ff827659552d4254ad1b98bfec24935cc9cc...  JB460108   \n",
       "1  1560fb8a1e32b528fef8bfd677d2b3fc5ab37278b157fa...  JC325941   \n",
       "2  009e9e67203442370272e1a13d6ee51a4155dac65e583d...  JA329216   \n",
       "3  00e47f189660cd8ba1e85fc63061bf1d8465184393f134...  JC194776   \n",
       "4  0126747fc9ffc0edc9a38abb83d80034f897db0f739eef...  JB200478   \n",
       "\n",
       "               CRASH_DATE  POSTED_SPEED_LIMIT TRAFFIC_CONTROL_DEVICE  \\\n",
       "0  10/02/2018 06:30:00 PM                  10            NO CONTROLS   \n",
       "1  06/27/2019 04:00:00 PM                  45            NO CONTROLS   \n",
       "2  06/30/2017 04:00:00 PM                  35      STOP SIGN/FLASHER   \n",
       "3  03/21/2019 10:50:00 PM                  30         TRAFFIC SIGNAL   \n",
       "4  03/26/2018 02:23:00 PM                  35            NO CONTROLS   \n",
       "\n",
       "       DEVICE_CONDITION WEATHER_CONDITION      LIGHTING_CONDITION  \\\n",
       "0           NO CONTROLS             CLEAR                DARKNESS   \n",
       "1           NO CONTROLS             CLEAR                DAYLIGHT   \n",
       "2  FUNCTIONING PROPERLY             CLEAR                DAYLIGHT   \n",
       "3  FUNCTIONING PROPERLY             CLEAR  DARKNESS, LIGHTED ROAD   \n",
       "4           NO CONTROLS             CLEAR                DAYLIGHT   \n",
       "\n",
       "           FIRST_CRASH_TYPE TRAFFICWAY_TYPE  ... INJURIES_NON_INCAPACITATING  \\\n",
       "0      PARKED MOTOR VEHICLE           OTHER  ...                         0.0   \n",
       "1  SIDESWIPE SAME DIRECTION         ONE-WAY  ...                         0.0   \n",
       "2                   TURNING     NOT DIVIDED  ...                         0.0   \n",
       "3                   TURNING     NOT DIVIDED  ...                         0.0   \n",
       "4      PARKED MOTOR VEHICLE     NOT DIVIDED  ...                         0.0   \n",
       "\n",
       "  INJURIES_REPORTED_NOT_EVIDENT INJURIES_NO_INDICATION INJURIES_UNKNOWN  \\\n",
       "0                           0.0                    1.0              0.0   \n",
       "1                           0.0                    2.0              0.0   \n",
       "2                           0.0                    3.0              0.0   \n",
       "3                           0.0                    2.0              0.0   \n",
       "4                           0.0                    2.0              0.0   \n",
       "\n",
       "  CRASH_HOUR CRASH_DAY_OF_WEEK CRASH_MONTH   LATITUDE  LONGITUDE  \\\n",
       "0         18                 3          10        NaN        NaN   \n",
       "1         16                 5           6        NaN        NaN   \n",
       "2         16                 6           6  41.741804 -87.740954   \n",
       "3         22                 5           3  41.741804 -87.740954   \n",
       "4         14                 2           3  41.953647 -87.732082   \n",
       "\n",
       "                                   LOCATION  \n",
       "0                                       NaN  \n",
       "1                                       NaN  \n",
       "2  POINT (-87.740953581987 41.741803598989)  \n",
       "3  POINT (-87.740953581987 41.741803598989)  \n",
       "4  POINT (-87.732081736006 41.953646899951)  \n",
       "\n",
       "[5 rows x 39 columns]"
      ]
     },
     "execution_count": 67,
     "metadata": {},
     "output_type": "execute_result"
    }
   ],
   "source": [
    "df.head()"
   ]
  },
  {
   "cell_type": "code",
   "execution_count": 82,
   "metadata": {},
   "outputs": [
    {
     "data": {
      "text/html": [
       "<div>\n",
       "<style scoped>\n",
       "    .dataframe tbody tr th:only-of-type {\n",
       "        vertical-align: middle;\n",
       "    }\n",
       "\n",
       "    .dataframe tbody tr th {\n",
       "        vertical-align: top;\n",
       "    }\n",
       "\n",
       "    .dataframe thead th {\n",
       "        text-align: right;\n",
       "    }\n",
       "</style>\n",
       "<table border=\"1\" class=\"dataframe\">\n",
       "  <thead>\n",
       "    <tr style=\"text-align: right;\">\n",
       "      <th></th>\n",
       "      <th>INJURIES_NO_INDICATION</th>\n",
       "      <th>INJURIES_UNKNOWN</th>\n",
       "    </tr>\n",
       "  </thead>\n",
       "  <tbody>\n",
       "    <tr>\n",
       "      <td>0</td>\n",
       "      <td>1.0</td>\n",
       "      <td>0.0</td>\n",
       "    </tr>\n",
       "    <tr>\n",
       "      <td>1</td>\n",
       "      <td>2.0</td>\n",
       "      <td>0.0</td>\n",
       "    </tr>\n",
       "    <tr>\n",
       "      <td>2</td>\n",
       "      <td>3.0</td>\n",
       "      <td>0.0</td>\n",
       "    </tr>\n",
       "    <tr>\n",
       "      <td>3</td>\n",
       "      <td>2.0</td>\n",
       "      <td>0.0</td>\n",
       "    </tr>\n",
       "    <tr>\n",
       "      <td>4</td>\n",
       "      <td>2.0</td>\n",
       "      <td>0.0</td>\n",
       "    </tr>\n",
       "    <tr>\n",
       "      <td>...</td>\n",
       "      <td>...</td>\n",
       "      <td>...</td>\n",
       "    </tr>\n",
       "    <tr>\n",
       "      <td>433845</td>\n",
       "      <td>0.0</td>\n",
       "      <td>0.0</td>\n",
       "    </tr>\n",
       "    <tr>\n",
       "      <td>433846</td>\n",
       "      <td>1.0</td>\n",
       "      <td>0.0</td>\n",
       "    </tr>\n",
       "    <tr>\n",
       "      <td>433847</td>\n",
       "      <td>2.0</td>\n",
       "      <td>0.0</td>\n",
       "    </tr>\n",
       "    <tr>\n",
       "      <td>433848</td>\n",
       "      <td>1.0</td>\n",
       "      <td>0.0</td>\n",
       "    </tr>\n",
       "    <tr>\n",
       "      <td>433849</td>\n",
       "      <td>2.0</td>\n",
       "      <td>0.0</td>\n",
       "    </tr>\n",
       "  </tbody>\n",
       "</table>\n",
       "<p>433850 rows × 2 columns</p>\n",
       "</div>"
      ],
      "text/plain": [
       "        INJURIES_NO_INDICATION  INJURIES_UNKNOWN\n",
       "0                          1.0               0.0\n",
       "1                          2.0               0.0\n",
       "2                          3.0               0.0\n",
       "3                          2.0               0.0\n",
       "4                          2.0               0.0\n",
       "...                        ...               ...\n",
       "433845                     0.0               0.0\n",
       "433846                     1.0               0.0\n",
       "433847                     2.0               0.0\n",
       "433848                     1.0               0.0\n",
       "433849                     2.0               0.0\n",
       "\n",
       "[433850 rows x 2 columns]"
      ]
     },
     "execution_count": 82,
     "metadata": {},
     "output_type": "execute_result"
    }
   ],
   "source": [
    "df[['INJURIES_NO_INDICATION', 'INJURIES_UNKNOWN']]"
   ]
  },
  {
   "cell_type": "code",
   "execution_count": 10,
   "metadata": {},
   "outputs": [
    {
     "name": "stdout",
     "output_type": "stream",
     "text": [
      "RD_NO has 3972 missing values.\n",
      "CRASH_DATE_EST_I has 401609 missing values.\n",
      "LANE_CNT has 234893 missing values.\n",
      "REPORT_TYPE has 10214 missing values.\n",
      "INTERSECTION_RELATED_I has 336614 missing values.\n",
      "NOT_RIGHT_OF_WAY_I has 413543 missing values.\n",
      "HIT_AND_RUN_I has 309706 missing values.\n",
      "STREET_DIRECTION has 3 missing values.\n",
      "STREET_NAME has 1 missing values.\n",
      "BEAT_OF_OCCURRENCE has 5 missing values.\n",
      "PHOTOS_TAKEN_I has 428363 missing values.\n",
      "STATEMENTS_TAKEN_I has 425066 missing values.\n",
      "DOORING_I has 432415 missing values.\n",
      "WORK_ZONE_I has 430946 missing values.\n",
      "WORK_ZONE_TYPE has 431546 missing values.\n",
      "WORKERS_PRESENT_I has 433161 missing values.\n",
      "MOST_SEVERE_INJURY has 862 missing values.\n",
      "INJURIES_TOTAL has 852 missing values.\n",
      "INJURIES_FATAL has 852 missing values.\n",
      "INJURIES_INCAPACITATING has 852 missing values.\n",
      "INJURIES_NON_INCAPACITATING has 852 missing values.\n",
      "INJURIES_REPORTED_NOT_EVIDENT has 852 missing values.\n",
      "INJURIES_NO_INDICATION has 852 missing values.\n",
      "INJURIES_UNKNOWN has 852 missing values.\n",
      "LATITUDE has 2363 missing values.\n",
      "LONGITUDE has 2363 missing values.\n",
      "LOCATION has 2363 missing values.\n"
     ]
    }
   ],
   "source": [
    "for col in data:\n",
    "    v = data[col].isna().sum()\n",
    "    if v > 0:\n",
    "        print(f'{col} has {v} missing values.')"
   ]
  },
  {
   "cell_type": "code",
   "execution_count": 142,
   "metadata": {},
   "outputs": [],
   "source": [
    "for col in df_final:\n",
    "    v = df_final[col].isna().sum()\n",
    "    if v > 0:\n",
    "        print(f'{col} has {v} missing values.')"
   ]
  },
  {
   "cell_type": "code",
   "execution_count": 148,
   "metadata": {},
   "outputs": [],
   "source": [
    "df2 = df"
   ]
  },
  {
   "cell_type": "code",
   "execution_count": 149,
   "metadata": {},
   "outputs": [
    {
     "data": {
      "text/plain": [
       "CRASH_RECORD_ID                      0\n",
       "RD_NO                                0\n",
       "CRASH_DATE                           0\n",
       "POSTED_SPEED_LIMIT                   0\n",
       "TRAFFIC_CONTROL_DEVICE               0\n",
       "DEVICE_CONDITION                     0\n",
       "WEATHER_CONDITION                    0\n",
       "LIGHTING_CONDITION                   0\n",
       "FIRST_CRASH_TYPE                     0\n",
       "TRAFFICWAY_TYPE                      0\n",
       "ALIGNMENT                            0\n",
       "ROADWAY_SURFACE_COND                 0\n",
       "ROAD_DEFECT                          0\n",
       "REPORT_TYPE                      10214\n",
       "CRASH_TYPE                           0\n",
       "DAMAGE                               0\n",
       "DATE_POLICE_NOTIFIED                 0\n",
       "PRIM_CONTRIBUTORY_CAUSE              0\n",
       "SEC_CONTRIBUTORY_CAUSE               0\n",
       "STREET_NO                            0\n",
       "STREET_DIRECTION                     3\n",
       "STREET_NAME                          1\n",
       "BEAT_OF_OCCURRENCE                   5\n",
       "WORK_ZONE_TYPE                       0\n",
       "NUM_UNITS                            0\n",
       "MOST_SEVERE_INJURY                 862\n",
       "INJURIES_TOTAL                     852\n",
       "INJURIES_FATAL                     852\n",
       "INJURIES_INCAPACITATING            852\n",
       "INJURIES_NON_INCAPACITATING        852\n",
       "INJURIES_REPORTED_NOT_EVIDENT      852\n",
       "INJURIES_NO_INDICATION             852\n",
       "INJURIES_UNKNOWN                   852\n",
       "CRASH_HOUR                           0\n",
       "CRASH_DAY_OF_WEEK                    0\n",
       "CRASH_MONTH                          0\n",
       "LATITUDE                          2363\n",
       "LONGITUDE                         2363\n",
       "LOCATION                          2363\n",
       "dtype: int64"
      ]
     },
     "execution_count": 149,
     "metadata": {},
     "output_type": "execute_result"
    }
   ],
   "source": [
    "df2.isna().sum()"
   ]
  },
  {
   "cell_type": "code",
   "execution_count": 150,
   "metadata": {},
   "outputs": [],
   "source": [
    "df3 = df2.dropna()"
   ]
  },
  {
   "cell_type": "code",
   "execution_count": 151,
   "metadata": {},
   "outputs": [
    {
     "data": {
      "text/plain": [
       "CRASH_RECORD_ID                  0\n",
       "RD_NO                            0\n",
       "CRASH_DATE                       0\n",
       "POSTED_SPEED_LIMIT               0\n",
       "TRAFFIC_CONTROL_DEVICE           0\n",
       "DEVICE_CONDITION                 0\n",
       "WEATHER_CONDITION                0\n",
       "LIGHTING_CONDITION               0\n",
       "FIRST_CRASH_TYPE                 0\n",
       "TRAFFICWAY_TYPE                  0\n",
       "ALIGNMENT                        0\n",
       "ROADWAY_SURFACE_COND             0\n",
       "ROAD_DEFECT                      0\n",
       "REPORT_TYPE                      0\n",
       "CRASH_TYPE                       0\n",
       "DAMAGE                           0\n",
       "DATE_POLICE_NOTIFIED             0\n",
       "PRIM_CONTRIBUTORY_CAUSE          0\n",
       "SEC_CONTRIBUTORY_CAUSE           0\n",
       "STREET_NO                        0\n",
       "STREET_DIRECTION                 0\n",
       "STREET_NAME                      0\n",
       "BEAT_OF_OCCURRENCE               0\n",
       "WORK_ZONE_TYPE                   0\n",
       "NUM_UNITS                        0\n",
       "MOST_SEVERE_INJURY               0\n",
       "INJURIES_TOTAL                   0\n",
       "INJURIES_FATAL                   0\n",
       "INJURIES_INCAPACITATING          0\n",
       "INJURIES_NON_INCAPACITATING      0\n",
       "INJURIES_REPORTED_NOT_EVIDENT    0\n",
       "INJURIES_NO_INDICATION           0\n",
       "INJURIES_UNKNOWN                 0\n",
       "CRASH_HOUR                       0\n",
       "CRASH_DAY_OF_WEEK                0\n",
       "CRASH_MONTH                      0\n",
       "LATITUDE                         0\n",
       "LONGITUDE                        0\n",
       "LOCATION                         0\n",
       "dtype: int64"
      ]
     },
     "execution_count": 151,
     "metadata": {},
     "output_type": "execute_result"
    }
   ],
   "source": [
    "df3.isna().sum()"
   ]
  },
  {
   "cell_type": "code",
   "execution_count": null,
   "metadata": {},
   "outputs": [],
   "source": [
    "# Convert race and sex using get_dummies() \n",
    "x_feats = ['TRAFFIC_CONTROL_DEVICE', 'DEVICE_CONDITION', 'WEATHER_CONDITION']\n",
    "X = pd.get_dummies(df3[x_feats], drop_first=True, dtype=float)\n",
    "\n",
    "# Convert target using get_dummies\n",
    "y = pd.get_dummies(df3['CRASH_RECORD_ID'], drop_first=True, dtype=float)\n",
    "y = y['>50K']"
   ]
  },
  {
   "cell_type": "code",
   "execution_count": null,
   "metadata": {},
   "outputs": [],
   "source": [
    "import statsmodels.api as sm\n",
    "\n",
    "# Create intercept term required for sm.Logit, see documentation for more information\n",
    "X = sm.add_constant(X)\n",
    "\n",
    "# Fit model\n",
    "logit_model = sm.Logit(y, X)\n",
    "\n",
    "# Get results of the fit\n",
    "result = logit_model.fit()"
   ]
  },
  {
   "cell_type": "code",
   "execution_count": null,
   "metadata": {},
   "outputs": [],
   "source": [
    "X = df[['outlook', 'temp', 'humidity', 'windy']]\n",
    "y = df[['play']]\n",
    "\n",
    "X_train, X_test, y_train, y_test = train_test_split(X, y, test_size = 0.3, random_state = 42)"
   ]
  },
  {
   "cell_type": "code",
   "execution_count": null,
   "metadata": {},
   "outputs": [],
   "source": [
    "Modeling\n",
    "testing the model on unseen data, cross-validation, and regularization\n",
    "\n"
   ]
  },
  {
   "cell_type": "code",
   "execution_count": 174,
   "metadata": {},
   "outputs": [],
   "source": [
    "df_final.columns\n",
    "df_dropped = df_final.drop(['CRASH_RECORD_ID', 'RD_NO', 'CRASH_DATE'], axis=1)"
   ]
  },
  {
   "cell_type": "code",
   "execution_count": 175,
   "metadata": {},
   "outputs": [
    {
     "data": {
      "text/html": [
       "<div>\n",
       "<style scoped>\n",
       "    .dataframe tbody tr th:only-of-type {\n",
       "        vertical-align: middle;\n",
       "    }\n",
       "\n",
       "    .dataframe tbody tr th {\n",
       "        vertical-align: top;\n",
       "    }\n",
       "\n",
       "    .dataframe thead th {\n",
       "        text-align: right;\n",
       "    }\n",
       "</style>\n",
       "<table border=\"1\" class=\"dataframe\">\n",
       "  <thead>\n",
       "    <tr style=\"text-align: right;\">\n",
       "      <th></th>\n",
       "      <th>POSTED_SPEED_LIMIT</th>\n",
       "      <th>TRAFFIC_CONTROL_DEVICE</th>\n",
       "      <th>DEVICE_CONDITION</th>\n",
       "      <th>WEATHER_CONDITION</th>\n",
       "      <th>LIGHTING_CONDITION</th>\n",
       "      <th>FIRST_CRASH_TYPE</th>\n",
       "      <th>TRAFFICWAY_TYPE</th>\n",
       "      <th>ALIGNMENT</th>\n",
       "      <th>ROADWAY_SURFACE_COND</th>\n",
       "      <th>ROAD_DEFECT</th>\n",
       "      <th>...</th>\n",
       "      <th>SEC_CONTRIBUTORY_CAUSE_VISION OBSCURED (SIGNS, TREE LIMBS, BUILDINGS, ETC.)</th>\n",
       "      <th>SEC_CONTRIBUTORY_CAUSE_WEATHER</th>\n",
       "      <th>STREET_DIRECTION_E</th>\n",
       "      <th>STREET_DIRECTION_N</th>\n",
       "      <th>STREET_DIRECTION_S</th>\n",
       "      <th>STREET_DIRECTION_W</th>\n",
       "      <th>WORK_ZONE_TYPE_CONSTRUCTION</th>\n",
       "      <th>WORK_ZONE_TYPE_MAINTENANCE</th>\n",
       "      <th>WORK_ZONE_TYPE_UNKNOWN</th>\n",
       "      <th>WORK_ZONE_TYPE_UTILITY</th>\n",
       "    </tr>\n",
       "  </thead>\n",
       "  <tbody>\n",
       "    <tr>\n",
       "      <td>2</td>\n",
       "      <td>35</td>\n",
       "      <td>STOP SIGN/FLASHER</td>\n",
       "      <td>FUNCTIONING PROPERLY</td>\n",
       "      <td>CLEAR</td>\n",
       "      <td>DAYLIGHT</td>\n",
       "      <td>TURNING</td>\n",
       "      <td>NOT DIVIDED</td>\n",
       "      <td>STRAIGHT AND LEVEL</td>\n",
       "      <td>DRY</td>\n",
       "      <td>NO DEFECTS</td>\n",
       "      <td>...</td>\n",
       "      <td>0</td>\n",
       "      <td>0</td>\n",
       "      <td>0</td>\n",
       "      <td>0</td>\n",
       "      <td>1</td>\n",
       "      <td>0</td>\n",
       "      <td>0</td>\n",
       "      <td>0</td>\n",
       "      <td>1</td>\n",
       "      <td>0</td>\n",
       "    </tr>\n",
       "    <tr>\n",
       "      <td>3</td>\n",
       "      <td>30</td>\n",
       "      <td>TRAFFIC SIGNAL</td>\n",
       "      <td>FUNCTIONING PROPERLY</td>\n",
       "      <td>CLEAR</td>\n",
       "      <td>DARKNESS, LIGHTED ROAD</td>\n",
       "      <td>TURNING</td>\n",
       "      <td>NOT DIVIDED</td>\n",
       "      <td>STRAIGHT AND LEVEL</td>\n",
       "      <td>DRY</td>\n",
       "      <td>NO DEFECTS</td>\n",
       "      <td>...</td>\n",
       "      <td>0</td>\n",
       "      <td>0</td>\n",
       "      <td>0</td>\n",
       "      <td>0</td>\n",
       "      <td>1</td>\n",
       "      <td>0</td>\n",
       "      <td>0</td>\n",
       "      <td>0</td>\n",
       "      <td>1</td>\n",
       "      <td>0</td>\n",
       "    </tr>\n",
       "    <tr>\n",
       "      <td>4</td>\n",
       "      <td>35</td>\n",
       "      <td>NO CONTROLS</td>\n",
       "      <td>NO CONTROLS</td>\n",
       "      <td>CLEAR</td>\n",
       "      <td>DAYLIGHT</td>\n",
       "      <td>PARKED MOTOR VEHICLE</td>\n",
       "      <td>NOT DIVIDED</td>\n",
       "      <td>STRAIGHT AND LEVEL</td>\n",
       "      <td>DRY</td>\n",
       "      <td>NO DEFECTS</td>\n",
       "      <td>...</td>\n",
       "      <td>0</td>\n",
       "      <td>0</td>\n",
       "      <td>0</td>\n",
       "      <td>1</td>\n",
       "      <td>0</td>\n",
       "      <td>0</td>\n",
       "      <td>0</td>\n",
       "      <td>0</td>\n",
       "      <td>1</td>\n",
       "      <td>0</td>\n",
       "    </tr>\n",
       "    <tr>\n",
       "      <td>5</td>\n",
       "      <td>35</td>\n",
       "      <td>TRAFFIC SIGNAL</td>\n",
       "      <td>OTHER</td>\n",
       "      <td>CLEAR</td>\n",
       "      <td>DAWN</td>\n",
       "      <td>REAR END</td>\n",
       "      <td>T-INTERSECTION</td>\n",
       "      <td>STRAIGHT AND LEVEL</td>\n",
       "      <td>DRY</td>\n",
       "      <td>NO DEFECTS</td>\n",
       "      <td>...</td>\n",
       "      <td>0</td>\n",
       "      <td>0</td>\n",
       "      <td>0</td>\n",
       "      <td>0</td>\n",
       "      <td>0</td>\n",
       "      <td>1</td>\n",
       "      <td>0</td>\n",
       "      <td>0</td>\n",
       "      <td>1</td>\n",
       "      <td>0</td>\n",
       "    </tr>\n",
       "    <tr>\n",
       "      <td>6</td>\n",
       "      <td>30</td>\n",
       "      <td>TRAFFIC SIGNAL</td>\n",
       "      <td>FUNCTIONING PROPERLY</td>\n",
       "      <td>CLEAR</td>\n",
       "      <td>DAYLIGHT</td>\n",
       "      <td>TURNING</td>\n",
       "      <td>NOT DIVIDED</td>\n",
       "      <td>STRAIGHT AND LEVEL</td>\n",
       "      <td>DRY</td>\n",
       "      <td>UNKNOWN</td>\n",
       "      <td>...</td>\n",
       "      <td>0</td>\n",
       "      <td>0</td>\n",
       "      <td>0</td>\n",
       "      <td>0</td>\n",
       "      <td>0</td>\n",
       "      <td>1</td>\n",
       "      <td>0</td>\n",
       "      <td>0</td>\n",
       "      <td>1</td>\n",
       "      <td>0</td>\n",
       "    </tr>\n",
       "  </tbody>\n",
       "</table>\n",
       "<p>5 rows × 235 columns</p>\n",
       "</div>"
      ],
      "text/plain": [
       "   POSTED_SPEED_LIMIT TRAFFIC_CONTROL_DEVICE      DEVICE_CONDITION  \\\n",
       "2                  35      STOP SIGN/FLASHER  FUNCTIONING PROPERLY   \n",
       "3                  30         TRAFFIC SIGNAL  FUNCTIONING PROPERLY   \n",
       "4                  35            NO CONTROLS           NO CONTROLS   \n",
       "5                  35         TRAFFIC SIGNAL                 OTHER   \n",
       "6                  30         TRAFFIC SIGNAL  FUNCTIONING PROPERLY   \n",
       "\n",
       "  WEATHER_CONDITION      LIGHTING_CONDITION      FIRST_CRASH_TYPE  \\\n",
       "2             CLEAR                DAYLIGHT               TURNING   \n",
       "3             CLEAR  DARKNESS, LIGHTED ROAD               TURNING   \n",
       "4             CLEAR                DAYLIGHT  PARKED MOTOR VEHICLE   \n",
       "5             CLEAR                    DAWN              REAR END   \n",
       "6             CLEAR                DAYLIGHT               TURNING   \n",
       "\n",
       "  TRAFFICWAY_TYPE           ALIGNMENT ROADWAY_SURFACE_COND ROAD_DEFECT  ...  \\\n",
       "2     NOT DIVIDED  STRAIGHT AND LEVEL                  DRY  NO DEFECTS  ...   \n",
       "3     NOT DIVIDED  STRAIGHT AND LEVEL                  DRY  NO DEFECTS  ...   \n",
       "4     NOT DIVIDED  STRAIGHT AND LEVEL                  DRY  NO DEFECTS  ...   \n",
       "5  T-INTERSECTION  STRAIGHT AND LEVEL                  DRY  NO DEFECTS  ...   \n",
       "6     NOT DIVIDED  STRAIGHT AND LEVEL                  DRY     UNKNOWN  ...   \n",
       "\n",
       "  SEC_CONTRIBUTORY_CAUSE_VISION OBSCURED (SIGNS, TREE LIMBS, BUILDINGS, ETC.)  \\\n",
       "2                                                  0                            \n",
       "3                                                  0                            \n",
       "4                                                  0                            \n",
       "5                                                  0                            \n",
       "6                                                  0                            \n",
       "\n",
       "  SEC_CONTRIBUTORY_CAUSE_WEATHER STREET_DIRECTION_E STREET_DIRECTION_N  \\\n",
       "2                              0                  0                  0   \n",
       "3                              0                  0                  0   \n",
       "4                              0                  0                  1   \n",
       "5                              0                  0                  0   \n",
       "6                              0                  0                  0   \n",
       "\n",
       "  STREET_DIRECTION_S STREET_DIRECTION_W  WORK_ZONE_TYPE_CONSTRUCTION  \\\n",
       "2                  1                  0                            0   \n",
       "3                  1                  0                            0   \n",
       "4                  0                  0                            0   \n",
       "5                  0                  1                            0   \n",
       "6                  0                  1                            0   \n",
       "\n",
       "  WORK_ZONE_TYPE_MAINTENANCE WORK_ZONE_TYPE_UNKNOWN  WORK_ZONE_TYPE_UTILITY  \n",
       "2                          0                      1                       0  \n",
       "3                          0                      1                       0  \n",
       "4                          0                      1                       0  \n",
       "5                          0                      1                       0  \n",
       "6                          0                      1                       0  \n",
       "\n",
       "[5 rows x 235 columns]"
      ]
     },
     "execution_count": 175,
     "metadata": {},
     "output_type": "execute_result"
    }
   ],
   "source": [
    "df_dropped.head()"
   ]
  },
  {
   "cell_type": "code",
   "execution_count": 176,
   "metadata": {},
   "outputs": [
    {
     "data": {
      "text/plain": [
       "(420464, 235)"
      ]
     },
     "execution_count": 176,
     "metadata": {},
     "output_type": "execute_result"
    }
   ],
   "source": [
    "df_dropped.shape"
   ]
  },
  {
   "cell_type": "code",
   "execution_count": 177,
   "metadata": {},
   "outputs": [
    {
     "data": {
      "text/plain": [
       "Index(['POSTED_SPEED_LIMIT', 'TRAFFIC_CONTROL_DEVICE', 'DEVICE_CONDITION',\n",
       "       'WEATHER_CONDITION', 'LIGHTING_CONDITION', 'FIRST_CRASH_TYPE',\n",
       "       'TRAFFICWAY_TYPE', 'ALIGNMENT', 'ROADWAY_SURFACE_COND', 'ROAD_DEFECT',\n",
       "       ...\n",
       "       'SEC_CONTRIBUTORY_CAUSE_VISION OBSCURED (SIGNS, TREE LIMBS, BUILDINGS, ETC.)',\n",
       "       'SEC_CONTRIBUTORY_CAUSE_WEATHER', 'STREET_DIRECTION_E',\n",
       "       'STREET_DIRECTION_N', 'STREET_DIRECTION_S', 'STREET_DIRECTION_W',\n",
       "       'WORK_ZONE_TYPE_CONSTRUCTION', 'WORK_ZONE_TYPE_MAINTENANCE',\n",
       "       'WORK_ZONE_TYPE_UNKNOWN', 'WORK_ZONE_TYPE_UTILITY'],\n",
       "      dtype='object', length=235)"
      ]
     },
     "execution_count": 177,
     "metadata": {},
     "output_type": "execute_result"
    }
   ],
   "source": [
    "df_dropped.columns"
   ]
  },
  {
   "cell_type": "code",
   "execution_count": 165,
   "metadata": {},
   "outputs": [],
   "source": [
    "df_final_two = df_final.drop('RD_NO', axis=1)"
   ]
  },
  {
   "cell_type": "code",
   "execution_count": 168,
   "metadata": {},
   "outputs": [],
   "source": [
    "df_final_three = df_two.drop('CRASH_DATE', axis=1)"
   ]
  },
  {
   "cell_type": "code",
   "execution_count": 169,
   "metadata": {},
   "outputs": [
    {
     "data": {
      "text/plain": [
       "Index(['CRASH_RECORD_ID', 'RD_NO', 'POSTED_SPEED_LIMIT',\n",
       "       'TRAFFIC_CONTROL_DEVICE', 'DEVICE_CONDITION', 'WEATHER_CONDITION',\n",
       "       'LIGHTING_CONDITION', 'FIRST_CRASH_TYPE', 'TRAFFICWAY_TYPE',\n",
       "       'ALIGNMENT', 'ROADWAY_SURFACE_COND', 'ROAD_DEFECT', 'REPORT_TYPE',\n",
       "       'CRASH_TYPE', 'DAMAGE', 'DATE_POLICE_NOTIFIED',\n",
       "       'PRIM_CONTRIBUTORY_CAUSE', 'SEC_CONTRIBUTORY_CAUSE', 'STREET_NO',\n",
       "       'STREET_DIRECTION', 'STREET_NAME', 'BEAT_OF_OCCURRENCE',\n",
       "       'WORK_ZONE_TYPE', 'NUM_UNITS', 'MOST_SEVERE_INJURY', 'INJURIES_TOTAL',\n",
       "       'INJURIES_FATAL', 'INJURIES_INCAPACITATING',\n",
       "       'INJURIES_NON_INCAPACITATING', 'INJURIES_REPORTED_NOT_EVIDENT',\n",
       "       'INJURIES_NO_INDICATION', 'INJURIES_UNKNOWN', 'CRASH_HOUR',\n",
       "       'CRASH_DAY_OF_WEEK', 'CRASH_MONTH', 'LATITUDE', 'LONGITUDE', 'LOCATION',\n",
       "       'TRAFFIC_CONTROL_DEVICE_BICYCLE CROSSING SIGN',\n",
       "       'TRAFFIC_CONTROL_DEVICE_DELINEATORS',\n",
       "       'TRAFFIC_CONTROL_DEVICE_FLASHING CONTROL SIGNAL',\n",
       "       'TRAFFIC_CONTROL_DEVICE_LANE USE MARKING',\n",
       "       'TRAFFIC_CONTROL_DEVICE_NO CONTROLS',\n",
       "       'TRAFFIC_CONTROL_DEVICE_NO PASSING', 'TRAFFIC_CONTROL_DEVICE_OTHER',\n",
       "       'TRAFFIC_CONTROL_DEVICE_OTHER RAILROAD CROSSING',\n",
       "       'TRAFFIC_CONTROL_DEVICE_OTHER REG. SIGN',\n",
       "       'TRAFFIC_CONTROL_DEVICE_OTHER WARNING SIGN',\n",
       "       'TRAFFIC_CONTROL_DEVICE_PEDESTRIAN CROSSING SIGN',\n",
       "       'TRAFFIC_CONTROL_DEVICE_POLICE/FLAGMAN',\n",
       "       'TRAFFIC_CONTROL_DEVICE_RAILROAD CROSSING GATE',\n",
       "       'TRAFFIC_CONTROL_DEVICE_RR CROSSING SIGN',\n",
       "       'TRAFFIC_CONTROL_DEVICE_SCHOOL ZONE',\n",
       "       'TRAFFIC_CONTROL_DEVICE_STOP SIGN/FLASHER',\n",
       "       'TRAFFIC_CONTROL_DEVICE_TRAFFIC SIGNAL',\n",
       "       'TRAFFIC_CONTROL_DEVICE_UNKNOWN', 'TRAFFIC_CONTROL_DEVICE_YIELD',\n",
       "       'DEVICE_CONDITION_FUNCTIONING IMPROPERLY',\n",
       "       'DEVICE_CONDITION_FUNCTIONING PROPERLY', 'DEVICE_CONDITION_MISSING',\n",
       "       'DEVICE_CONDITION_NO CONTROLS', 'DEVICE_CONDITION_NOT FUNCTIONING',\n",
       "       'DEVICE_CONDITION_OTHER', 'DEVICE_CONDITION_UNKNOWN',\n",
       "       'DEVICE_CONDITION_WORN REFLECTIVE MATERIAL'],\n",
       "      dtype='object')"
      ]
     },
     "execution_count": 169,
     "metadata": {},
     "output_type": "execute_result"
    }
   ],
   "source": [
    "df_final_three.columns"
   ]
  },
  {
   "cell_type": "code",
   "execution_count": 161,
   "metadata": {},
   "outputs": [],
   "source": [
    "## Trying multi-class decision tree\n",
    "X = df_final_three.drop('CRASH_RECORD_ID', axis=1)  \n",
    "y = df_final_three['CRASH_RECORD_ID'] "
   ]
  },
  {
   "cell_type": "code",
   "execution_count": 162,
   "metadata": {},
   "outputs": [],
   "source": [
    "# Perform an 80/20 split\n",
    "X_train, X_test, y_train, y_test = train_test_split(\n",
    "    X, y, test_size=0.20, random_state=10)"
   ]
  },
  {
   "cell_type": "code",
   "execution_count": 163,
   "metadata": {},
   "outputs": [
    {
     "ename": "ValueError",
     "evalue": "could not convert string to float: 'JA541080'",
     "output_type": "error",
     "traceback": [
      "\u001b[0;31m---------------------------------------------------------------------------\u001b[0m",
      "\u001b[0;31mValueError\u001b[0m                                Traceback (most recent call last)",
      "\u001b[0;32m<ipython-input-163-aedf76bd495d>\u001b[0m in \u001b[0;36m<module>\u001b[0;34m\u001b[0m\n\u001b[1;32m      1\u001b[0m \u001b[0;31m# Train a DT classifier\u001b[0m\u001b[0;34m\u001b[0m\u001b[0;34m\u001b[0m\u001b[0;34m\u001b[0m\u001b[0m\n\u001b[1;32m      2\u001b[0m \u001b[0mclassifier\u001b[0m \u001b[0;34m=\u001b[0m \u001b[0mDecisionTreeClassifier\u001b[0m\u001b[0;34m(\u001b[0m\u001b[0mrandom_state\u001b[0m\u001b[0;34m=\u001b[0m\u001b[0;36m10\u001b[0m\u001b[0;34m)\u001b[0m\u001b[0;34m\u001b[0m\u001b[0;34m\u001b[0m\u001b[0m\n\u001b[0;32m----> 3\u001b[0;31m \u001b[0mclassifier\u001b[0m\u001b[0;34m.\u001b[0m\u001b[0mfit\u001b[0m\u001b[0;34m(\u001b[0m\u001b[0mX_train\u001b[0m\u001b[0;34m,\u001b[0m \u001b[0my_train\u001b[0m\u001b[0;34m)\u001b[0m\u001b[0;34m\u001b[0m\u001b[0;34m\u001b[0m\u001b[0m\n\u001b[0m",
      "\u001b[0;32m~/opt/anaconda3/envs/learn-env/lib/python3.6/site-packages/sklearn/tree/tree.py\u001b[0m in \u001b[0;36mfit\u001b[0;34m(self, X, y, sample_weight, check_input, X_idx_sorted)\u001b[0m\n\u001b[1;32m    814\u001b[0m             \u001b[0msample_weight\u001b[0m\u001b[0;34m=\u001b[0m\u001b[0msample_weight\u001b[0m\u001b[0;34m,\u001b[0m\u001b[0;34m\u001b[0m\u001b[0;34m\u001b[0m\u001b[0m\n\u001b[1;32m    815\u001b[0m             \u001b[0mcheck_input\u001b[0m\u001b[0;34m=\u001b[0m\u001b[0mcheck_input\u001b[0m\u001b[0;34m,\u001b[0m\u001b[0;34m\u001b[0m\u001b[0;34m\u001b[0m\u001b[0m\n\u001b[0;32m--> 816\u001b[0;31m             X_idx_sorted=X_idx_sorted)\n\u001b[0m\u001b[1;32m    817\u001b[0m         \u001b[0;32mreturn\u001b[0m \u001b[0mself\u001b[0m\u001b[0;34m\u001b[0m\u001b[0;34m\u001b[0m\u001b[0m\n\u001b[1;32m    818\u001b[0m \u001b[0;34m\u001b[0m\u001b[0m\n",
      "\u001b[0;32m~/opt/anaconda3/envs/learn-env/lib/python3.6/site-packages/sklearn/tree/tree.py\u001b[0m in \u001b[0;36mfit\u001b[0;34m(self, X, y, sample_weight, check_input, X_idx_sorted)\u001b[0m\n\u001b[1;32m    128\u001b[0m         \u001b[0mrandom_state\u001b[0m \u001b[0;34m=\u001b[0m \u001b[0mcheck_random_state\u001b[0m\u001b[0;34m(\u001b[0m\u001b[0mself\u001b[0m\u001b[0;34m.\u001b[0m\u001b[0mrandom_state\u001b[0m\u001b[0;34m)\u001b[0m\u001b[0;34m\u001b[0m\u001b[0;34m\u001b[0m\u001b[0m\n\u001b[1;32m    129\u001b[0m         \u001b[0;32mif\u001b[0m \u001b[0mcheck_input\u001b[0m\u001b[0;34m:\u001b[0m\u001b[0;34m\u001b[0m\u001b[0;34m\u001b[0m\u001b[0m\n\u001b[0;32m--> 130\u001b[0;31m             \u001b[0mX\u001b[0m \u001b[0;34m=\u001b[0m \u001b[0mcheck_array\u001b[0m\u001b[0;34m(\u001b[0m\u001b[0mX\u001b[0m\u001b[0;34m,\u001b[0m \u001b[0mdtype\u001b[0m\u001b[0;34m=\u001b[0m\u001b[0mDTYPE\u001b[0m\u001b[0;34m,\u001b[0m \u001b[0maccept_sparse\u001b[0m\u001b[0;34m=\u001b[0m\u001b[0;34m\"csc\"\u001b[0m\u001b[0;34m)\u001b[0m\u001b[0;34m\u001b[0m\u001b[0;34m\u001b[0m\u001b[0m\n\u001b[0m\u001b[1;32m    131\u001b[0m             \u001b[0my\u001b[0m \u001b[0;34m=\u001b[0m \u001b[0mcheck_array\u001b[0m\u001b[0;34m(\u001b[0m\u001b[0my\u001b[0m\u001b[0;34m,\u001b[0m \u001b[0mensure_2d\u001b[0m\u001b[0;34m=\u001b[0m\u001b[0;32mFalse\u001b[0m\u001b[0;34m,\u001b[0m \u001b[0mdtype\u001b[0m\u001b[0;34m=\u001b[0m\u001b[0;32mNone\u001b[0m\u001b[0;34m)\u001b[0m\u001b[0;34m\u001b[0m\u001b[0;34m\u001b[0m\u001b[0m\n\u001b[1;32m    132\u001b[0m             \u001b[0;32mif\u001b[0m \u001b[0missparse\u001b[0m\u001b[0;34m(\u001b[0m\u001b[0mX\u001b[0m\u001b[0;34m)\u001b[0m\u001b[0;34m:\u001b[0m\u001b[0;34m\u001b[0m\u001b[0;34m\u001b[0m\u001b[0m\n",
      "\u001b[0;32m~/opt/anaconda3/envs/learn-env/lib/python3.6/site-packages/sklearn/utils/validation.py\u001b[0m in \u001b[0;36mcheck_array\u001b[0;34m(array, accept_sparse, accept_large_sparse, dtype, order, copy, force_all_finite, ensure_2d, allow_nd, ensure_min_samples, ensure_min_features, warn_on_dtype, estimator)\u001b[0m\n\u001b[1;32m    494\u001b[0m             \u001b[0;32mtry\u001b[0m\u001b[0;34m:\u001b[0m\u001b[0;34m\u001b[0m\u001b[0;34m\u001b[0m\u001b[0m\n\u001b[1;32m    495\u001b[0m                 \u001b[0mwarnings\u001b[0m\u001b[0;34m.\u001b[0m\u001b[0msimplefilter\u001b[0m\u001b[0;34m(\u001b[0m\u001b[0;34m'error'\u001b[0m\u001b[0;34m,\u001b[0m \u001b[0mComplexWarning\u001b[0m\u001b[0;34m)\u001b[0m\u001b[0;34m\u001b[0m\u001b[0;34m\u001b[0m\u001b[0m\n\u001b[0;32m--> 496\u001b[0;31m                 \u001b[0marray\u001b[0m \u001b[0;34m=\u001b[0m \u001b[0mnp\u001b[0m\u001b[0;34m.\u001b[0m\u001b[0masarray\u001b[0m\u001b[0;34m(\u001b[0m\u001b[0marray\u001b[0m\u001b[0;34m,\u001b[0m \u001b[0mdtype\u001b[0m\u001b[0;34m=\u001b[0m\u001b[0mdtype\u001b[0m\u001b[0;34m,\u001b[0m \u001b[0morder\u001b[0m\u001b[0;34m=\u001b[0m\u001b[0morder\u001b[0m\u001b[0;34m)\u001b[0m\u001b[0;34m\u001b[0m\u001b[0;34m\u001b[0m\u001b[0m\n\u001b[0m\u001b[1;32m    497\u001b[0m             \u001b[0;32mexcept\u001b[0m \u001b[0mComplexWarning\u001b[0m\u001b[0;34m:\u001b[0m\u001b[0;34m\u001b[0m\u001b[0;34m\u001b[0m\u001b[0m\n\u001b[1;32m    498\u001b[0m                 raise ValueError(\"Complex data not supported\\n\"\n",
      "\u001b[0;32m~/opt/anaconda3/envs/learn-env/lib/python3.6/site-packages/numpy/core/numeric.py\u001b[0m in \u001b[0;36masarray\u001b[0;34m(a, dtype, order)\u001b[0m\n\u001b[1;32m    536\u001b[0m \u001b[0;34m\u001b[0m\u001b[0m\n\u001b[1;32m    537\u001b[0m     \"\"\"\n\u001b[0;32m--> 538\u001b[0;31m     \u001b[0;32mreturn\u001b[0m \u001b[0marray\u001b[0m\u001b[0;34m(\u001b[0m\u001b[0ma\u001b[0m\u001b[0;34m,\u001b[0m \u001b[0mdtype\u001b[0m\u001b[0;34m,\u001b[0m \u001b[0mcopy\u001b[0m\u001b[0;34m=\u001b[0m\u001b[0;32mFalse\u001b[0m\u001b[0;34m,\u001b[0m \u001b[0morder\u001b[0m\u001b[0;34m=\u001b[0m\u001b[0morder\u001b[0m\u001b[0;34m)\u001b[0m\u001b[0;34m\u001b[0m\u001b[0;34m\u001b[0m\u001b[0m\n\u001b[0m\u001b[1;32m    539\u001b[0m \u001b[0;34m\u001b[0m\u001b[0m\n\u001b[1;32m    540\u001b[0m \u001b[0;34m\u001b[0m\u001b[0m\n",
      "\u001b[0;31mValueError\u001b[0m: could not convert string to float: 'JA541080'"
     ]
    }
   ],
   "source": [
    "# Train a DT classifier\n",
    "classifier = DecisionTreeClassifier(random_state=10)  \n",
    "classifier.fit(X_train, y_train) "
   ]
  },
  {
   "cell_type": "code",
   "execution_count": null,
   "metadata": {},
   "outputs": [],
   "source": [
    "# Make predictions for test data\n",
    "y_pred = classifier.predict(X_test) "
   ]
  },
  {
   "cell_type": "code",
   "execution_count": null,
   "metadata": {},
   "outputs": [],
   "source": [
    "# Calculate accuracy \n",
    "acc = accuracy_score(y_test,y_pred) * 100\n",
    "print('Accuracy is :{0}'.format(acc))\n",
    "\n",
    "# Check the AUC for predictions\n",
    "false_positive_rate, true_positive_rate, thresholds = roc_curve(y_test, y_pred)\n",
    "roc_auc = auc(false_positive_rate, true_positive_rate)\n",
    "print('\\nAUC is :{0}'.format(round(roc_auc, 2)))\n",
    "\n",
    "# Create and print a confusion matrix \n",
    "print('\\nConfusion Matrix')\n",
    "print('----------------')\n",
    "pd.crosstab(y_test, y_pred, rownames=['True'], colnames=['Predicted'], margins=True)"
   ]
  },
  {
   "cell_type": "code",
   "execution_count": null,
   "metadata": {},
   "outputs": [],
   "source": [
    "## Logistic Regression in scikit-learn\n"
   ]
  }
 ],
 "metadata": {
  "kernelspec": {
   "display_name": "Python 3",
   "language": "python",
   "name": "python3"
  },
  "language_info": {
   "codemirror_mode": {
    "name": "ipython",
    "version": 3
   },
   "file_extension": ".py",
   "mimetype": "text/x-python",
   "name": "python",
   "nbconvert_exporter": "python",
   "pygments_lexer": "ipython3",
   "version": "3.6.9"
  }
 },
 "nbformat": 4,
 "nbformat_minor": 2
}
